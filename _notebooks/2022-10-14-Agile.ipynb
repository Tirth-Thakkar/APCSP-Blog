{
 "cells": [
  {
   "attachments": {},
   "cell_type": "markdown",
   "metadata": {},
   "source": [
    "# Agile Methodology\n",
    "> Agile Methodology For Team Flask Assignment\n",
    "\n",
    "- title: Agile Methodology\n",
    "- toc: true\n",
    "- branch: master\n",
    "- comments: true\n",
    "- image: images/Agile-Logo.png\n",
    "- tags: [Agile, week11]"
   ]
  },
  {
   "cell_type": "markdown",
   "metadata": {},
   "source": [
    "![Agile](https://github.com/Tirth-Thakkar/APCSP-Blog/blob/master/images/Agile.png?raw=true)"
   ]
  }
 ],
 "metadata": {
  "kernelspec": {
   "display_name": "Python 3.10.6 64-bit",
   "language": "python",
   "name": "python3"
  },
  "language_info": {
   "name": "python",
   "version": "3.10.6 (main, Nov  2 2022, 18:53:38) [GCC 11.3.0]"
  },
  "orig_nbformat": 4,
  "vscode": {
   "interpreter": {
    "hash": "916dbcbb3f70747c44a77c7bcd40155683ae19c65e1c03b4aa3499c5328201f1"
   }
  }
 },
 "nbformat": 4,
 "nbformat_minor": 2
}
