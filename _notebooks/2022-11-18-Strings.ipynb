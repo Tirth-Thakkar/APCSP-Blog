{
 "cells": [
  {
   "cell_type": "markdown",
   "metadata": {},
   "source": [
    "# Strings Lesson\n",
    "> Lesson on Strings from Collegeboard  \n",
    "- title: Strings - 3.4\n",
    "- toc: true\n",
    "- comments: true\n",
    "- categories: [strings, 3.4]"
   ]
  },
  {
   "cell_type": "markdown",
   "metadata": {},
   "source": [
    "# Strings\n",
    "What is a string?\n",
    "- A string is a collection of charecters. What is a charector as charector can be anything from numbers, letters, spaces, special symbols, etc. \n",
    "- Certain procedures may be used with strings and they vary from progaramming language to language\n",
    "Python examples \n",
    "- len() to find the length of a string\n",
    "- lower() to converte to lowercase\n",
    "- etc. \n",
    "Psuedocode examples \n",
    "- len() returns the lengh of a string \n",
    "- concat() returns a string made up of the concatenated strings ex. concat(\"string1\", \"string2\") would return string1string2\n",
    "- substring() returns the charectors from the string beginning at the at the first position to the last so an example of this would be substring(\"abcdefghijk\", 2, 5) would print bcde (puesdocode starts at 1)"
   ]
  },
  {
   "cell_type": "markdown",
   "metadata": {},
   "source": [
    "# String Concatenation\n",
    "What is string concatenation?\n",
    "- String concatenation is combining 2 or more strings to make a new strings in order to create a new string \n",
    "- concat() in pusedocode and varys from language to language can be used to combine to strings such as concat(\"cookie\",\"monster\") returns cookiemonster "
   ]
  },
  {
   "cell_type": "markdown",
   "metadata": {},
   "source": [
    "# Substings \n",
    "What is a substring?\n",
    "- A substring is a part of and already existing string.\n",
    "- In psuedocode substring() method is used for instance for concat(\"Mr.Mortenson is very handsome\" 1, 2) the system would return Mr (remember that pusedocode starts at 1)"
   ]
  },
  {
   "cell_type": "markdown",
   "metadata": {},
   "source": [
    "# Hacks \n",
    "- Complete the following examples by either filling in the blanks or giving the result"
   ]
  },
  {
   "cell_type": "markdown",
   "metadata": {},
   "source": [
    "# Example 1\n",
    "Noun = \"Mr.Mortenson\"\n",
    "Adjective = \"handsome\"\n",
    "Adjective2 = \"Very\"\n",
    "Verb = \"is\"\n",
    "abrev = subtring(Noun, 1, 7)\n",
    "yoda = concat(Adjective2, \" \", Adjective, \" \", abrev, \" \",Verb, \".\")\n",
    "DISPLAY {yoda}"
   ]
  },
  {
   "cell_type": "markdown",
   "metadata": {},
   "source": [
    "# Example 2\n",
    "cookie = \"choclate\"\n",
    "cookie2 = \"rasin\"\n",
    "len1 = \"cookie/2\"\n",
    "len2 = \"cookie2*45\"\n",
    "vote1 = (\"cookie\", \"vote\", \"len2\")\n",
    "vote2  = (\"cookie2\", \"vote\", \"len1\")\n",
    "votes = (concat(vote1, \" \", vote2))\n",
    "display {votes}"
   ]
  },
  {
   "cell_type": "markdown",
   "metadata": {},
   "source": [
    "# Disclaimer\n",
    "Work in progress more hack problems for practice will be available on presentation day"
   ]
  }
 ],
 "metadata": {
  "kernelspec": {
   "display_name": "Python 3.9.12 ('base')",
   "language": "python",
   "name": "python3"
  },
  "language_info": {
   "name": "python",
   "version": "3.9.12"
  },
  "orig_nbformat": 4,
  "vscode": {
   "interpreter": {
    "hash": "c01fa961529e9daabe8f923baaa66cec9a05e87366ddea10e0ca4d35fb3358df"
   }
  }
 },
 "nbformat": 4,
 "nbformat_minor": 2
}
