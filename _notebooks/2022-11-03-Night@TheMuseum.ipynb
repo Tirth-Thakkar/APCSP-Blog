{
 "cells": [
  {
   "cell_type": "markdown",
   "metadata": {},
   "source": [
    "# Night @ the Museum\n",
    "> Night @ the Museum - Presentations\n",
    "- title: Night @ the Museum\n",
    "- toc: true\n",
    "- comments: true\n",
    "- permalink: /Night@TheMuseum\n",
    "- image: images/Night@Museum.jpg\n",
    "- categories: [Final, API]"
   ]
  },
  {
   "cell_type": "markdown",
   "metadata": {},
   "source": [
    "## API Final Projects\n",
    "Throughout this Trimester many groups of students have worked hard to display the full course of their understading via there Night at the Museum Project, however, we as group throughout the development process may have focused on our project, we gained the ability to reflect based on the outstanding work that many groups have down also showcasing their learning. These are my personal notes on the that they presented at Night at the Museum. "
   ]
  },
  {
   "cell_type": "markdown",
   "metadata": {},
   "source": [
    "## Api Notes\n",
    "Alan, Steven, Ederick, Noor, Liav  - calendar that shows date and weather, can put in an event on any day and it saves, can search for any city weather\n",
    "\n",
    "Luke - Has a variety of quizzes to choose from to use them to generate random questions, geography, math, and sat questions. About pages linkes to eveyone fastpages.\n",
    "\n",
    "Paaras, Samarth, AJ, Haoxuan - An api that grabs some of the best of best motivational qoutes from the internet, and allows users to vote on the quality of the votes through hosting a number counter. Also are able to pulled to get a random qoutes.\n",
    "\n",
    "Peacock Justin, James, Shruti, Joslyn - recreation of the classic game tetris, and through the use of astronomy api to create table based on the city name and gives location details longitude latitude and moon traits.\n",
    "\n",
    "Advay, Krishiv, Shivansh, Dhruva, Prasith - Motivational qputes api to curate qoutes accross the internet, and heleaps pepple calculate goals and calories, BMI calculator, and fitness goals.\n",
    "\n",
    "Jonathan, Martin, Abdulla, Leonard - Basketball stats of each NBA team, used an api to get the stats fpr each team and through thier website made it accesable to the user with ease.\n",
    "\n",
    "Lyntax  Aniket, Soham, Ryan, Lucas - One api with a dictionary hosted on a flask server that has words and definitions so users can imput it against a word. Which serves to play a hangman game. Which also eliminates letters and dynamically renders the charector. \n",
    "\n",
    "Ananya, Sreeja, Aliya, Clair - Wordle game that uses thier custom api that imports and uses it randomly uses it to generate a game. Also checks if words are valid are not and informs the user if they are incorrect or not. \n",
    "\n",
    "Raunak, Tanay, Yuri, Sachit, Harsha - Clock alarm and stopwatch, using a custom api to request data from a variety of time of timezones to display times. \n",
    "\n",
    "Lily, Ekam, Ishi, Shreyas - Uses a custom dictionary api of different words and thier definitions to allow users to find them and a word of the day that changes. Along with a feedback to adapt the user experience. \n",
    "\n",
    "Aiden ahad dash sabine - Innovative api that has games such as tetris, blackjack, cookie clicker, and a pokemon game with custom to log losses wins, correct answers wrong and other game data. \n",
    "\n",
    "The fream team we make code with varalu azeem chubmag and colin, we made and acedemic organizer, with a custom api that fetches information predominantly wikipedia and stores the data to make an acedmic organizer\n",
    "\n",
    "Devon, trent, drew, jager - Made custom api to conpare likes to dislikes to pull it as an alarm for a stopwatch is able to manage your workflow through several options, such as notifications, that can keep you on track, and set break intervals, and tasks\n",
    "\n",
    "Keira, Zeen, Ellie, Giannina - Made custom custmoer survey along with a quiz that has three different quizzes for calculus, physics, and satstics, with soultion with randomized questions from a database. Along with a quiz summary and a customer service api that prompts users woth questions saving them to a data base. Along with an explanation to show how the problems you missed could be solved."
   ]
  },
  {
   "cell_type": "markdown",
   "metadata": {},
   "source": [
    "## Reflections\n",
    "In my opinion this showcases the vast strides many students inclusing myself have made this trimester, with coming from barely understanding any CS concepts prior to this class have been able to grow and develop to make a large variety of projects based apon their understanding of APIs, CSS, HTML, Fastpages, and Python. From creating projcts like ours via games, from Pokemon, Tetris, to other educational tools like quizzes on wide variety of topics or other tools like health trackers, and calanders everyone showcased an amount of growth one may not think possible in **just one trimester**. "
   ]
  }
 ],
 "metadata": {
  "language_info": {
   "name": "python"
  },
  "orig_nbformat": 4
 },
 "nbformat": 4,
 "nbformat_minor": 2
}
