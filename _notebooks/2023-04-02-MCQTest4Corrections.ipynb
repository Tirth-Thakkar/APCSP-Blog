{
 "cells": [
  {
   "attachments": {},
   "cell_type": "markdown",
   "metadata": {},
   "source": [
    "# MCQ Test 4 Corrections\n",
    "> Corrections and reflection on missed questions\n",
    "- toc: true\n",
    "- categories: [week28]\n",
    "- type: ap\n",
    "- week: 28"
   ]
  },
  {
   "attachments": {},
   "cell_type": "markdown",
   "metadata": {},
   "source": [
    "## Score\n",
    "![Score](https://github.com/Tirth-Thakkar/APCSP-Blog/blob/master/images/MCQTest4.png?raw=true)\n",
    "- I achieved a score of 47/50 getting a 94% on the test through missing 3 questions.\n",
    "\n",
    "## Incorrect Answer 1\n",
    "![I1](https://github.com/Tirth-Thakkar/APCSP-Blog/blob/master/images/MCQTest4R1.png?raw=true)\n",
    "- I misunderstood the nature of the sorting and didn't understand that by combining the lists after they have both been individually sorted the final list would be sorted but this is not the case. Thus the correct answer must be C to combine then sort the list. \n",
    "\n",
    "## Incorrect Answer 2\n",
    "![I2](https://github.com/Tirth-Thakkar/APCSP-Blog/blob/master/images/MCQTest4R2.png?raw=true)\n",
    "- Through not being careful and reading the response properly I accidentally selected an option where there would still be a loss of data. So the correct answer must have been C as it was the only option that would not lose any data while transforming the images. \n",
    "\n",
    "## Incorrect Answer 3\n",
    "![I3](https://github.com/Tirth-Thakkar/APCSP-Blog/blob/master/images/MCQTest4R3.png?raw=true)\n",
    "- Didn't realize that with my selection the last score will not be compared and the loop will be prematurely terminated thus failing to be fulfill. The correct answer must be A as as it is the only one that can find the actual maximum score.\n"
   ]
  }
 ],
 "metadata": {
  "language_info": {
   "name": "python"
  },
  "orig_nbformat": 4
 },
 "nbformat": 4,
 "nbformat_minor": 2
}
