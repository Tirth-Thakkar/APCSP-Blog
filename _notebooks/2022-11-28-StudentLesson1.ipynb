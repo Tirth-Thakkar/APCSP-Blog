{
 "cells": [
  {
   "attachments": {},
   "cell_type": "markdown",
   "metadata": {},
   "source": [
    "# Variables Lesson\n",
    "> Lesson on variables from Collegeboard  \n",
    "- title: Variables Notes Section 1-2\n",
    "- toc: true\n",
    "- comments: true\n",
    "- tags: [week14, chapter3]"
   ]
  },
  {
   "cell_type": "markdown",
   "metadata": {},
   "source": [
    "# Variables \n",
    "- Variables is an abtraction which holds a value\n",
    "- Organizes data by labeling with a name\n",
    "- Names help readibility and allow to understand what it represents "
   ]
  },
  {
   "cell_type": "markdown",
   "metadata": {},
   "source": [
    "# Do's and Don'ts\n",
    "- Keep them simple don't make them too complex\n",
    "- Seperare words with capital letters for readibility\n",
    "- Make them not too generic to allow understandabililty\n",
    "- No spaces\n",
    "- No dashes and numbers \n"
   ]
  },
  {
   "cell_type": "markdown",
   "metadata": {},
   "source": [
    "# Types\n",
    "- Integer: Number\n",
    "- String: words/charectors\n",
    "- Boolean: True/False\n",
    "- List can also be stored in variables to allow values to be retrieved and changed easily"
   ]
  },
  {
   "cell_type": "markdown",
   "metadata": {},
   "source": [
    "# Assignments\n",
    "Used to change the values that are being represented by a variable \n",
    "- = Assigns value to the operand \n",
    "- += Adds right to left\n",
    "- -= Subtracts left from right\n",
    "- *= multiplies right with left\n",
    "- /= Divided left with right\n",
    "- **= Raised left to the right power"
   ]
  },
  {
   "cell_type": "code",
   "execution_count": 1,
   "metadata": {},
   "outputs": [
    {
     "name": "stdout",
     "output_type": "stream",
     "text": [
      "9\n",
      "9\n"
     ]
    }
   ],
   "source": [
    "# Sample problem 1 \n",
    "num1 = 5\n",
    "num2 = 9\n",
    "num1 = num2\n",
    "\n",
    "print(num1)\n",
    "print(num2)"
   ]
  },
  {
   "cell_type": "code",
   "execution_count": 2,
   "metadata": {},
   "outputs": [
    {
     "name": "stdout",
     "output_type": "stream",
     "text": [
      "42\n",
      "42\n",
      "15\n"
     ]
    }
   ],
   "source": [
    "# Sample Problem 2\n",
    "num1 = 15\n",
    "num2 = 25\n",
    "num3 = 42\n",
    "num2 = num3\n",
    "num3 = num1\n",
    "num1 = num2\n",
    "\n",
    "print(num1)\n",
    "print(num2)\n",
    "print(num3)"
   ]
  },
  {
   "cell_type": "code",
   "execution_count": 3,
   "metadata": {},
   "outputs": [
    {
     "name": "stdout",
     "output_type": "stream",
     "text": [
      "42\n",
      "84\n",
      "4284\n",
      "126\n"
     ]
    }
   ],
   "source": [
    "# Sample problem 3 \n",
    "num2 += num1\n",
    "print(num1)\n",
    "print(num2)\n",
    "\n",
    "print(str(num1)+ str(num2))\n",
    "print(num1 + num2)"
   ]
  },
  {
   "cell_type": "markdown",
   "metadata": {},
   "source": [
    "# Data Abstraction \n",
    "- Used to represent data usefully, takes away things that aren't usefull at the moment \n",
    "- Done through variables and lists (mostly)\n",
    "- Seperates abstract properties and concrete properties"
   ]
  },
  {
   "cell_type": "markdown",
   "metadata": {},
   "source": [
    "# Lists and Strings\n",
    "- A list is a sequence of elements \n",
    "- An element is an individual value that is assignmed to a unique indec\n",
    "- An index is a way to reference elements in a list or string through natural numbers \n",
    "- A String is an ordered sequence of characters \n",
    "- Indexes start at 1, are whole numbers, and cannot be negative  "
   ]
  },
  {
   "cell_type": "markdown",
   "metadata": {},
   "source": [
    "# Mangaing Complexity \n",
    "- Data abstraction helps mangae complexity in programs by assigning a collection of data name without refrencing specific details of the represenation\n",
    "- Using data abrastraction can be used in a program that can be used to make a program that is easier to develop and maintain  "
   ]
  },
  {
   "cell_type": "code",
   "execution_count": 6,
   "metadata": {},
   "outputs": [
    {
     "name": "stdout",
     "output_type": "stream",
     "text": [
      "green\n",
      "red\n",
      "pink\n",
      "purple\n",
      "blue\n",
      "brown\n",
      "green\n",
      "red\n",
      "pink\n",
      "purple\n",
      "blue\n",
      "brown\n"
     ]
    }
   ],
   "source": [
    "# Data Abstraction Practice \n",
    "\n",
    "color1=\"green\"\n",
    "color2=\"red\"\n",
    "color3=\"pink\"\n",
    "color4=\"purple\"\n",
    "color5=\"blue\"\n",
    "color6=\"brown\"\n",
    "\n",
    "print(color1)\n",
    "print(color2)\n",
    "print(color3)\n",
    "print(color4)\n",
    "print(color5)\n",
    "print(color6)\n",
    "\n",
    "colors = [\"green\", \"red\", \"pink\", \"purple\", \"blue\", \"brown\"]\n",
    "for color in colors:\n",
    "    print(color)"
   ]
  },
  {
   "cell_type": "markdown",
   "metadata": {},
   "source": [
    "# Homework"
   ]
  },
  {
   "cell_type": "code",
   "execution_count": 9,
   "metadata": {},
   "outputs": [
    {
     "name": "stdout",
     "output_type": "stream",
     "text": [
      "What is grouping often used commands called?\n",
      "Your answer false doesn't equal the correct answer/s which is procedural abstraction\n",
      "In Jupyter Notebooks the Input is in line with the Output\n",
      "Your answer false is the correct correct\n",
      "What is the keyword for defining a function in Python?\n",
      "Your answer flase doesn't equal the correct answer/s which is def()\n",
      "Dynamic code is code that has inputs and outputs that can change?\n",
      "Your answer false doesn't equal the correct answer/s which is true\n"
     ]
    }
   ],
   "source": [
    "Q_Bank = [\n",
    "    \"Dynamic code is code that has inputs and outputs that can change?\",\n",
    "    \"What is the keyword for defining a function in Python?\",\n",
    "    \"In Jupyter Notebooks the Input is in line with the Output\",\n",
    "    \"What is grouping often used commands called?\",\n",
    "]\n",
    "\n",
    "Ans = [\n",
    "    \"true\",\n",
    "    \"def()\",\n",
    "    \"false\",\n",
    "    \"procedural abstraction\",\n",
    "]\n",
    "n = len(Q_Bank)\n",
    "for question in Q_Bank:\n",
    "    n = n-1\n",
    "    print(Q_Bank[n])\n",
    "    rsp = input(Q_Bank[n])\n",
    "    if rsp.strip().lower() == Ans[n]:\n",
    "        print(\"Your answer \" + str(rsp)+\" is the correct correct\")\n",
    "    else:\n",
    "        print(\"Your answer \" + str(rsp) + \" doesn't equal the correct answer/s which is \" + str(Ans[n]))\n"
   ]
  }
 ],
 "metadata": {
  "kernelspec": {
   "display_name": "Python 3.9.12 ('base')",
   "language": "python",
   "name": "python3"
  },
  "language_info": {
   "codemirror_mode": {
    "name": "ipython",
    "version": 3
   },
   "file_extension": ".py",
   "mimetype": "text/x-python",
   "name": "python",
   "nbconvert_exporter": "python",
   "pygments_lexer": "ipython3",
   "version": "3.9.12 (main, Apr  5 2022, 06:56:58) \n[GCC 7.5.0]"
  },
  "orig_nbformat": 4,
  "vscode": {
   "interpreter": {
    "hash": "c01fa961529e9daabe8f923baaa66cec9a05e87366ddea10e0ca4d35fb3358df"
   }
  }
 },
 "nbformat": 4,
 "nbformat_minor": 2
}
