{
 "cells": [
  {
   "attachments": {},
   "cell_type": "markdown",
   "metadata": {},
   "source": [
    "# Quiz\n",
    "> Quiz Made With App Lab On Code.org\n",
    "- title: App Lab Quiz  \n",
    "- toc: true\n",
    "- comments: true\n",
    "- image: images/Code.png\n",
    "- tags: [week3]\n",
    "- categories: [week3]"
   ]
  },
  {
   "cell_type": "markdown",
   "metadata": {},
   "source": [
    "### Design\n",
    "- To create a quiz with a unified visual aesthetic with colors that look appealing when used in unison.\n",
    "- To create a quiz that can have a combination of both free response and multiple choice questions.\n",
    "- To create a quiz that can be replayed indefinitely and still have scoring function. \n",
    "- To create a quiz that can be added to have multiple modes. "
   ]
  },
  {
   "cell_type": "markdown",
   "metadata": {},
   "source": [
    "![App_Lab](https://github.com/Tirth-Thakkar/APCSP-Blog/blob/master/images/App_Lab.png?raw=true)"
   ]
  },
  {
   "cell_type": "markdown",
   "metadata": {},
   "source": [
    "### Successes\n",
    "- Was able to make a quiz that could be looped through the use of functions to restart the quiz using functions to rerun the quiz to remove previous runs when replayed. \n",
    "- Was able to create an appealing visual design. \n",
    "- Was able to create multiple modes without losing functionality of any aspect. (Second Quiz is only present to show case the capability of running multiple quizzes in one project.) \n",
    "- Was able to have both free response questions and multiple choice, by using if else statements to check the answer of a free response question.\n",
    "- Was able to use functions to remove frequently used code (Data Abstraction). "
   ]
  },
  {
   "cell_type": "markdown",
   "metadata": {},
   "source": [
    "### Discoveries/Challenges\n",
    "- Had issues with the first implementation of looping with the functions not working correctly on the first implementation. Allowed me to discover to make a function to allow for ending as the ending procedure wasn't present on all endings for the question both right and incorrect answer. \n",
    "- Had issues with creating a scoring system that was consistently functional, simplified the scoring mechanism by using a single variable as a way to measure the correctly answered questions.\n",
    "- Had issues with starting the quizzes the quiz looped around. Which allowed me to to discover a solution to run all quiz functions as soon as mouse movement was detected on starting page allowing all functionalities of all quizzes present to work.  "
   ]
  },
  {
   "cell_type": "markdown",
   "metadata": {},
   "source": [
    "### Link To Quiz\n",
    "https://studio.code.org/projects/applab/aTaquZIk5sKMfBZVcUUP8UvuTu6kamc1SIQgFcscyRE"
   ]
  }
 ],
 "metadata": {
  "kernelspec": {
   "display_name": "Python 3.10.4 64-bit",
   "language": "python",
   "name": "python3"
  },
  "language_info": {
   "name": "python",
   "version": "3.10.6 (main, Nov 14 2022, 16:10:14) [GCC 11.3.0]"
  },
  "orig_nbformat": 4,
  "vscode": {
   "interpreter": {
    "hash": "916dbcbb3f70747c44a77c7bcd40155683ae19c65e1c03b4aa3499c5328201f1"
   }
  }
 },
 "nbformat": 4,
 "nbformat_minor": 2
}
