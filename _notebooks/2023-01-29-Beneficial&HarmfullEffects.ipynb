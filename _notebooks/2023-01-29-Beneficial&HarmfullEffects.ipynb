{
 "cells": [
  {
   "attachments": {},
   "cell_type": "markdown",
   "metadata": {},
   "source": [
    "# Beneficial & Harmful Effects of Computing\n",
    "> A reflection on the beneficial and harmful effects of new innovations in technology and how they shape our society.\n",
    "- title: Beneficial & Harmful Effects of Computing\n",
    "- toc: true\n",
    "- badges: false\n",
    "- tags: [week20]\n",
    "- categories: [week20]"
   ]
  },
  {
   "attachments": {},
   "cell_type": "markdown",
   "metadata": {},
   "source": [
    "## Benefits and Harmful effects of Computing\n",
    "### `Benefits` \n",
    "- Automated systems and technologies have shaped the way we live and operate as individuals in society from the way we research and the way we communicate and interact with each other. \n",
    "    - As a result of revolutionary services and products that have shaped the way we live such as search providers like Yahoo, Google, and Bing with have revolutionized the form in which we do research from having the information available to us from only those available in our local libraries and museums to having access to information from the entire human collective. \n",
    "\n",
    "    - Through the development of technologies such as that of social media such as the rise of early platforms such as MySpace and internet chat rooms that allowed for expression of individuals digitally from across the world to bond over communal interests and issues. These innovations led to the rise of more modern services that fulfill those interests today such as the likes of Twitter, Facebook, Instagram, etc. These platforms allowed repressed groups to share their experiences in a manner where they would otherwise have been unable championing the rise of movements such as the MeToo movement for sexual harassment or bring awareness to racial and police violence.\n",
    "\n",
    "    - Through the creation of services such as Tor which provide for users to have greater anonymity through the creation of a network of relays that allow for users to access the internet without having their IP address revealed. This has allowed for users to have greater freedom of speech and expression without fear of retribution from governments or other entities. Which allows for government whistleblowers to showcase corruption and other illegal activities at play without fear of retribution, and communications to media outlets from those being targeted by criminal groups or those with inside information on the matter allowing for those individuals to be protected from harm.\n",
    "\n",
    "### `Harmful Effects`\n",
    "- There may have been major changes to the way we live and operate within our day to day lives or the way the world as we know it can exist. These technologies created their own harmful effects from alternative methods of using these technologies.\n",
    "\n",
    "    - Harmful effects of technologies such as that of Google Search, Bing, and other web tools has been the spread of misinformation through the inability to filter the mass volume of content being produced serving to misinform and mislead those who follow such outlets. Further issues present include the proliferation of malware ridden advertisements serving to mislead and harm vulnerable individuals through the focus on maximizing profits without properly filtering disingenuous actors. \n",
    "    \n",
    "    - Harmful effects of social media platforms such as that of Twitter, Facebook, and Instagram have been the spread of misinformation and the spread of hate speech. These platforms have been used to spread misinformation and disinformation to the masses through the use of bots and other automated systems to spread propaganda and misinformation along with spreading hate speech and other forms of discrimination against marginalized groups. These issues have also been compounded with the algorithmic and profit driven structures present in these platforms serving to create echo chambers and filter out opposing views and opinions and creating systems that create unhealthy practices and trends. To further add to misuse of these platforms also serve as an anonymous way to spread illegal content circumventing the moderation on these services as seen in the scandal just a few years prior of child porn circulating on Twitter in such communities.\n",
    "\n",
    "    - Through the creation of such anonymizing systems such as the Tor Network and other such services even though the permit the greater expression of those who would otherwise be unable such services promote those with nefarious and illegitimate motives to allow the proliferation of illegal goods and services. Seen in the creation of services like the Silk Road which resulted in illegal trade of drugs and firearms. Such services can also be for spreading other illegal and unjust services such as child porn and other forms of illegal content.\n",
    "\n",
    "## Dopamine Issues and Technology\n",
    "- Through the creation of services and social media platforms such as the likes of TikTok and Snapchat which are extremely youth focused has resulted in the rise of those who are addicted to such service. As in goals to increase usage attempt to be as addictive as possible to be able sell advertisements and other services along with the nature of these services promoting individuals to be hyperactive online often to their detriment.\n",
    "\n",
    "### `Are domaine issues real?`\n",
    "- First to cover what is Dopamine is neurotransmitter and is involved in the pleasure response of our body and serves to reward activity such as food, clothing, sexual interaction, etc.  \n",
    "\n",
    "- Dopamine issues via social media allows for over-consumption as it adapts a system created for survival against predators and the creation of human bonds and connections. Through social media platforms flooding the brain with dopamine and upon continuos suggesting of content tailored by algorithms specifically for the user, after this dopamine overdose three leads to a deficit in dopamine in the system as it the bodies dopamine levels are unnaturally elevated. Similar to how the body is flooded with extreme quantities of dopamine if one were to face something along the likes of a drug addiction. \n",
    "\n",
    "#### `Dopamine Issues at Del Norte High School`\n",
    "- Similar issues are prevalent at Del Norte High School with it being commonplace for students to record and post their lives online on various social media platforms or use engage on several of those platforms. Causing symptoms such as dopamine over-stimulation and addiction to these platforms which may affect them in a myriad of situation such as school work or otherwise. \n",
    "\n",
    "#### `My Experience`\n",
    "- I personally have never been through such issues in a way where they impacted my life or my success in High School, however, I sympathize with those who have underwent such addictions and struggled to be able to work due to social media pressures or been unable to focus on or perform in school work or tasks. \n",
    "\n",
    "\n"
   ]
  }
 ],
 "metadata": {
  "kernelspec": {
   "display_name": "Python 3",
   "language": "python",
   "name": "python3"
  },
  "language_info": {
   "name": "python",
   "version": "3.10.6 (main, Nov 14 2022, 16:10:14) [GCC 11.3.0]"
  },
  "orig_nbformat": 4,
  "vscode": {
   "interpreter": {
    "hash": "916dbcbb3f70747c44a77c7bcd40155683ae19c65e1c03b4aa3499c5328201f1"
   }
  }
 },
 "nbformat": 4,
 "nbformat_minor": 2
}
