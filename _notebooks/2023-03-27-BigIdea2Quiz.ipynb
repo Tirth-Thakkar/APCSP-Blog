{
 "cells": [
  {
   "attachments": {},
   "cell_type": "markdown",
   "metadata": {},
   "source": [
    "# Big Idea 2 Quiz Corrections\n",
    "> Correcting Mistakes and reflections on the big idea 2 quiz. \n",
    "- toc: true\n",
    "- categories: [week27]\n",
    "- week: 27"
   ]
  },
  {
   "attachments": {},
   "cell_type": "markdown",
   "metadata": {},
   "source": [
    "## Score\n",
    "![Score](https://github.com/Tirth-Thakkar/APCSP-Blog/blob/master/images/BigIdeaScoring.png?raw=true)\n",
    "- I had scored a score 25/25 or 100% on the quiz however there were still some questions that I had some difficulty with.\n",
    "\n",
    "## Reflection Questions\n",
    "![Question1](https://github.com/Tirth-Thakkar/APCSP-Blog/blob/master/images/BigIdeaQuestion1.png?raw=true)\n",
    "- The first question I had some difficulty with was problem one as binary values can be tricky at times however as I realized that as binary is base 2 I was able to plug in 2^value to be able to whittle down the options. \n",
    "\n",
    "![Question2](https://github.com/Tirth-Thakkar/APCSP-Blog/blob/master/images/BigIdeaQuestion25.png?raw=true)\n",
    "- Another question I had some difficulty with was question 25 as again I have difficulties with binary values as when remembering that binary is base 2 and 2^3 power is eight three more digits in binary would increase the value by a power of 8."
   ]
  }
 ],
 "metadata": {
  "language_info": {
   "name": "python"
  },
  "orig_nbformat": 4
 },
 "nbformat": 4,
 "nbformat_minor": 2
}
