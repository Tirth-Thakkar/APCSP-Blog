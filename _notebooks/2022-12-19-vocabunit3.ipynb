{
 "cells": [
  {
   "attachments": {},
   "cell_type": "markdown",
   "metadata": {},
   "source": [
    "# Unit 3 Vocabulary\n",
    "> Vocab For Unit 3\n",
    "- title: Unit 3 Vocabulary\n",
    "- toc: true\n",
    "- badges: false\n",
    "- tags: [chapter3, week16, vocab]\n",
    "- categories: [chapter3, week16, vocab]"
   ]
  },
  {
   "attachments": {},
   "cell_type": "markdown",
   "metadata": {},
   "source": [
    "# Word List\n",
    "\n",
    "`Storing & Manipulating Data`\n",
    "- Variables\n",
    "- Data Types\n",
    "- Assignment Operators\n",
    "\n",
    "`Managing Complexity with Variables`  \n",
    "- Lists\n",
    "- 2D Lists\n",
    "- Dictionaries\n",
    "- Class Algorithms \n",
    "- Sequence \n",
    "- Selection\n",
    "- Iteration\n",
    "\n",
    "`Logical Operations & Decision Making`\n",
    "- Expressions\n",
    "- Comparison Operators\n",
    "- Booleans Expressions and Selection\n",
    "- Booleans Expressions and Iteration\n",
    "- Truth Tables\n",
    "\n",
    "`Strings & String Operations`\n",
    "- Characters\n",
    "- Strings\n",
    "- Length\n",
    "- Concatenation\n",
    "- Upper\n",
    "- Lower\n",
    "- Traversing Strings\n",
    "\n",
    "`Conditional Statements`\n",
    "- Python If\n",
    "- Elif\n",
    "- Else conditionals\n",
    "- Nested Selection Statements\n",
    "\n",
    "`Loops & Iteration`\n",
    "- Python For, \n",
    "- While loops with Range, \n",
    "- List Combining loops with conditionals to Break\n",
    "- Continue\n",
    "\n",
    "`Algorythms`\n",
    "- Procedural Abstraction \n",
    "- Python Def procedures \n",
    "- Parameters \n",
    "- Return Values\n"
   ]
  },
  {
   "attachments": {},
   "cell_type": "markdown",
   "metadata": {},
   "source": [
    "## Variables\n",
    "- Category: Storing & Manipulating Data\n",
    "- Definition: A variable is a named location used to store data in the memory. It is helpful to think of variables as containers that hold information. Its sole purpose is to label and store data in memory. This allows for better organization of the data, and allows the data to be accessed and modified by a reference to an identifier. Variables can also be changed during a program's execution. Variables can be used for storing data of different types, such as numbers, strings, lists, etc. Variables are created when you assign a value to it. The equal sign (=) is used to assign values to variables. The operand to the left of the = operator is the name of the variable and the operand to the right of the = operator is the value stored in the variable. \n",
    "\n",
    "## Variable Code Example"
   ]
  },
  {
   "cell_type": "code",
   "execution_count": 5,
   "metadata": {},
   "outputs": [
    {
     "name": "stdout",
     "output_type": "stream",
     "text": [
      "The area of the rectangle is: 288 square in\n"
     ]
    }
   ],
   "source": [
    "def rectangle_area():\n",
    "    width = int(input(\"Enter the width of the rectangle: \"))\n",
    "    height = int(input(\"Enter the height of the rectangle: \"))\n",
    "    unit = input(\"Enter the unit of measurement: \")\n",
    "    area = width * height\n",
    "    print(f\"The area of the rectangle is: {area} square {unit}\")\n",
    "\n",
    "rectangle_area()\n",
    "\n",
    "# Through assigning variables the program is able to store the \n",
    "# imputted values and use them in the calculation of the area.\n",
    "# The program is also able to print the result of the calculation.\n",
    "# Without variables the program would not be able to store the values\n",
    "# and would not be able to print the result of the calculation."
   ]
  },
  {
   "attachments": {},
   "cell_type": "markdown",
   "metadata": {},
   "source": [
    "## Data Types\n",
    "- Category: Storing & Manipulating Data\n",
    "- Definition: Data types are the classification or categorization of data items. It represents the kind of value that tells what operations can be performed on a particular data. Python has various data types that are used to define the operations possible on them and the storage method for each of them. The data type specifies the size and type of values that can be stored in the variable. The data type of a variable is the type of data that variable can store. For example, a variable of type int can only store integer values. The data type of a variable can be changed during the execution of a program. Python has the following data types built-in by default, in these categories: \n",
    "    - Text Type: str \n",
    "    - Numeric Types: int, float, complex \n",
    "    - Sequence Types: list, tuple, range \n",
    "    - Mapping Type: dict \n",
    "    - Set Types: set, frozenset \n",
    "    - Boolean Type: bool \n",
    "    - Binary Types: bytes, bytearray, and memoryview. \n",
    "- However more the most common data types are Integers, Floats, Strings, Booleans, and Lists/Arrays. `In some programming languages like C, C++, and Java, the data types are explicitly declared. In Python, the data type is automatically inferred from the value assigned to the variable.`\n",
    "\n",
    "## Data Types Code Example"
   ]
  },
  {
   "cell_type": "code",
   "execution_count": 12,
   "metadata": {},
   "outputs": [
    {
     "name": "stdout",
     "output_type": "stream",
     "text": [
      "\n",
      "1 is of <class 'int'>\n",
      "\n",
      "3.14 is of <class 'float'>\n",
      "\n",
      "Hello is of <class 'str'>\n",
      "\n",
      "True is of <class 'bool'>\n",
      "\n",
      "[1, 2, 3] is of <class 'list'>\n",
      "\n",
      "(1, 2, 3) is of <class 'tuple'>\n",
      "\n",
      "{1, 2, 3} is of <class 'set'>\n",
      "\n",
      "{'a': 1, 'b': 2, 'c': 3} is of <class 'dict'>\n"
     ]
    }
   ],
   "source": [
    "Data = [1, 3.14, \"Hello\", True, [1, 2, 3], (1, 2, 3), {1, 2, 3}, {\"a\": 1, \"b\": 2, \"c\": 3}]\n",
    "\n",
    "for datatype in Data:\n",
    "    print(f\"\\n{datatype} is of {type(datatype)}\")\n",
    "\n",
    "# This program showcases the different data types in Python. The program doesn't\n",
    "# contain all the data types in python but illustrates a few of the main ones. \n",
    "# BTW at index 6 in the list is the object is a set, not a dictionary."
   ]
  },
  {
   "attachments": {},
   "cell_type": "markdown",
   "metadata": {},
   "source": [
    "## Assignment Operators\n",
    "- Category: Storing & Manipulating Data\n",
    "- Definition: An assignment statement creates new variables and gives them values. The equal sign (=) is used to assign values to variables. The operand to the left of the = operator is the name of the variable and the operand to the right of the = operator is the value stored in the variable. The assignment operator (=) is used to assign values to variables. The value of the right-hand side of the expression is calculated first and then assigned to the variable on the left-hand side. The assignment operator can also be used to assign the result of any expression to a variable. Other assignment operators in python also include +=, -=, *=, /=, %=, //=, **=, &=, |=, ^=, >>=, <<=, etc. Which are used for addition, subtraction, multiplication, division, modulus, floor division, exponent, bitwise AND, bitwise OR, bitwise XOR, bitwise right shift, bitwise left shift, respectively.\n",
    "\n",
    "## Assignment Operators Code Example"
   ]
  },
  {
   "cell_type": "code",
   "execution_count": 25,
   "metadata": {},
   "outputs": [
    {
     "name": "stdout",
     "output_type": "stream",
     "text": [
      "Oh no the Bubmbler has gotten hold of you your shopping is going to be bumbled!\n",
      "The Bumbler has gotten hold of 6 items beware they will be bumbled!\n",
      "The Bumbler has gotten hold of these items: \n",
      "2 gallons of milk, bottled water, cheese sticks, wallet, car, watch\n",
      "Your bubmbled items are: \n",
      "The bumblers price, The bumblers price, 2 gallons of milk, watch, wallet, The bumblers price\n",
      "You have been bumbled!\n"
     ]
    }
   ],
   "source": [
    "import random \n",
    "\n",
    "def bubmler():\n",
    "    # Variable Declaration\n",
    "    runs = 0\n",
    "    temp_itmes = 0\n",
    "    bundle = []\n",
    "    # Comedic Prints used to make the program more fun\n",
    "    print(\"Oh no the Bubmbler has gotten hold of you your shopping is going to be bumbled!\")\n",
    "    \n",
    "    # User input for the number of items the bumbler has gotten hold of to iterate through\n",
    "    items = int(input(\"How many objects did the bumbler get hold of?\"))\n",
    "    \n",
    "    # Prints the number of items the bumbler has gotten hold of\n",
    "    print(f\"The Bumbler has gotten hold of {items} items beware they will be bumbled!\")\n",
    "    \n",
    "    # The use of the = assignment operator is used to assign the value of items to temp_items\n",
    "    temp_itmes = items\n",
    "    \n",
    "    # Uses the -= operator to decrement the value of temp_items by 1\n",
    "    # The while loop is used to iterate through the number of items the bumbler has gotten hold of\n",
    "    # The input function is used to get the name of the object the bumbler has gotten hold of\n",
    "    while temp_itmes > 0:\n",
    "        ToBeBumbled = input(\"What object did the bumbler get hold of?\")\n",
    "        bundle.append(ToBeBumbled)\n",
    "        temp_itmes -= 1\n",
    "    \n",
    "    # Tells the user what items the bumbler has gotten hold of\n",
    "    print(\"The Bumbler has gotten hold of these items: \")\n",
    "    print(*bundle, sep=\", \")\n",
    "\n",
    "    # Uses random.shuffle to shuffle the items the bumbler has gotten hold of\n",
    "    # Uses random.randint to generate a random number between 0 and the number \n",
    "    # of items the bumbler has gotten hold of and if the number is 3 then the\n",
    "    # bumbler will take the item if the bumbler has taken an item then it \n",
    "    # will be replaced with \"The bumblers price\" and tell the user they have been bumbled\n",
    "    \n",
    "    random.shuffle(bundle)\n",
    "    for bumble in bundle:\n",
    "        if random.randint(0, len(bundle)) == 3:\n",
    "            location = bundle.index(bumble)\n",
    "            bundle[location] = \"The bumblers price\"\n",
    "    print(\"Your bubmbled items are: \")\n",
    "    print(*bundle, sep=\", \")\n",
    "    if \"The bumblers price\" in bundle:\n",
    "        print(\"You have been bumbled!\")\n",
    "\n",
    "bubmler()"
   ]
  },
  {
   "attachments": {},
   "cell_type": "markdown",
   "metadata": {},
   "source": [
    "## Lists\n",
    "- Category: Managing Complexity with Variables\n",
    "- Definition: A list is a collection which is ordered and changeable. In Python lists are written with square brackets. Lists are one of the most versatile data types available in Python which can be written as a list of comma-separated values (items) between square brackets. Important thing about a list is that items do not have to be the same type. ex. list1 = ['physics', 'chemistry', 1997, 2000]; list2 = [1, 2.00, \"butter\", {1, 2, 3}, False ]; list3 = [\"a\", \"b\", \"c\", \"d\"]\n",
    "\n",
    "## Lists Code Example"
   ]
  },
  {
   "cell_type": "code",
   "execution_count": 28,
   "metadata": {},
   "outputs": [
    {
     "name": "stdout",
     "output_type": "stream",
     "text": [
      " violets are blooming this year.\n",
      " roses are blooming this year.\n",
      " poppies are blooming this year.\n"
     ]
    }
   ],
   "source": [
    "def flowers():\n",
    "    # Variable Declaration\n",
    "    flower = \"\"\n",
    "    flower_list = []\n",
    "    # The while loop is used to iterate through the number of flowers the user has\n",
    "    while flower != \"done\":\n",
    "        flower = input(\"Enter a flower (type done to finish): \")\n",
    "        if flower != \"done\":\n",
    "            flower_list.append(flower)\n",
    "    # The for loop is used to iterate through the list of flowers and print them\n",
    "    for flower in flower_list:\n",
    "        print(f\" {flower} are blooming this year.\")\n",
    "flowers()\n",
    "\n",
    "# Creates a list called flower_list then then the user is asked to enter a flower\n",
    "# until they type done. Then a for loop is used to iterate through the list of flowers\n",
    "# and print then print that they are blooming this year. This code could be adapted by \n",
    "# adding a more usefull opeation that could be done to the list. \n",
    "# To see an example that incorperates this see the bumbler program above. "
   ]
  },
  {
   "attachments": {},
   "cell_type": "markdown",
   "metadata": {},
   "source": [
    "## 2D Lists\n",
    "- Category: Managing Complexity with Variables\n",
    "- Definition: 2D Lists also reffered to as matrixes are lists of lists. They are used to store data in a tabular form. For example, a list of lists can be used to store rows and columns of data. Complexity can be manged through the use of 2D lists by storing and being able to manipulate data in a more manageable way for instance it can be stored in a tabular form so for instance you could make it so that a coulum represents a field and a row represents a record. Using these types of lists data can also be categorized in a better manner as it allows you to store related data together. Or for algorithms that require you to stored in a grid like structure such as a maze or a game board, or image processing.\n",
    "\n",
    "## 2D Lists Code Example"
   ]
  },
  {
   "cell_type": "code",
   "execution_count": 7,
   "metadata": {},
   "outputs": [
    {
     "name": "stdout",
     "output_type": "stream",
     "text": [
      "Month Born: DECEMBER\n",
      "Age: 16"
     ]
    }
   ],
   "source": [
    "keyboard = [[\"`\", \"1\", \"2\", \"3\", \"4\", \"5\", \"6\", \"7\", \"8\", \"9\", \"0\", \"-\", \"=\"],\n",
    "            [\"Q\", \"W\", \"E\", \"R\", \"T\", \"Y\", \"U\", \"I\", \"O\", \"P\", \"[\", \"]\"],\n",
    "            [\"A\", \"S\", \"D\", \"F\", \"G\", \"H\", \"J\", \"K\", \"L\", \";\", \"'\"],\n",
    "            [\"Z\", \"X\", \"C\", \"V\", \"B\", \"N\", \"M\", \",\", \".\", \"/\"]]\n",
    "\n",
    "def printer(keyboard):\n",
    "    rsp = input(\"Month: \")\n",
    "    rsp2 = input(\"Age: \")\n",
    "    solve_rsp = \"\" + str(rsp.upper().strip())\n",
    "    solve_rsp2 = \"\" + str(rsp2).strip().upper()\n",
    "\n",
    "    print(\"Month Born:\", end = \" \")\n",
    "    for letter in solve_rsp:\n",
    "        if any(letter in row for row in keyboard):\n",
    "            print(letter, end=\"\")\n",
    "        else: \n",
    "            print(\"You have entered an invalid character\")\n",
    "\n",
    "    print(\"\\nAge:\", end=\" \")        \n",
    "    for letter in solve_rsp2:\n",
    "        if any(letter in row for row in keyboard):\n",
    "            print(letter, end=\"\")\n",
    "        else:\n",
    "            print(\"You have entered an invalid character\")\n",
    "\n",
    "printer(keyboard)\n",
    "\n",
    "# Here is an example of a program that uses a 2d list to store the charectors of the keyboard\n",
    "# The program then asks the user to enter a month and age and then prints the charectors of the\n",
    "# month and age if they are in the keyboard list so for instance if the charectors are not in \n",
    "# the keyboard list it will print not a valid charector. "
   ]
  },
  {
   "cell_type": "code",
   "execution_count": 10,
   "metadata": {},
   "outputs": [
    {
     "name": "stdout",
     "output_type": "stream",
     "text": [
      "Month Born: You have entered an invalid character\n",
      "You have entered an invalid character\n",
      "You have entered an invalid character\n",
      "You have entered an invalid character\n",
      "You have entered an invalid character\n",
      "You have entered an invalid character\n",
      "You have entered an invalid character\n",
      "You have entered an invalid character\n",
      "You have entered an invalid character\n",
      "You have entered an invalid character\n",
      "You have entered an invalid character\n",
      "\n",
      "Age: You have entered an invalid character\n",
      "You have entered an invalid character\n",
      "You have entered an invalid character\n",
      "You have entered an invalid character\n",
      "You have entered an invalid character\n",
      "You have entered an invalid character\n",
      "You have entered an invalid character\n",
      "You have entered an invalid character\n",
      "You have entered an invalid character\n",
      "You have entered an invalid character\n",
      "You have entered an invalid character\n"
     ]
    }
   ],
   "source": [
    "keyboard = [[\"`\", \"1\", \"2\", \"3\", \"4\", \"5\", \"6\", \"7\", \"8\", \"9\", \"0\", \"-\", \"=\"],\n",
    "            [\"Q\", \"W\", \"E\", \"R\", \"T\", \"Y\", \"U\", \"I\", \"O\", \"P\", \"[\", \"]\"],\n",
    "            [\"A\", \"S\", \"D\", \"F\", \"G\", \"H\", \"J\", \"K\", \"L\", \";\", \"'\"],\n",
    "            [\"Z\", \"X\", \"C\", \"V\", \"B\", \"N\", \"M\", \",\", \".\", \"/\"]]\n",
    "\n",
    "def printer(keyboard):\n",
    "    rsp = input(\"Month: \") # Input סֶפּטֶמבֶּר\n",
    "    rsp2 = input(\"Age: \") # Input חמישים וחמש\n",
    "    solve_rsp = \"\" + str(rsp.upper().strip())\n",
    "    solve_rsp2 = \"\" + str(rsp2).strip().upper()\n",
    "\n",
    "    print(\"Month Born:\", end = \" \")\n",
    "    for letter in solve_rsp:\n",
    "        if any(letter in row for row in keyboard):\n",
    "            print(letter, end=\"\")\n",
    "        else: \n",
    "            print(\"You have entered an invalid character\")\n",
    "\n",
    "    print(\"\\nAge:\", end=\" \")        \n",
    "    for letter in solve_rsp2:\n",
    "        if any(letter in row for row in keyboard):\n",
    "            print(letter, end=\"\")\n",
    "        else:\n",
    "            print(\"You have entered an invalid character\")\n",
    "\n",
    "printer(keyboard)\n",
    "\n",
    "# According to google translate the month is September and the age is fifty and five in hebrew"
   ]
  },
  {
   "attachments": {},
   "cell_type": "markdown",
   "metadata": {},
   "source": [
    "## Dictionaries\n",
    "- Category: Managing Complexity with Variables\n",
    "- Defintion: A dictionary stores (key, value) pairs, similar to a Map in Java or an object in Javascript. Dictionaries are optimized to retrieve values when the key is known. In Python, a dictionary is created by placing a sequence of elements within curly {} braces, separated by ‘comma’. Dictionary holds a pair of values, one being the Key and the other corresponding pair element being its Key:value. Values in a dictionary can be of any datatype and can be duplicated, whereas keys can’t be repeated and must be immutable. Dictionaries are optimized to retrieve values when the key is known. Python’s dictionaries are kind of hash table type. It consists of key-value pairs. A dictionary key can be almost any Python type, but are usually numbers or strings. Values, on the other hand, can be any arbitrary Python object. This can be used to mangage complexity as through storing key and value pairs it can prevent the need for things like having a secondary list to store the values of a key. This can also be used to store data in a more organized manner as it can be used to store data in a way that is more easily accessible. For instance if you were to store a list of students and their grades you could use a dictionary to store the students name as the key and the grade as the value. This would allow you to easily access the grade of a student by simply using the students name as the key.\n",
    "\n",
    "## Dictionaries Code Example"
   ]
  },
  {
   "cell_type": "code",
   "execution_count": 12,
   "metadata": {},
   "outputs": [
    {
     "name": "stdout",
     "output_type": "stream",
     "text": [
      "Dynamic code is code that has inputs and outputs that can change?\n",
      "Your answer true is the correct answer\n",
      "What is the keyword for defining a function in Python?\n",
      "Your answer def is the correct answer\n",
      "In Jupyter Notebooks the Input is in line with the Output\n",
      "Your answer false is the correct answer\n",
      "What is grouping often used commands called?\n",
      "Your answer bundles doesn't equal the correct answer/s which is procedural abstraction\n",
      "Is Mr.Mortenson them most handsome man on the planet?\n",
      "Your answer true is the correct answer\n",
      "Your score is 4 out of 5 points.\n"
     ]
    }
   ],
   "source": [
    "Q_Bank = {\n",
    "    \"Dynamic code is code that has inputs and outputs that can change?\":\"true\",\n",
    "    \"What is the keyword for defining a function in Python?\": \"def\",\n",
    "    \"In Jupyter Notebooks the Input is in line with the Output\": \"false\",\n",
    "    \"What is grouping often used commands called?\": \"procedural abstraction\",\n",
    "    \"Is Mr.Mortenson them most handsome man on the planet?\": \"true\",\n",
    "}\n",
    "\n",
    "score = 0\n",
    "for Q, ans in Q_Bank.items():\n",
    "    print(Q)\n",
    "    rsp = input(Q)\n",
    "    if rsp.lower().strip() == ans.lower().strip():\n",
    "        print(f\"Your answer {rsp} is the correct answer\")\n",
    "        score += 1\n",
    "    else:\n",
    "        print(f\"Your answer {rsp} doesn't equal the correct answer/s which is {ans}\")\n",
    "print(f\"Your score is {score} out of {len(Q_Bank)} points.\")\n",
    "\n",
    "# Uses a dictionary to store the questions and answers and a value pair associated with each question\n",
    "# to store the answer to the question. Then a for loop is used to iterate through the dictionary and\n",
    "# then print the question and ask the user to enter the answer. If the answer matches the value in the dictionary\n",
    "# it informs the user that they were correct and then adds one to the score. If the answer is incorrect it informs\n",
    "# the user that they were incorrect and then prints the correct answer. Once the for loop has finished it prints\n",
    "# the users score out of the total number of questions."
   ]
  },
  {
   "attachments": {},
   "cell_type": "markdown",
   "metadata": {},
   "source": [
    "## Class Expressions\n",
    "- Category: Managing Complexity with Variables\n",
    "- Definition: Class expressions are not present within python, however, when they are present in Javascript where instead of a statement an expression is used. This allows a class to be used and then defined later, anonymous classses where they can be unnamed for a class that just needs to be used once, or allow it to be used in the same places that variables could be used in. "
   ]
  },
  {
   "cell_type": "code",
   "execution_count": 1,
   "metadata": {
    "vscode": {
     "languageId": "javascript"
    }
   },
   "outputs": [
    {
     "name": "stdout",
     "output_type": "stream",
     "text": [
      "At John's job at Walmart, they Jhon in a heated debate about the state of society Jhon said Hello I work at Walmart and my name is John and I am 25 years old. My profression conusmes my life and I have no time for friends or family. I am a slave to foul beast known as capitalism.in sheer confusion Joe and his son Bob also began to say their greetings \"Hello my name is Joe and I am 36 years old\" and \"Hey my name is Bob and I am 15 years old and I am in grade 10!!\"\n"
     ]
    }
   ],
   "source": [
    "class Person {\n",
    "    constructor(name, age) {\n",
    "        this.name = name;\n",
    "        this.age = age;\n",
    "    }\n",
    "    greeting() {\n",
    "        return `Hello my name is ${this.name} and I am ${this.age} years old`;\n",
    "    }\n",
    "}\n",
    "\n",
    "class Wagie extends Person {\n",
    "    constructor(name, age, job) {\n",
    "        super(name, age);\n",
    "        this.job = job;\n",
    "    }\n",
    "    greeting() {\n",
    "        return `Hello I work at ${this.job} and my name is ${this.name} and I am ${this.age} years old. My profression conusmes my life and I have no time for friends or family. I am a slave to foul beast known as capitalism.`;\n",
    "    }\n",
    "}\n",
    "\n",
    "class Student extends Person {\n",
    "    constructor(name, age, grade) {\n",
    "        super(name, age);\n",
    "        this.grade = grade;\n",
    "    }\n",
    "    greeting() {\n",
    "        return `Hey my name is ${this.name} and I am ${this.age} years old and I am in grade ${this.grade}!!`;\n",
    "    }\n",
    "}\n",
    "\n",
    "const Jhon = new Wagie(\"John\", 25, \"Walmart\");\n",
    "const Bob = new Student(\"Bob\", 15, 10);\n",
    "const Joe = new Person(\"Joe\", 36);\n",
    "\n",
    "console.log(`At ${Jhon.name}'s job at ${Jhon.job}, they Jhon in a heated debate about the state of society Jhon said ${Jhon.greeting()}in sheer confusion Joe and his son Bob also began to say their greetings \"${Joe.greeting()}\" and \"${Bob.greeting()}\"`);\n"
   ]
  },
  {
   "attachments": {},
   "cell_type": "markdown",
   "metadata": {},
   "source": [
    "## Sequences\n",
    "- Category: Managing Complexity with Variables\n",
    "- Definition: A sequence is an ordered collection of items where each item holds a relative position with respect to the others. Sequences are one of the most basic Python data types. There are four sequence types in Python: strings, lists, tuples, and range objects. Strings are immutable sequences of Unicode code points. Lists are mutable sequences, typically used to store collections of homogeneous items (where the precise degree of similarity will vary by application). Tuples are immutable sequences, typically used to store collections of heterogeneous data (such as the 2-tuples produced by the enumerate() built-in). Ranges are immutable sequences of numbers and are commonly used for looping a specific number of times in for loops.\n",
    "\n",
    "## Sequences Code Example"
   ]
  },
  {
   "cell_type": "code",
   "execution_count": 1,
   "metadata": {},
   "outputs": [
    {
     "name": "stdout",
     "output_type": "stream",
     "text": [
      "We have these butters for sale: salted unsalted organic peanut almond cashew \n",
      "Invalid choice. Please choose a butter from the list.\n",
      "Your order is peanut butter almond butter salted butter unsalted butter organic butter \n",
      "Your total cost is $131.65\n"
     ]
    }
   ],
   "source": [
    "# List used as an example in this case\n",
    "Butters = [\"salted\",\"unsalted\",\"organic\",\"peanut\",\"almond\",\"cashew\"]\n",
    "\n",
    "def Butter_Selecter(Butters):\n",
    "    cost = 0\n",
    "    orders = []\n",
    "    print(\"We have these butters for sale:\", end = \" \")\n",
    "    for butter in Butters:\n",
    "        print(butter, end = \" \")\n",
    "    print()\n",
    "    while True:\n",
    "        rsp = input(\"What butter would you like to add to your order? (enter done when your are finished)\")\n",
    "        if rsp.lower().strip() in Butters:\n",
    "            orders.append(rsp)\n",
    "        elif rsp.lower().strip() == \"done\":\n",
    "            break\n",
    "        else:\n",
    "            print(\"Invalid choice. Please choose a butter from the list.\")\n",
    "    print(\"Your order is\", end = \" \")\n",
    "    for order in orders:\n",
    "        print(order, end = \" butter \", sep = \" \")\n",
    "        cost += 26.33 # This is a gourmet butter price\n",
    "    print(f\"\\nYour total cost is ${round(cost,2)}\")\n",
    "\n",
    "Butter_Selecter(Butters)\n"
   ]
  }
 ],
 "metadata": {
  "kernelspec": {
   "display_name": "base",
   "language": "python",
   "name": "python3"
  },
  "language_info": {
   "codemirror_mode": {
    "name": "ipython",
    "version": 3
   },
   "file_extension": ".py",
   "mimetype": "text/x-python",
   "name": "python",
   "nbconvert_exporter": "python",
   "pygments_lexer": "ipython3",
   "version": "3.9.12"
  },
  "orig_nbformat": 4,
  "vscode": {
   "interpreter": {
    "hash": "c01fa961529e9daabe8f923baaa66cec9a05e87366ddea10e0ca4d35fb3358df"
   }
  }
 },
 "nbformat": 4,
 "nbformat_minor": 2
}
