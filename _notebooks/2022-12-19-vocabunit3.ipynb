{
 "cells": [
  {
   "attachments": {},
   "cell_type": "markdown",
   "metadata": {},
   "source": [
    "# Unit 3 Vocabulary\n",
    "> Vocab For Unit 3\n",
    "- title: Unit 3 Vocabulary\n",
    "- toc: true\n",
    "- badges: false\n",
    "- tags: [chapter3, week16]\n",
    "- categories: [chapter3, week16]"
   ]
  },
  {
   "attachments": {},
   "cell_type": "markdown",
   "metadata": {},
   "source": [
    "# Word List\n",
    "\n",
    "`Storing & Manipulating Data`\n",
    "- Variables\n",
    "- Data Types\n",
    "- Assignment Operators\n",
    "\n",
    "`Managing Complexity with Variables`  \n",
    "- Lists\n",
    "- 2D Lists\n",
    "- Dictionaries\n",
    "- Class Algorithms \n",
    "- Sequence \n",
    "- Selection\n",
    "- Iteration\n",
    "\n",
    "`Logical Operations & Decision Making`\n",
    "- Expressions\n",
    "- Comparison Operators\n",
    "- Booleans Expressions and Selection\n",
    "- Booleans Expressions and Iteration\n",
    "- Truth Tables\n",
    "\n",
    "`Strings & String Operations`\n",
    "- Characters\n",
    "- Strings\n",
    "- Length\n",
    "- Concatenation\n",
    "- Upper\n",
    "- Lower\n",
    "- Traversing Strings\n",
    "\n",
    "`Conditional Statements`\n",
    "- Python If\n",
    "- Elif\n",
    "- Else conditionals\n",
    "- Nested Selection Statements\n",
    "\n",
    "`Loops & Iteration`\n",
    "- Python For, \n",
    "- While loops with Range, \n",
    "- List Combining loops with conditionals to Break\n",
    "- Continue\n",
    "\n",
    "`Algorythms`\n",
    "- Procedural Abstraction \n",
    "- Python Def procedures \n",
    "- Parameters \n",
    "- Return Values\n"
   ]
  }
 ],
 "metadata": {
  "kernelspec": {
   "display_name": "Python 3",
   "language": "python",
   "name": "python3"
  },
  "language_info": {
   "name": "python",
   "version": "3.10.6 (main, Nov  2 2022, 18:53:38) [GCC 11.3.0]"
  },
  "orig_nbformat": 4,
  "vscode": {
   "interpreter": {
    "hash": "916dbcbb3f70747c44a77c7bcd40155683ae19c65e1c03b4aa3499c5328201f1"
   }
  }
 },
 "nbformat": 4,
 "nbformat_minor": 2
}
