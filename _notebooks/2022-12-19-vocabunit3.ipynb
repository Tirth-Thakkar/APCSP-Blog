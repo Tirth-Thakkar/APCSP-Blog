{
 "cells": [
  {
   "attachments": {},
   "cell_type": "markdown",
   "metadata": {},
   "source": [
    "# Unit 3 Vocabulary\n",
    "> Vocab For Unit 3\n",
    "- title: Unit 3 Vocabulary\n",
    "- toc: true\n",
    "- badges: false\n",
    "- tags: [chapter3, week16, vocab]\n",
    "- categories: [chapter3, week16, vocab]"
   ]
  },
  {
   "attachments": {},
   "cell_type": "markdown",
   "metadata": {},
   "source": [
    "# Word List\n",
    "\n",
    "`Storing & Manipulating Data`\n",
    "- Variables\n",
    "- Data Types\n",
    "- Assignment Operators\n",
    "\n",
    "`Managing Complexity with Variables`  \n",
    "- Lists\n",
    "- 2D Lists\n",
    "- Dictionaries\n",
    "- Class Algorithms \n",
    "- Sequence \n",
    "- Selection\n",
    "- Iteration\n",
    "\n",
    "`Logical Operations & Decision Making`\n",
    "- Expressions\n",
    "- Comparison Operators\n",
    "- Booleans Expressions and Selection\n",
    "- Booleans Expressions and Iteration\n",
    "- Truth Tables\n",
    "\n",
    "`Strings & String Operations`\n",
    "- Characters\n",
    "- Strings\n",
    "- Length\n",
    "- Concatenation\n",
    "- Upper\n",
    "- Lower\n",
    "- Traversing Strings\n",
    "\n",
    "`Conditional Statements`\n",
    "- Python If\n",
    "- Elif\n",
    "- Else conditionals\n",
    "- Nested Selection Statements\n",
    "\n",
    "`Loops & Iteration`\n",
    "- Python For, \n",
    "- While loops with Range, \n",
    "- List Combining loops with conditionals to Break\n",
    "- Continue\n",
    "\n",
    "`Algorythms`\n",
    "- Procedural Abstraction \n",
    "- Python Def procedures \n",
    "- Parameters \n",
    "- Return Values\n"
   ]
  },
  {
   "attachments": {},
   "cell_type": "markdown",
   "metadata": {},
   "source": [
    "## Variables\n",
    "- Category: Storing & Manipulating Data\n",
    "- Definition: A variable is a named location used to store data in the memory. It is helpful to think of variables as containers that hold information. Its sole purpose is to label and store data in memory. This allows for better organization of the data, and allows the data to be accessed and modified by a reference to an identifier. Variables can also be changed during a program's execution. Variables can be used for storing data of different types, such as numbers, strings, lists, etc. Variables are created when you assign a value to it. The equal sign (=) is used to assign values to variables. The operand to the left of the = operator is the name of the variable and the operand to the right of the = operator is the value stored in the variable. \n",
    "\n",
    "## Variable Code Example"
   ]
  },
  {
   "cell_type": "code",
   "execution_count": 5,
   "metadata": {},
   "outputs": [
    {
     "name": "stdout",
     "output_type": "stream",
     "text": [
      "The area of the rectangle is: 288 square in\n"
     ]
    }
   ],
   "source": [
    "def rectangle_area():\n",
    "    width = int(input(\"Enter the width of the rectangle: \"))\n",
    "    height = int(input(\"Enter the height of the rectangle: \"))\n",
    "    unit = input(\"Enter the unit of measurement: \")\n",
    "    area = width * height\n",
    "    print(f\"The area of the rectangle is: {area} square {unit}\")\n",
    "\n",
    "rectangle_area()\n",
    "\n",
    "# Through assigning variables the program is able to store the \n",
    "# imputted values and use them in the calculation of the area.\n",
    "# The program is also able to print the result of the calculation.\n",
    "# Without variables the program would not be able to store the values\n",
    "# and would not be able to print the result of the calculation."
   ]
  },
  {
   "attachments": {},
   "cell_type": "markdown",
   "metadata": {},
   "source": [
    "## Data Types\n",
    "- Category: Storing & Manipulating Data\n",
    "- Definition: Data types are the classification or categorization of data items. It represents the kind of value that tells what operations can be performed on a particular data. Python has various data types that are used to define the operations possible on them and the storage method for each of them. The data type specifies the size and type of values that can be stored in the variable. The data type of a variable is the type of data that variable can store. For example, a variable of type int can only store integer values. The data type of a variable can be changed during the execution of a program. Python has the following data types built-in by default, in these categories: \n",
    "    - Text Type: str \n",
    "    - Numeric Types: int, float, complex \n",
    "    - Sequence Types: list, tuple, range \n",
    "    - Mapping Type: dict \n",
    "    - Set Types: set, frozenset \n",
    "    - Boolean Type: bool \n",
    "    - Binary Types: bytes, bytearray, and memoryview. \n",
    "- However more the most common data types are Integers, Floats, Strings, Booleans, and Lists/Arrays. `In some programming languages like C, C++, and Java, the data types are explicitly declared. In Python, the data type is automatically inferred from the value assigned to the variable.`\n",
    "\n",
    "## Data Types Code Example"
   ]
  },
  {
   "cell_type": "code",
   "execution_count": 12,
   "metadata": {},
   "outputs": [
    {
     "name": "stdout",
     "output_type": "stream",
     "text": [
      "\n",
      "1 is of <class 'int'>\n",
      "\n",
      "3.14 is of <class 'float'>\n",
      "\n",
      "Hello is of <class 'str'>\n",
      "\n",
      "True is of <class 'bool'>\n",
      "\n",
      "[1, 2, 3] is of <class 'list'>\n",
      "\n",
      "(1, 2, 3) is of <class 'tuple'>\n",
      "\n",
      "{1, 2, 3} is of <class 'set'>\n",
      "\n",
      "{'a': 1, 'b': 2, 'c': 3} is of <class 'dict'>\n"
     ]
    }
   ],
   "source": [
    "Data = [1, 3.14, \"Hello\", True, [1, 2, 3], (1, 2, 3), {1, 2, 3}, {\"a\": 1, \"b\": 2, \"c\": 3}]\n",
    "\n",
    "for datatype in Data:\n",
    "    print(f\"\\n{datatype} is of {type(datatype)}\")\n",
    "\n",
    "# This program showcases the different data types in Python. The program doesn't\n",
    "# contain all the data types in python but illustrates a few of the main ones. \n",
    "# BTW at index 6 in the list is the object is a set, not a dictionary."
   ]
  },
  {
   "attachments": {},
   "cell_type": "markdown",
   "metadata": {},
   "source": [
    "## Assignment Operators\n",
    "- Category: Storing & Manipulating Data\n",
    "- Definition: An assignment statement creates new variables and gives them values. The equal sign (=) is used to assign values to variables. The operand to the left of the = operator is the name of the variable and the operand to the right of the = operator is the value stored in the variable. The assignment operator (=) is used to assign values to variables. The value of the right-hand side of the expression is calculated first and then assigned to the variable on the left-hand side. The assignment operator can also be used to assign the result of any expression to a variable. Other assignment operators in python also include +=, -=, *=, /=, %=, //=, **=, &=, |=, ^=, >>=, <<=, etc. Which are used for addition, subtraction, multiplication, division, modulus, floor division, exponent, bitwise AND, bitwise OR, bitwise XOR, bitwise right shift, bitwise left shift, respectively.\n",
    "\n",
    "## Assignment Operators Code Example"
   ]
  },
  {
   "cell_type": "code",
   "execution_count": 25,
   "metadata": {},
   "outputs": [
    {
     "name": "stdout",
     "output_type": "stream",
     "text": [
      "Oh no the Bubmbler has gotten hold of you your shopping is going to be bumbled!\n",
      "The Bumbler has gotten hold of 6 items beware they will be bumbled!\n",
      "The Bumbler has gotten hold of these items: \n",
      "2 gallons of milk, bottled water, cheese sticks, wallet, car, watch\n",
      "Your bubmbled items are: \n",
      "The bumblers price, The bumblers price, 2 gallons of milk, watch, wallet, The bumblers price\n",
      "You have been bumbled!\n"
     ]
    }
   ],
   "source": [
    "import random \n",
    "\n",
    "def bubmler():\n",
    "    # Variable Declaration\n",
    "    runs = 0\n",
    "    temp_itmes = 0\n",
    "    bundle = []\n",
    "    # Comedic Prints used to make the program more fun\n",
    "    print(\"Oh no the Bubmbler has gotten hold of you your shopping is going to be bumbled!\")\n",
    "    \n",
    "    # User input for the number of items the bumbler has gotten hold of to iterate through\n",
    "    items = int(input(\"How many objects did the bumbler get hold of?\"))\n",
    "    \n",
    "    # Prints the number of items the bumbler has gotten hold of\n",
    "    print(f\"The Bumbler has gotten hold of {items} items beware they will be bumbled!\")\n",
    "    \n",
    "    # The use of the = assignment operator is used to assign the value of items to temp_items\n",
    "    temp_itmes = items\n",
    "    \n",
    "    # Uses the -= operator to decrement the value of temp_items by 1\n",
    "    # The while loop is used to iterate through the number of items the bumbler has gotten hold of\n",
    "    # The input function is used to get the name of the object the bumbler has gotten hold of\n",
    "    while temp_itmes > 0:\n",
    "        ToBeBumbled = input(\"What object did the bumbler get hold of?\")\n",
    "        bundle.append(ToBeBumbled)\n",
    "        temp_itmes -= 1\n",
    "    \n",
    "    # Tells the user what items the bumbler has gotten hold of\n",
    "    print(\"The Bumbler has gotten hold of these items: \")\n",
    "    print(*bundle, sep=\", \")\n",
    "\n",
    "    # Uses random.shuffle to shuffle the items the bumbler has gotten hold of\n",
    "    # Uses random.randint to generate a random number between 0 and the number \n",
    "    # of items the bumbler has gotten hold of and if the number is 3 then the\n",
    "    # bumbler will take the item if the bumbler has taken an item then it \n",
    "    # will be replaced with \"The bumblers price\" and tell the user they have been bumbled\n",
    "    \n",
    "    random.shuffle(bundle)\n",
    "    for bumble in bundle:\n",
    "        if random.randint(0, len(bundle)) == 3:\n",
    "            location = bundle.index(bumble)\n",
    "            bundle[location] = \"The bumblers price\"\n",
    "    print(\"Your bubmbled items are: \")\n",
    "    print(*bundle, sep=\", \")\n",
    "    if \"The bumblers price\" in bundle:\n",
    "        print(\"You have been bumbled!\")\n",
    "\n",
    "bubmler()"
   ]
  },
  {
   "attachments": {},
   "cell_type": "markdown",
   "metadata": {},
   "source": [
    "## Lists\n",
    "- Category: Managing Complexity with Variables\n",
    "- Definition: A list is a collection which is ordered and changeable. In Python lists are written with square brackets. Lists are one of the most versatile data types available in Python which can be written as a list of comma-separated values (items) between square brackets. Important thing about a list is that items do not have to be the same type. ex. list1 = ['physics', 'chemistry', 1997, 2000]; list2 = [1, 2.00, \"butter\", {1, 2, 3}, False ]; list3 = [\"a\", \"b\", \"c\", \"d\"]\n",
    "\n",
    "## Lists Code Example"
   ]
  },
  {
   "cell_type": "code",
   "execution_count": 28,
   "metadata": {},
   "outputs": [
    {
     "name": "stdout",
     "output_type": "stream",
     "text": [
      " violets are blooming this year.\n",
      " roses are blooming this year.\n",
      " poppies are blooming this year.\n"
     ]
    }
   ],
   "source": [
    "def flowers():\n",
    "    # Variable Declaration\n",
    "    flower = \"\"\n",
    "    flower_list = []\n",
    "    # The while loop is used to iterate through the number of flowers the user has\n",
    "    while flower != \"done\":\n",
    "        flower = input(\"Enter a flower (type done to finish): \")\n",
    "        if flower != \"done\":\n",
    "            flower_list.append(flower)\n",
    "    # The for loop is used to iterate through the list of flowers and print them\n",
    "    for flower in flower_list:\n",
    "        print(f\" {flower} are blooming this year.\")\n",
    "flowers()\n",
    "\n",
    "# Creates a list called flower_list then then the user is asked to enter a flower\n",
    "# until they type done. Then a for loop is used to iterate through the list of flowers\n",
    "# and print then print that they are blooming this year. This code could be adapted by \n",
    "# adding a more usefull opeation that could be done to the list. \n",
    "# To see an example that incorperates this see the bumbler program above. "
   ]
  },
  {
   "attachments": {},
   "cell_type": "markdown",
   "metadata": {},
   "source": [
    "## 2D Lists\n",
    "- Category: Managing Complexity with Variables\n",
    "- Definition: 2D Lists also reffered to as matrixes are lists of lists. They are used to store data in a tabular form. For example, a list of lists can be used to store rows and columns of data. Complexity can be manged through the use of 2D lists by storing and being able to manipulate data in a more manageable way for instance it can be stored in a tabular form so for instance you could make it so that a coulum represents a field and a row represents a record. Using these types of lists data can also be categorized in a better manner as it allows you to store related data together. Or for algorithms that require you to stored in a grid like structure such as a maze or a game board, or image processing.\n",
    "\n",
    "## 2D Lists Code Example"
   ]
  },
  {
   "cell_type": "code",
   "execution_count": 7,
   "metadata": {},
   "outputs": [
    {
     "name": "stdout",
     "output_type": "stream",
     "text": [
      "Month Born: DECEMBER\n",
      "Age: 16"
     ]
    }
   ],
   "source": [
    "keyboard = [[\"`\", \"1\", \"2\", \"3\", \"4\", \"5\", \"6\", \"7\", \"8\", \"9\", \"0\", \"-\", \"=\"],\n",
    "            [\"Q\", \"W\", \"E\", \"R\", \"T\", \"Y\", \"U\", \"I\", \"O\", \"P\", \"[\", \"]\"],\n",
    "            [\"A\", \"S\", \"D\", \"F\", \"G\", \"H\", \"J\", \"K\", \"L\", \";\", \"'\"],\n",
    "            [\"Z\", \"X\", \"C\", \"V\", \"B\", \"N\", \"M\", \",\", \".\", \"/\"]]\n",
    "\n",
    "def printer(keyboard):\n",
    "    rsp = input(\"Month: \")\n",
    "    rsp2 = input(\"Age: \")\n",
    "    solve_rsp = \"\" + str(rsp.upper().strip())\n",
    "    solve_rsp2 = \"\" + str(rsp2).strip().upper()\n",
    "\n",
    "    print(\"Month Born:\", end = \" \")\n",
    "    for letter in solve_rsp:\n",
    "        if any(letter in row for row in keyboard):\n",
    "            print(letter, end=\"\")\n",
    "        else: \n",
    "            print(\"You have entered an invalid character\")\n",
    "\n",
    "    print(\"\\nAge:\", end=\" \")        \n",
    "    for letter in solve_rsp2:\n",
    "        if any(letter in row for row in keyboard):\n",
    "            print(letter, end=\"\")\n",
    "        else:\n",
    "            print(\"You have entered an invalid character\")\n",
    "\n",
    "printer(keyboard)\n",
    "\n",
    "# Here is an example of a program that uses a 2d list to store the charectors of the keyboard\n",
    "# The program then asks the user to enter a month and age and then prints the charectors of the\n",
    "# month and age if they are in the keyboard list so for instance if the charectors are not in \n",
    "# the keyboard list it will print not a valid charector. "
   ]
  },
  {
   "cell_type": "code",
   "execution_count": 10,
   "metadata": {},
   "outputs": [
    {
     "name": "stdout",
     "output_type": "stream",
     "text": [
      "Month Born: You have entered an invalid character\n",
      "You have entered an invalid character\n",
      "You have entered an invalid character\n",
      "You have entered an invalid character\n",
      "You have entered an invalid character\n",
      "You have entered an invalid character\n",
      "You have entered an invalid character\n",
      "You have entered an invalid character\n",
      "You have entered an invalid character\n",
      "You have entered an invalid character\n",
      "You have entered an invalid character\n",
      "\n",
      "Age: You have entered an invalid character\n",
      "You have entered an invalid character\n",
      "You have entered an invalid character\n",
      "You have entered an invalid character\n",
      "You have entered an invalid character\n",
      "You have entered an invalid character\n",
      "You have entered an invalid character\n",
      "You have entered an invalid character\n",
      "You have entered an invalid character\n",
      "You have entered an invalid character\n",
      "You have entered an invalid character\n"
     ]
    }
   ],
   "source": [
    "keyboard = [[\"`\", \"1\", \"2\", \"3\", \"4\", \"5\", \"6\", \"7\", \"8\", \"9\", \"0\", \"-\", \"=\"],\n",
    "            [\"Q\", \"W\", \"E\", \"R\", \"T\", \"Y\", \"U\", \"I\", \"O\", \"P\", \"[\", \"]\"],\n",
    "            [\"A\", \"S\", \"D\", \"F\", \"G\", \"H\", \"J\", \"K\", \"L\", \";\", \"'\"],\n",
    "            [\"Z\", \"X\", \"C\", \"V\", \"B\", \"N\", \"M\", \",\", \".\", \"/\"]]\n",
    "\n",
    "def printer(keyboard):\n",
    "    rsp = input(\"Month: \") # Input סֶפּטֶמבֶּר\n",
    "    rsp2 = input(\"Age: \") # Input חמישים וחמש\n",
    "    solve_rsp = \"\" + str(rsp.upper().strip())\n",
    "    solve_rsp2 = \"\" + str(rsp2).strip().upper()\n",
    "\n",
    "    print(\"Month Born:\", end = \" \")\n",
    "    for letter in solve_rsp:\n",
    "        if any(letter in row for row in keyboard):\n",
    "            print(letter, end=\"\")\n",
    "        else: \n",
    "            print(\"You have entered an invalid character\")\n",
    "\n",
    "    print(\"\\nAge:\", end=\" \")        \n",
    "    for letter in solve_rsp2:\n",
    "        if any(letter in row for row in keyboard):\n",
    "            print(letter, end=\"\")\n",
    "        else:\n",
    "            print(\"You have entered an invalid character\")\n",
    "\n",
    "printer(keyboard)\n",
    "\n",
    "# According to google translate the month is September and the age is fifty and five in hebrew"
   ]
  },
  {
   "attachments": {},
   "cell_type": "markdown",
   "metadata": {},
   "source": [
    "## Dictionaries\n",
    "- Category: Managing Complexity with Variables\n",
    "- Defintion: A dictionary stores (key, value) pairs, similar to a Map in Java or an object in Javascript. Dictionaries are optimized to retrieve values when the key is known. In Python, a dictionary is created by placing a sequence of elements within curly {} braces, separated by ‘comma’. Dictionary holds a pair of values, one being the Key and the other corresponding pair element being its Key:value. Values in a dictionary can be of any datatype and can be duplicated, whereas keys can’t be repeated and must be immutable. Dictionaries are optimized to retrieve values when the key is known. Python’s dictionaries are kind of hash table type. It consists of key-value pairs. A dictionary key can be almost any Python type, but are usually numbers or strings. Values, on the other hand, can be any arbitrary Python object. This can be used to mangage complexity as through storing key and value pairs it can prevent the need for things like having a secondary list to store the values of a key. This can also be used to store data in a more organized manner as it can be used to store data in a way that is more easily accessible. For instance if you were to store a list of students and their grades you could use a dictionary to store the students name as the key and the grade as the value. This would allow you to easily access the grade of a student by simply using the students name as the key.\n",
    "\n",
    "## Dictionaries Code Example"
   ]
  },
  {
   "cell_type": "code",
   "execution_count": 12,
   "metadata": {},
   "outputs": [
    {
     "name": "stdout",
     "output_type": "stream",
     "text": [
      "Dynamic code is code that has inputs and outputs that can change?\n",
      "Your answer true is the correct answer\n",
      "What is the keyword for defining a function in Python?\n",
      "Your answer def is the correct answer\n",
      "In Jupyter Notebooks the Input is in line with the Output\n",
      "Your answer false is the correct answer\n",
      "What is grouping often used commands called?\n",
      "Your answer bundles doesn't equal the correct answer/s which is procedural abstraction\n",
      "Is Mr.Mortenson them most handsome man on the planet?\n",
      "Your answer true is the correct answer\n",
      "Your score is 4 out of 5 points.\n"
     ]
    }
   ],
   "source": [
    "Q_Bank = {\n",
    "    \"Dynamic code is code that has inputs and outputs that can change?\":\"true\",\n",
    "    \"What is the keyword for defining a function in Python?\": \"def\",\n",
    "    \"In Jupyter Notebooks the Input is in line with the Output\": \"false\",\n",
    "    \"What is grouping often used commands called?\": \"procedural abstraction\",\n",
    "    \"Is Mr.Mortenson them most handsome man on the planet?\": \"true\",\n",
    "}\n",
    "\n",
    "score = 0\n",
    "for Q, ans in Q_Bank.items():\n",
    "    print(Q)\n",
    "    rsp = input(Q)\n",
    "    if rsp.lower().strip() == ans.lower().strip():\n",
    "        print(f\"Your answer {rsp} is the correct answer\")\n",
    "        score += 1\n",
    "    else:\n",
    "        print(f\"Your answer {rsp} doesn't equal the correct answer/s which is {ans}\")\n",
    "print(f\"Your score is {score} out of {len(Q_Bank)} points.\")\n",
    "\n",
    "# Uses a dictionary to store the questions and answers and a value pair associated with each question\n",
    "# to store the answer to the question. Then a for loop is used to iterate through the dictionary and\n",
    "# then print the question and ask the user to enter the answer. If the answer matches the value in the dictionary\n",
    "# it informs the user that they were correct and then adds one to the score. If the answer is incorrect it informs\n",
    "# the user that they were incorrect and then prints the correct answer. Once the for loop has finished it prints\n",
    "# the users score out of the total number of questions."
   ]
  },
  {
   "attachments": {},
   "cell_type": "markdown",
   "metadata": {},
   "source": [
    "## Class Expressions\n",
    "- Category: Managing Complexity with Variables\n",
    "- Definition: Class expressions are not present within python, however, when they are present in Javascript where instead of a statement an expression is used. This allows a class to be used and then defined later, anonymous classses where they can be unnamed for a class that just needs to be used once, or allow it to be used in the same places that variables could be used in. "
   ]
  },
  {
   "cell_type": "code",
   "execution_count": 1,
   "metadata": {
    "vscode": {
     "languageId": "javascript"
    }
   },
   "outputs": [
    {
     "name": "stdout",
     "output_type": "stream",
     "text": [
      "At John's job at Walmart, they Jhon in a heated debate about the state of society Jhon said Hello I work at Walmart and my name is John and I am 25 years old. My profression conusmes my life and I have no time for friends or family. I am a slave to foul beast known as capitalism.in sheer confusion Joe and his son Bob also began to say their greetings \"Hello my name is Joe and I am 36 years old\" and \"Hey my name is Bob and I am 15 years old and I am in grade 10!!\"\n"
     ]
    }
   ],
   "source": [
    "class Person {\n",
    "    constructor(name, age) {\n",
    "        this.name = name;\n",
    "        this.age = age;\n",
    "    }\n",
    "    greeting() {\n",
    "        return `Hello my name is ${this.name} and I am ${this.age} years old`;\n",
    "    }\n",
    "}\n",
    "\n",
    "// Use of Class Expressions \n",
    "class Wagie extends Person {\n",
    "    constructor(name, age, job) {\n",
    "        super(name, age);\n",
    "        this.job = job;\n",
    "    }\n",
    "    greeting() {\n",
    "        return `Hello I work at ${this.job} and my name is ${this.name} and I am ${this.age} years old. My profression conusmes my life and I have no time for friends or family. I am a slave to foul beast known as capitalism.`;\n",
    "    }\n",
    "}\n",
    "\n",
    "// Use of class expressions\n",
    "class Student extends Person {\n",
    "    constructor(name, age, grade) {\n",
    "        super(name, age);\n",
    "        this.grade = grade;\n",
    "    }\n",
    "    greeting() {\n",
    "        return `Hey my name is ${this.name} and I am ${this.age} years old and I am in grade ${this.grade}!!`;\n",
    "    }\n",
    "}\n",
    "\n",
    "const Jhon = new Wagie(\"John\", 25, \"Walmart\");\n",
    "const Bob = new Student(\"Bob\", 15, 10);\n",
    "const Joe = new Person(\"Joe\", 36);\n",
    "\n",
    "console.log(`At ${Jhon.name}'s job at ${Jhon.job}, they Jhon in a heated debate about the state of society Jhon said ${Jhon.greeting()}in sheer confusion Joe and his son Bob also began to say their greetings \"${Joe.greeting()}\" and \"${Bob.greeting()}\"`);\n"
   ]
  },
  {
   "attachments": {},
   "cell_type": "markdown",
   "metadata": {},
   "source": [
    "## Sequences\n",
    "- Category: Managing Complexity with Variables\n",
    "- Definition: A sequence is an ordered collection of items where each item holds a relative position with respect to the others. Sequences are one of the most basic Python data types. There are four sequence types in Python: strings, lists, tuples, and range objects. Strings are immutable sequences of Unicode code points. Lists are mutable sequences, typically used to store collections of homogeneous items (where the precise degree of similarity will vary by application). Tuples are immutable sequences, typically used to store collections of heterogeneous data (such as the 2-tuples produced by the enumerate() built-in). Ranges are immutable sequences of numbers and are commonly used for looping a specific number of times in for loops.\n",
    "\n",
    "## Sequences Code Example"
   ]
  },
  {
   "cell_type": "code",
   "execution_count": 1,
   "metadata": {},
   "outputs": [
    {
     "name": "stdout",
     "output_type": "stream",
     "text": [
      "We have these butters for sale: salted unsalted organic peanut almond cashew \n",
      "Invalid choice. Please choose a butter from the list.\n",
      "Your order is peanut butter almond butter salted butter unsalted butter organic butter \n",
      "Your total cost is $131.65\n"
     ]
    }
   ],
   "source": [
    "# List used as an example in this case\n",
    "Butters = [\"salted\",\"unsalted\",\"organic\",\"peanut\",\"almond\",\"cashew\"]\n",
    "\n",
    "def Butter_Selecter(Butters):\n",
    "    cost = 0\n",
    "    orders = []\n",
    "    print(\"We have these butters for sale:\", end = \" \")\n",
    "    for butter in Butters:\n",
    "        print(butter, end = \" \")\n",
    "    print()\n",
    "    while True:\n",
    "        rsp = input(\"What butter would you like to add to your order? (enter done when your are finished)\")\n",
    "        if rsp.lower().strip() in Butters:\n",
    "            orders.append(rsp)\n",
    "        elif rsp.lower().strip() == \"done\":\n",
    "            break\n",
    "        else:\n",
    "            print(\"Invalid choice. Please choose a butter from the list.\")\n",
    "    print(\"Your order is\", end = \" \")\n",
    "    for order in orders:\n",
    "        print(order, end = \" butter \", sep = \" \")\n",
    "        cost += 26.33 # This is a gourmet butter price\n",
    "    print(f\"\\nYour total cost is ${round(cost,2)}\")\n",
    "\n",
    "Butter_Selecter(Butters)\n"
   ]
  },
  {
   "attachments": {},
   "cell_type": "markdown",
   "metadata": {},
   "source": [
    "## Selection\n",
    "- Category: Managing Complexity with Variables\n",
    "- Definition: Selection is the ability to run certain blocks of code only after certain conditions are met this can be done through the use of conditional statements such as else, if, and elif in python or else if in other languges. Selection can be used to make decisions in a program. For instance if you were to make a program that would ask the user for their age and then print out a message based on their age. You could use selection to make it so that if the user is under 18 it would print out a message saying that they are not old enough to vote, if they are 18 or older it would print out a message saying that they are old enough to vote, and if they are 21 or older it would print out a message saying that they are old enough to drink. This can be used to make a program more interactive and allow it to be more dynamic.\n",
    "\n",
    "## Selection Code Example"
   ]
  },
  {
   "cell_type": "code",
   "execution_count": 3,
   "metadata": {},
   "outputs": [
    {
     "name": "stdout",
     "output_type": "stream",
     "text": [
      "You will need 6.0 liters of Mountain Dew and 12.5 kg of chips for your party along with 2 GT730 Gaming PCs\n",
      "Your party goers are: Jhonno, Steve, Barry, Nansi Pelosi, Gary, Steve\n"
     ]
    }
   ],
   "source": [
    "def LAN():\n",
    "    def guests(Type):\n",
    "        amount = input(f\"How many {Type}s are at your LAN party?\")\n",
    "        if amount.strip().lower() == \"none\":\n",
    "            return 0\n",
    "        else:\n",
    "            return int(amount)\n",
    "    \n",
    "    def names(Type, amount):\n",
    "        names = []\n",
    "        for temp in range(amount):\n",
    "            name = input(f\"What are the names of your {Type}s friends?\")\n",
    "            names.append(name)\n",
    "        return names\n",
    "    \n",
    "    gamers = guests(\"gamer\")\n",
    "    non_gamers = guests(\"non gamer\")\n",
    "    party_goers = names(\"gamer\", gamers) + names(\"non gamer\", non_gamers)\n",
    "    \n",
    "    mountain_dew = 1.5 * gamers\n",
    "    chips = 3*gamers + 0.25*non_gamers\n",
    "    GT730 = non_gamers\n",
    "    print(f\"You will need {mountain_dew} liters of Mountain Dew and {round(chips, 3)} kg of chips for your party along with {GT730} GT730 Gaming PCs\")\n",
    "    \n",
    "    print(\"Your party goers are:\", end = \" \")\n",
    "    print(*party_goers, sep = \", \")\n",
    "\n",
    "LAN()   \n",
    "\n",
    "# Through the use of selction through the use of if and else statments the porgram is able to determine not prompt the user for their non-gamer/gamer\n",
    "# friends are present then display the amount of refreshments and special punishments (GT730s) need to be arranged for the party."
   ]
  },
  {
   "cell_type": "code",
   "execution_count": 5,
   "metadata": {},
   "outputs": [
    {
     "name": "stdout",
     "output_type": "stream",
     "text": [
      "You will need 0.0 liters of Mountain Dew and 0.5 kg of chips for your party along with 2 GT730 Gaming PCs\n",
      "Your party goers are: berry, jerry\n"
     ]
    }
   ],
   "source": [
    "def LAN():\n",
    "    def guests(Type):\n",
    "        amount = input(f\"How many {Type}s are at your LAN party?\")\n",
    "        if amount.strip().lower() == \"none\":\n",
    "            return 0\n",
    "        else:\n",
    "            return int(amount)\n",
    "    \n",
    "    def names(Type, amount):\n",
    "        names = []\n",
    "        for temp in range(amount):\n",
    "            name = input(f\"What are the names of your {Type}s friends?\")\n",
    "            names.append(name)\n",
    "        return names\n",
    "    \n",
    "    gamers = guests(\"gamer\")\n",
    "    non_gamers = guests(\"non gamer\")\n",
    "    party_goers = names(\"gamer\", gamers) + names(\"non gamer\", non_gamers)\n",
    "    \n",
    "    mountain_dew = 1.5 * gamers\n",
    "    chips = 3*gamers + 0.25*non_gamers\n",
    "    GT730 = non_gamers\n",
    "    print(f\"You will need {mountain_dew} liters of Mountain Dew and {round(chips, 3)} kg of chips for your party along with {GT730} GT730 Gaming PCs\")\n",
    "    \n",
    "    print(\"Your party goers are:\", end = \" \")\n",
    "    print(*party_goers, sep = \", \")\n",
    "\n",
    "LAN()\n",
    "\n",
    "# If there are no gamer friends at the LAN party"
   ]
  },
  {
   "attachments": {},
   "cell_type": "markdown",
   "metadata": {},
   "source": [
    "## Iteration\n",
    "- Category: Managing Complexity with Variables\n",
    "- Definition: Iteration is the ability to run a block of code multiple times. This can be done through the use of loops. Loops are used to repeat a block of code. For instance if you were to make a program that would print out the numbers 1-10 you could use a loop to make it so that it would print out the numbers 1-10 without having to write out the print statement 10 times. This can be used to make a program more interactive and allow it to be more dynamic. \n",
    "\n",
    "## Iteration Code Example"
   ]
  },
  {
   "cell_type": "code",
   "execution_count": 9,
   "metadata": {},
   "outputs": [
    {
     "name": "stdout",
     "output_type": "stream",
     "text": [
      "5 cheeses on the wall, 5 cheeses\n",
      "Take one down, pass it around, 4 cheeses on the wall\n",
      "4 cheeses on the wall, 4 cheeses\n",
      "Take one down, pass it around, 3 cheeses on the wall\n",
      "3 cheeses on the wall, 3 cheeses\n",
      "Take one down, pass it around, 2 cheeses on the wall\n",
      "2 cheeses on the wall, 2 cheeses\n",
      "Take one down, pass it around, 1 cheeses on the wall\n",
      "1 cheeses on the wall, 1 cheeses\n",
      "Take one down, pass it around, 0 cheeses on the wall\n"
     ]
    }
   ],
   "source": [
    "def On_The_Wall():\n",
    "    thing = input(\"What is on the wall?\")\n",
    "    amount = int(input(f\"How many {thing}s are on the wall?\"))\n",
    "    \n",
    "    for item in range(amount, 0, -1):\n",
    "        print(f\"{item} {thing}s on the wall, {item} {thing}s\")\n",
    "        print(f\"Take one down, pass it around, {item-1} {thing}s on the wall\")\n",
    "\n",
    "On_The_Wall()\n",
    "\n",
    "# Through the use of iteration the program is able to print out the the \n",
    "# amount of items on the wall and then print out the amount of items on the wall\n",
    "# after one is taken down without having to print it manualy each time this allows\n",
    "# the program to simpler to write, read, and understand."
   ]
  },
  {
   "attachments": {},
   "cell_type": "markdown",
   "metadata": {},
   "source": [
    "## Expresions\n",
    "- Category: Logical Operations & Decision Making\n",
    "- Definition: An expression is a combination of values, variables, operators with can be evaluated to have different outcome occur. For instance if a certain number is greater than another number in a game the person that rolled the larger number would get a message saying that they won through the use of an expression.\n",
    "\n",
    "## Expresions Code Example"
   ]
  },
  {
   "cell_type": "code",
   "execution_count": 23,
   "metadata": {},
   "outputs": [
    {
     "name": "stdout",
     "output_type": "stream",
     "text": [
      "On round 1 Player 1 won with a score of 4 compared to Player 2 with a score of 3\n",
      "On round 2 Player 1 won with a score of 6 compared to Player 2 with a score of 4\n"
     ]
    }
   ],
   "source": [
    "import random\n",
    "def game():\n",
    "    num_rounds = int(input(\"Rounds: \"))    \n",
    "    for i in range(num_rounds):\n",
    "        \n",
    "        player1_numbers = (random.randint(1, 6), random.randint(1, 6), random.randint(1, 6))\n",
    "        player2_numbers = (random.randint(1, 6), random.randint(1, 6), random.randint(1, 6))\n",
    "        \n",
    "        if max(player1_numbers) > max(player2_numbers):\n",
    "            print(\"On round \"+ str(i+1) +\" Player 1 won with a score of \" + str(max(player1_numbers)) + \" compared to Player 2 with a score of \" + str(max(player2_numbers)))\n",
    "        elif max(player1_numbers) < max(player2_numbers):\n",
    "            print(\"On round \"+ str(i+1) +\" Player 2 won with a score of \" + str(max(player2_numbers)) + \" compared to Player 1 with a score of \" + str(max(player1_numbers)))\n",
    "        else:\n",
    "            print(\"Both players tied with a score of \" + str(max(player1_numbers)) + \" on round \" + str(i)) \n",
    "game()\n",
    "\n",
    "# Through the use of expressions the program is abel to evaluate whether the \n",
    "# maximum value that the player rolled was larger or less thant the other \n",
    "# player then through that be able to print which player won the game \n",
    "# this would otherwise be impossible without the use of expressions.\n"
   ]
  },
  {
   "attachments": {},
   "cell_type": "markdown",
   "metadata": {},
   "source": [
    "## Comparsion Operators \n",
    "- Category: Logical Operations & Decision Making\n",
    "- Definiton: Comparsion Operators are used to compare two or more values. Some of these operators in python include ==. !=, >, <, >=, and <=. Which are equal to, not equal to, greater than, less than, greater than or equal to, and less than or equal to respectively.\n",
    "\n",
    "## Comparsion Operators Code Example"
   ]
  },
  {
   "cell_type": "code",
   "execution_count": 27,
   "metadata": {},
   "outputs": [
    {
     "name": "stdout",
     "output_type": "stream",
     "text": [
      "Player 1 wins as thier word compiler is longer than Player 2's word failure by 1 letters\n"
     ]
    }
   ],
   "source": [
    "import random\n",
    "\n",
    "words = [\"abstraction\", \"access\", \"adapter\", \"algorithm\", \"analyst\", \"anomaly\", \"architecture\", \"array\", \"artificial\", \"attribute\", \"backend\", \"bandwidth\", \"benchmark\", \"binary\", \"blockchain\", \"boolean\", \"breadth\", \"bug\", \"byte\", \"cache\", \"calculator\", \"capacity\", \"cartesian\", \"category\", \"cipher\", \"classification\", \"client\", \"client-server\", \"closure\", \"cluster\", \"code\", \"cognitive\", \"cohesion\", \"command\", \"comment\", \"communication\", \"compiler\", \"complexity\", \"component\", \"computation\", \"concurrency\", \"configuration\", \"connectivity\", \"consistency\", \"constraint\", \"container\", \"context\", \"contingency\", \"continuous\", \"control\", \"converter\", \"coordination\", \"core\", \"correlation\", \"cursor\", \"data\", \"database\", \"debugging\", \"declaration\", \"decrement\", \"definition\", \"degradation\", \"delegation\", \"delimiter\", \"density\", \"derivation\", \"descendant\", \"design\", \"detection\", \"dictionary\", \"dimension\", \"directive\", \"discrete\", \"dispatch\", \"distributed\", \"divergence\", \"dynamic\", \"echo\", \"encoding\", \"encryption\", \"endpoint\", \"enumeration\", \"environment\", \"equation\", \"error\", \"event\", \"exception\", \"execution\", \"expression\", \"extraction\", \"failure\", \"fault\", \"fetch\", \"flow\", \"fragment\", \"function\", \"gateway\", \"generic\", \"granularity\", \"graph\", \"hashing\", \"heap\", \"heuristic\", \"hierarchy\", \"hyperlink\", \"identity\", \"implementation\", \"inclusion\", \"increment\", \"index\", \"inference\", \"inheritance\", \"initialization\", \"input\", \"instance\", \"instruction\", \"interface\", \"interoperability\", \"iteration\", \"key\", \"keyword\", \"label\", \"latency\", \"library\", \"lifecycle\", \"link\", \"load\", \"localization\", \"logic\", \"loop\", \"machine\", \"management\", \"manipulation\", \"mapping\", \"matrix\", \"measurement\", \"method\", \"middleware\", \"migration\", \"model\", \"modification\", \"module\", \"monitoring\"]\n",
    "\n",
    "def word_game(words):\n",
    "    player1_word = random.choice(words)\n",
    "    player2_word = random.choice(words)\n",
    "    player1_score = len(player1_word)\n",
    "    player2_score = len(player2_word)\n",
    "\n",
    "    if player1_score > player2_score:\n",
    "        print(f\"Player 1 wins as thier word {player1_word} is longer than Player 2's word {player2_word} by {player1_score - player2_score} letters\")\n",
    "    elif player2_score > player1_score:\n",
    "        print(f\"Player 2 wins as thier word {player2_word} is longer than Player 1's word {player1_word} by {player2_score - player1_score} letters\")\n",
    "    else:\n",
    "        print(f\"Both players had words which were the same in length with a length of {player1_score} letters player 1's word was {player1_word} and player 2's word was {player2_word}\")\n",
    "\n",
    "word_game(words)\n",
    "\n",
    "# Through the use of a comparsion operator the program is able to determine which player has the longest word and then print out \n",
    "# which player one and by how much longer their word was in comparsion so the other player. "
   ]
  },
  {
   "attachments": {},
   "cell_type": "markdown",
   "metadata": {},
   "source": [
    "## Boolean Expressions & Selection\n",
    "- Category: Logical Operations & Decision Making\n",
    "- Definition: Boolean Expressions are used to evaluate expressions are either True or False and can be used with selection statments such as if, and elif to make exucute certain blocks of code.\n",
    "\n",
    "## Boolean Expressions & Selection Code Example"
   ]
  },
  {
   "cell_type": "code",
   "execution_count": 33,
   "metadata": {},
   "outputs": [
    {
     "name": "stdout",
     "output_type": "stream",
     "text": [
      "You are not a citizen of New Zealand but Mexico and are 2 years old. Check the voting rules in Mexico to know if you can vote.\n"
     ]
    }
   ],
   "source": [
    "def Citzenship_Checker():\n",
    "    age = int(input(\"What is your age?\"))\n",
    "    citzenship = input(\"What country are you a citzen of?\")\n",
    "    if age >= 18 and citzenship.strip().lower() == \"New Zealand\".strip().lower():\n",
    "        print(f\"You are {age} so you are able to vote in New Zealand\")\n",
    "    elif age <= 18 and citzenship.strip().lower() == \"New Zealand\".strip().lower():\n",
    "        print(f\"You are {age} so you are a minor but a citizen of New Zealand\")\n",
    "    else:\n",
    "        print(f\"You are not a citizen of New Zealand but {citzenship} and are {age} years old. Check the voting rules in {citzenship} to know if you can vote.\")\n",
    "\n",
    "Citzenship_Checker()\n",
    "\n",
    "# Through the use of Boolean statements the program is able to determine if\n",
    "# the users age is greater than or equal to 18 is True \n",
    "# and if they are a citizen of New Zealand is also true \n",
    "# They are able to vote and otherwise informs of them of their\n",
    "# respective reason why the cannot vote in New Zealand."
   ]
  },
  {
   "attachments": {},
   "cell_type": "markdown",
   "metadata": {},
   "source": [
    "## Booleans Expressions and Iteration\n",
    "- Category: Logical Operations & Decision Making\n",
    "- Definition: Boolean Expressions can be used with iteration as they can be used as a loopoing condition so if the condition was true the loop would continue to run and if it was false the loop would stop running. Or you could make an infinite loop by making the condition always true.\n",
    "\n",
    "## Booleans Expressions and Iteration Code Example"
   ]
  },
  {
   "cell_type": "code",
   "execution_count": 35,
   "metadata": {},
   "outputs": [
    {
     "name": "stdout",
     "output_type": "stream",
     "text": [
      "There are 33 cookies left in the pantry after you ate 2 cookies and you gained 80 calories\n"
     ]
    }
   ],
   "source": [
    "def pantry():\n",
    "    cookie_jar = int(input(\"How many cookies are in the pantry?\"))\n",
    "    end = int(input(\"How many cookies will you eat?\"))\n",
    "    limit = cookie_jar - end \n",
    "    \n",
    "    while cookie_jar > limit:\n",
    "        cookie_jar -= 1\n",
    "    print(f\"There are {cookie_jar} cookies left in the pantry after you ate {end} cookies and you gained {end*40} calories\")\n",
    "\n",
    "pantry()"
   ]
  },
  {
   "attachments": {},
   "cell_type": "markdown",
   "metadata": {},
   "source": [
    "## Truth Tables\n",
    "- Category: Logical Operations & Decision Making\n",
    "- Definition: Truth tables show the results of combining boolean values to show the whether or not a condition can be true or false. For instance if you were to make a truth table for the condition of a person being able to vote you could make it so that the first column would be the age of the person and the second column would be whether or not they are a citizen. Then you could make it so that if the person is 18 or older and a citizen they can vote, if they are 18 or older and not a citizen they can not vote, if they are under 18 and a citizen they can not vote, and if they are under 18 and not a citizen they can not vote. This is an illustration of how truth tables can be used to make decisions in a program. However they can also be used when expressing other operations besides *and* such as *or*, *not*, and *xor*.\n",
    "\n",
    "## Truth Tables Code Example"
   ]
  },
  {
   "cell_type": "code",
   "execution_count": 11,
   "metadata": {},
   "outputs": [
    {
     "name": "stdout",
     "output_type": "stream",
     "text": [
      "A\tB\tAND\tOR\tNOT\tXOR\n",
      "True\tFalse\tFalse\tTrue\tFalse\tTrue\n",
      "False\tTrue\tFalse\tTrue\tTrue\tTrue\n",
      "False\tFalse\tFalse\tFalse\tTrue\tFalse\n",
      "True\tTrue\tTrue\tTrue\tFalse\tFalse\n"
     ]
    }
   ],
   "source": [
    "def Truth_Table(A, B):\n",
    "    def Logic(A, B):\n",
    "        AND = A and B\n",
    "        OR = A or B\n",
    "        NOT = not A\n",
    "        XOR = A ^ B\n",
    "        return AND, OR, NOT, XOR\n",
    "    AND, OR, NOT, XOR = Logic(A, B)\n",
    "    print(f\"{A}\\t{B}\\t{AND}\\t{OR}\\t{NOT}\\t{XOR}\")\n",
    "\n",
    "print(\"A\\tB\\tAND\\tOR\\tNOT\\tXOR\")\n",
    "Truth_Table(True, False)\n",
    "Truth_Table(False, True)\n",
    "Truth_Table(False, False)\n",
    "Truth_Table(True, True)\n",
    "\n",
    "# Through a Truth Table the program is able to \n",
    "# display the result of the logic gates AND, OR, NOT,\n",
    "# and XOR. Illustrating how each gate functions. "
   ]
  },
  {
   "attachments": {},
   "cell_type": "markdown",
   "metadata": {},
   "source": [
    "## Charectors \n",
    "- Category: Strings & String Operations\n",
    "- Definition: A character is a symbol that represents a letter, number, or other character. They are used to represent all kinds of itmes including special charectors and spaces. Ex. !@#$%^&*()_+{}|:\"<>?`~[]\\;',./ are all charectors. Charectors can be stored in strings in python.\n",
    "\n",
    "## Charectors Code Example"
   ]
  },
  {
   "cell_type": "code",
   "execution_count": 20,
   "metadata": {},
   "outputs": [
    {
     "name": "stdout",
     "output_type": "stream",
     "text": [
      "Your word is butter\n",
      "b has the ASCII code 98\n",
      "u has the ASCII code 117\n",
      "t has the ASCII code 116\n",
      "t has the ASCII code 116\n",
      "e has the ASCII code 101\n",
      "r has the ASCII code 114\n"
     ]
    }
   ],
   "source": [
    "def charectors():\n",
    "    word = input(\"What is your word?\")\n",
    "    print(f\"Your word is {word}\")\n",
    "    for charector in word:\n",
    "        print(f\"{charector} has the ASCII code {ord(charector)}\")\n",
    "\n",
    "charectors()\n",
    "# This program showcases charectors stored in a string which it \n",
    "# then iterates through printing the ASCII code that each \n",
    "# charector correlates to."
   ]
  },
  {
   "attachments": {},
   "cell_type": "markdown",
   "metadata": {},
   "source": [
    "## Strings\n",
    "- Category: Strings & String Operations\n",
    "- Definition: Strings are a datatype that is used to store text in a program. For instance if you were to make a program that would ask the user for their name and then print out a message saying hello to them you could use a string to store the users name. \n",
    "\n",
    "## Strings Code Example"
   ]
  },
  {
   "cell_type": "code",
   "execution_count": 39,
   "metadata": {},
   "outputs": [
    {
     "name": "stdout",
     "output_type": "stream",
     "text": [
      "1 is not a string\n",
      "3.23 is not a string\n",
      "Cheese is a string\n",
      "True is not a string\n",
      "5 is not a string\n",
      "[1, 2, 3] is not a string\n"
     ]
    }
   ],
   "source": [
    "Things = [1, 3.23, \"Cheese\", True, 5, [1, 2 , 3]]\n",
    "def string_check(Things):\n",
    "    for thing in Things:\n",
    "        if type(thing) == str:\n",
    "            print(f\"{thing} is a string\")\n",
    "        else:\n",
    "            print(f\"{thing} is not a string\")\n",
    "\n",
    "string_check(Things)"
   ]
  }
 ],
 "metadata": {
  "kernelspec": {
   "display_name": "base",
   "language": "python",
   "name": "python3"
  },
  "language_info": {
   "codemirror_mode": {
    "name": "ipython",
    "version": 3
   },
   "file_extension": ".py",
   "mimetype": "text/x-python",
   "name": "python",
   "nbconvert_exporter": "python",
   "pygments_lexer": "ipython3",
   "version": "3.9.12"
  },
  "orig_nbformat": 4,
  "vscode": {
   "interpreter": {
    "hash": "c01fa961529e9daabe8f923baaa66cec9a05e87366ddea10e0ca4d35fb3358df"
   }
  }
 },
 "nbformat": 4,
 "nbformat_minor": 2
}
