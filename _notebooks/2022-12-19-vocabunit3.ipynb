{
 "cells": [
  {
   "attachments": {},
   "cell_type": "markdown",
   "metadata": {},
   "source": [
    "# Unit 3 Vocabulary\n",
    "> Vocab For Unit 3\n",
    "- title: Unit 3 Vocabulary\n",
    "- toc: true\n",
    "- badges: false\n",
    "- tags: [chapter3, week16, vocab]\n",
    "- categories: [chapter3, week16, vocab]"
   ]
  },
  {
   "attachments": {},
   "cell_type": "markdown",
   "metadata": {},
   "source": [
    "# Word List\n",
    "\n",
    "`Storing & Manipulating Data`\n",
    "- Variables\n",
    "- Data Types\n",
    "- Assignment Operators\n",
    "\n",
    "`Managing Complexity with Variables`  \n",
    "- Lists\n",
    "- 2D Lists\n",
    "- Dictionaries\n",
    "- Class Algorithms \n",
    "- Sequence \n",
    "- Selection\n",
    "- Iteration\n",
    "\n",
    "`Logical Operations & Decision Making`\n",
    "- Expressions\n",
    "- Comparison Operators\n",
    "- Booleans Expressions and Selection\n",
    "- Booleans Expressions and Iteration\n",
    "- Truth Tables\n",
    "\n",
    "`Strings & String Operations`\n",
    "- Characters\n",
    "- Strings\n",
    "- Length\n",
    "- Concatenation\n",
    "- Upper\n",
    "- Lower\n",
    "- Traversing Strings\n",
    "\n",
    "`Conditional Statements`\n",
    "- Python If\n",
    "- Elif\n",
    "- Else conditionals\n",
    "- Nested Selection Statements\n",
    "\n",
    "`Loops & Iteration`\n",
    "- Python For, \n",
    "- While loops with Range, \n",
    "- List Combining loops with conditionals to Break\n",
    "- Continue\n",
    "\n",
    "`Algorythms`\n",
    "- Procedural Abstraction \n",
    "- Python Def procedures \n",
    "- Parameters \n",
    "- Return Values\n"
   ]
  },
  {
   "attachments": {},
   "cell_type": "markdown",
   "metadata": {},
   "source": [
    "## Variables\n",
    "- Category: Storing & Manipulating Data\n",
    "- Definition: A variable is a named location used to store data in the memory. It is helpful to think of variables as containers that hold information. Its sole purpose is to label and store data in memory. This allows for better organization of the data, and allows the data to be accessed and modified by a reference to an identifier. Variables can also be changed during a program's execution. Variables can be used for storing data of different types, such as numbers, strings, lists, etc. Variables are created when you assign a value to it. The equal sign (=) is used to assign values to variables. The operand to the left of the = operator is the name of the variable and the operand to the right of the = operator is the value stored in the variable. \n",
    "\n",
    "## Variable Code Example"
   ]
  },
  {
   "cell_type": "code",
   "execution_count": 5,
   "metadata": {},
   "outputs": [
    {
     "name": "stdout",
     "output_type": "stream",
     "text": [
      "The area of the rectangle is: 288 square in\n"
     ]
    }
   ],
   "source": [
    "def rectangle_area():\n",
    "    width = int(input(\"Enter the width of the rectangle: \"))\n",
    "    height = int(input(\"Enter the height of the rectangle: \"))\n",
    "    unit = input(\"Enter the unit of measurement: \")\n",
    "    area = width * height\n",
    "    print(f\"The area of the rectangle is: {area} square {unit}\")\n",
    "\n",
    "rectangle_area()\n",
    "\n",
    "# Through assigning variables the program is able to store the \n",
    "# imputted values and use them in the calculation of the area.\n",
    "# The program is also able to print the result of the calculation.\n",
    "# Without variables the program would not be able to store the values\n",
    "# and would not be able to print the result of the calculation."
   ]
  },
  {
   "attachments": {},
   "cell_type": "markdown",
   "metadata": {},
   "source": [
    "## Data Types\n",
    "- Category: Storing & Manipulating Data\n",
    "- Definition: Data types are the classification or categorization of data items. It represents the kind of value that tells what operations can be performed on a particular data. Python has various data types that are used to define the operations possible on them and the storage method for each of them. The data type specifies the size and type of values that can be stored in the variable. The data type of a variable is the type of data that variable can store. For example, a variable of type int can only store integer values. The data type of a variable can be changed during the execution of a program. Python has the following data types built-in by default, in these categories: \n",
    "    - Text Type: str \n",
    "    - Numeric Types: int, float, complex \n",
    "    - Sequence Types: list, tuple, range \n",
    "    - Mapping Type: dict \n",
    "    - Set Types: set, frozenset \n",
    "    - Boolean Type: bool \n",
    "    - Binary Types: bytes, bytearray, and memoryview. \n",
    "- However more the most common data types are Integers, Floats, Strings, Booleans, and Lists/Arrays. `In some programming languages like C, C++, and Java, the data types are explicitly declared. In Python, the data type is automatically inferred from the value assigned to the variable.`\n",
    "\n",
    "## Data Types Code Example"
   ]
  },
  {
   "cell_type": "code",
   "execution_count": 12,
   "metadata": {},
   "outputs": [
    {
     "name": "stdout",
     "output_type": "stream",
     "text": [
      "\n",
      "1 is of <class 'int'>\n",
      "\n",
      "3.14 is of <class 'float'>\n",
      "\n",
      "Hello is of <class 'str'>\n",
      "\n",
      "True is of <class 'bool'>\n",
      "\n",
      "[1, 2, 3] is of <class 'list'>\n",
      "\n",
      "(1, 2, 3) is of <class 'tuple'>\n",
      "\n",
      "{1, 2, 3} is of <class 'set'>\n",
      "\n",
      "{'a': 1, 'b': 2, 'c': 3} is of <class 'dict'>\n"
     ]
    }
   ],
   "source": [
    "Data = [1, 3.14, \"Hello\", True, [1, 2, 3], (1, 2, 3), {1, 2, 3}, {\"a\": 1, \"b\": 2, \"c\": 3}]\n",
    "\n",
    "for datatype in Data:\n",
    "    print(f\"\\n{datatype} is of {type(datatype)}\")\n",
    "\n",
    "# This program showcases the different data types in Python. The program doesn't\n",
    "# contain all the data types in python but illustrates a few of the main ones. \n",
    "# BTW at index 6 in the list is the object is a set, not a dictionary."
   ]
  },
  {
   "attachments": {},
   "cell_type": "markdown",
   "metadata": {},
   "source": [
    "## Assignment Operators\n",
    "- Category: Storing & Manipulating Data\n",
    "- Definition: An assignment statement creates new variables and gives them values. The equal sign (=) is used to assign values to variables. The operand to the left of the = operator is the name of the variable and the operand to the right of the = operator is the value stored in the variable. The assignment operator (=) is used to assign values to variables. The value of the right-hand side of the expression is calculated first and then assigned to the variable on the left-hand side. The assignment operator can also be used to assign the result of any expression to a variable. Other assignment operators in python also include +=, -=, *=, /=, %=, //=, **=, &=, |=, ^=, >>=, <<=, etc. Which are used for addition, subtraction, multiplication, division, modulus, floor division, exponent, bitwise AND, bitwise OR, bitwise XOR, bitwise right shift, bitwise left shift, respectively.\n",
    "\n",
    "## Assignment Operators Code Example"
   ]
  },
  {
   "cell_type": "code",
   "execution_count": 25,
   "metadata": {},
   "outputs": [
    {
     "name": "stdout",
     "output_type": "stream",
     "text": [
      "Oh no the Bubmbler has gotten hold of you your shopping is going to be bumbled!\n",
      "The Bumbler has gotten hold of 6 items beware they will be bumbled!\n",
      "The Bumbler has gotten hold of these items: \n",
      "2 gallons of milk, bottled water, cheese sticks, wallet, car, watch\n",
      "Your bubmbled items are: \n",
      "The bumblers price, The bumblers price, 2 gallons of milk, watch, wallet, The bumblers price\n",
      "You have been bumbled!\n"
     ]
    }
   ],
   "source": [
    "import random \n",
    "\n",
    "def bubmler():\n",
    "    # Variable Declaration\n",
    "    runs = 0\n",
    "    temp_itmes = 0\n",
    "    bundle = []\n",
    "    # Comedic Prints used to make the program more fun\n",
    "    print(\"Oh no the Bubmbler has gotten hold of you your shopping is going to be bumbled!\")\n",
    "    \n",
    "    # User input for the number of items the bumbler has gotten hold of to iterate through\n",
    "    items = int(input(\"How many objects did the bumbler get hold of?\"))\n",
    "    \n",
    "    # Prints the number of items the bumbler has gotten hold of\n",
    "    print(f\"The Bumbler has gotten hold of {items} items beware they will be bumbled!\")\n",
    "    \n",
    "    # The use of the = assignment operator is used to assign the value of items to temp_items\n",
    "    temp_itmes = items\n",
    "    \n",
    "    # Uses the -= operator to decrement the value of temp_items by 1\n",
    "    # The while loop is used to iterate through the number of items the bumbler has gotten hold of\n",
    "    # The input function is used to get the name of the object the bumbler has gotten hold of\n",
    "    while temp_itmes > 0:\n",
    "        ToBeBumbled = input(\"What object did the bumbler get hold of?\")\n",
    "        bundle.append(ToBeBumbled)\n",
    "        temp_itmes -= 1\n",
    "    \n",
    "    # Tells the user what items the bumbler has gotten hold of\n",
    "    print(\"The Bumbler has gotten hold of these items: \")\n",
    "    print(*bundle, sep=\", \")\n",
    "\n",
    "    # Uses random.shuffle to shuffle the items the bumbler has gotten hold of\n",
    "    # Uses random.randint to generate a random number between 0 and the number \n",
    "    # of items the bumbler has gotten hold of and if the number is 3 then the\n",
    "    # bumbler will take the item if the bumbler has taken an item then it \n",
    "    # will be replaced with \"The bumblers price\" and tell the user they have been bumbled\n",
    "    \n",
    "    random.shuffle(bundle)\n",
    "    for bumble in bundle:\n",
    "        if random.randint(0, len(bundle)) == 3:\n",
    "            location = bundle.index(bumble)\n",
    "            bundle[location] = \"The bumblers price\"\n",
    "    print(\"Your bubmbled items are: \")\n",
    "    print(*bundle, sep=\", \")\n",
    "    if \"The bumblers price\" in bundle:\n",
    "        print(\"You have been bumbled!\")\n",
    "\n",
    "bubmler()"
   ]
  },
  {
   "attachments": {},
   "cell_type": "markdown",
   "metadata": {},
   "source": [
    "## Lists\n",
    "- Category: Managing Complexity with Variables\n",
    "- Definition: A list is a collection which is ordered and changeable. In Python lists are written with square brackets. Lists are one of the most versatile data types available in Python which can be written as a list of comma-separated values (items) between square brackets. Important thing about a list is that items do not have to be the same type. ex. list1 = ['physics', 'chemistry', 1997, 2000]; list2 = [1, 2.00, \"butter\", {1, 2, 3}, False ]; list3 = [\"a\", \"b\", \"c\", \"d\"]\n",
    "\n",
    "## Lists Code Example"
   ]
  },
  {
   "cell_type": "code",
   "execution_count": 28,
   "metadata": {},
   "outputs": [
    {
     "name": "stdout",
     "output_type": "stream",
     "text": [
      " violets are blooming this year.\n",
      " roses are blooming this year.\n",
      " poppies are blooming this year.\n"
     ]
    }
   ],
   "source": [
    "def flowers():\n",
    "    # Variable Declaration\n",
    "    flower = \"\"\n",
    "    flower_list = []\n",
    "    # The while loop is used to iterate through the number of flowers the user has\n",
    "    while flower != \"done\":\n",
    "        flower = input(\"Enter a flower (type done to finish): \")\n",
    "        if flower != \"done\":\n",
    "            flower_list.append(flower)\n",
    "    # The for loop is used to iterate through the list of flowers and print them\n",
    "    for flower in flower_list:\n",
    "        print(f\" {flower} are blooming this year.\")\n",
    "flowers()\n",
    "\n",
    "# Creates a list called flower_list then then the user is asked to enter a flower\n",
    "# until they type done. Then a for loop is used to iterate through the list of flowers\n",
    "# and print then print that they are blooming this year. This code could be adapted by \n",
    "# adding a more usefull opeation that could be done to the list. \n",
    "# To see an example that incorperates this see the bumbler program above. "
   ]
  },
  {
   "attachments": {},
   "cell_type": "markdown",
   "metadata": {},
   "source": [
    "## 2D Lists\n",
    "- Category: Managing Complexity with Variables\n",
    "- Definition: 2D Lists also reffered to as matrixes are lists of lists. They are used to store data in a tabular form. For example, a list of lists can be used to store rows and columns of data. The following code creates a 2D list with 3 rows and 2 columns.\n",
    "\n",
    "## 2D Lists Code Example"
   ]
  },
  {
   "cell_type": "code",
   "execution_count": null,
   "metadata": {},
   "outputs": [],
   "source": []
  },
  {
   "attachments": {},
   "cell_type": "markdown",
   "metadata": {},
   "source": [
    "## Dictionaries\n",
    "- Category: Managing Complexity with Variables\n",
    "- Defintion: A dictionary stores (key, value) pairs, similar to a Map in Java or an object in Javascript. Dictionaries are optimized to retrieve values when the key is known. In Python, a dictionary is created by placing a sequence of elements within curly {} braces, separated by ‘comma’. Dictionary holds a pair of values, one being the Key and the other corresponding pair element being its Key:value. Values in a dictionary can be of any datatype and can be duplicated, whereas keys can’t be repeated and must be immutable. Dictionaries are optimized to retrieve values when the key is known. Python’s dictionaries are kind of hash table type. It consists of key-value pairs. A dictionary key can be almost any Python type, but are usually numbers or strings. Values, on the other hand, can be any arbitrary Python object.\n",
    "\n",
    "## Dictionaries Code Example"
   ]
  },
  {
   "cell_type": "code",
   "execution_count": null,
   "metadata": {},
   "outputs": [],
   "source": []
  }
 ],
 "metadata": {
  "kernelspec": {
   "display_name": "Python 3",
   "language": "python",
   "name": "python3"
  },
  "language_info": {
   "codemirror_mode": {
    "name": "ipython",
    "version": 3
   },
   "file_extension": ".py",
   "mimetype": "text/x-python",
   "name": "python",
   "nbconvert_exporter": "python",
   "pygments_lexer": "ipython3",
   "version": "3.10.6"
  },
  "orig_nbformat": 4,
  "vscode": {
   "interpreter": {
    "hash": "916dbcbb3f70747c44a77c7bcd40155683ae19c65e1c03b4aa3499c5328201f1"
   }
  }
 },
 "nbformat": 4,
 "nbformat_minor": 2
}
