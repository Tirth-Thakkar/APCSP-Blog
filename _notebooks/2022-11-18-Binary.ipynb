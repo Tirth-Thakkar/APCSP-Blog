{
 "cells": [
  {
   "attachments": {},
   "cell_type": "markdown",
   "metadata": {},
   "source": [
    "# Binary Logic and Abstraction \n",
    "> Notes on the Binary Logic Lesson  \n",
    "- title: Binary Logic and Abstraction  \n",
    "- toc: true\n",
    "- comments: true\n",
    "- image: images/binary.png\n",
    "- tags: [week13]"
   ]
  },
  {
   "cell_type": "markdown",
   "metadata": {},
   "source": [
    "# Notes\n",
    "- Abstraction hiding aspects of a program to make it more user friendly\n",
    "- Octal, Hexadecimal, decimal, binary, etc., talking about the number of symbols per digit\n",
    "- Have to approach things in a scientific manner - do research\n",
    "- Toggling binary digits of bits to represent different numbers \n",
    "- Does so through transistors that can get turned on and off in patterns can allow for a computer to count in patterns \n",
    "- Binary patterns came to be 20, 21, etc. similar to binary which is base 10\n",
    "- To count higher the number of bits increases, the highest number that can be stored in three bits is 7 and it can increase to store more, usually 8 bits\n",
    "- Letters can also be stored as different values allowing other functions to be possible with a computer \n"
   ]
  }
 ],
 "metadata": {
  "kernelspec": {
   "display_name": "Python 3.8.10 64-bit",
   "language": "python",
   "name": "python3"
  },
  "language_info": {
   "name": "python",
   "version": "3.10.6 (main, Nov  2 2022, 18:53:38) [GCC 11.3.0]"
  },
  "orig_nbformat": 4,
  "vscode": {
   "interpreter": {
    "hash": "916dbcbb3f70747c44a77c7bcd40155683ae19c65e1c03b4aa3499c5328201f1"
   }
  }
 },
 "nbformat": 4,
 "nbformat_minor": 2
}
