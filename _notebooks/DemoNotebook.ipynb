{
 "cells": [
  {
   "cell_type": "markdown",
   "metadata": {},
   "source": [
    "# Printing Hello Jupyter Notebook Demo\n",
    "> Use of Jupyter Notebook and print \n",
    "\n",
    "- title: Printing Hello Jupyter Notebook Demo\n",
    "- toc: false\n",
    "- branch: master\n",
    "- comments: true\n",
    "- categories: [collegeboard] [APCSP]\n",
    "- tags: [python]"
   ]
  },
  {
   "cell_type": "code",
   "execution_count": null,
   "metadata": {},
   "outputs": [],
   "source": [
    "print(\"hello\")"
   ]
  }
 ],
 "metadata": {
  "language_info": {
   "name": "python"
  },
  "orig_nbformat": 4
 },
 "nbformat": 4,
 "nbformat_minor": 2
}
