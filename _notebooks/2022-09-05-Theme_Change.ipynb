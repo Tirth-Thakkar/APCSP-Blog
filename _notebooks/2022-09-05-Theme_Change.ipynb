{
 "cells": [
  {
   "attachments": {},
   "cell_type": "markdown",
   "metadata": {},
   "source": [
    "# Theme Change\n",
    "> Experience changing the theme on Blog. \n",
    "- title: Theme Change \n",
    "- toc: true\n",
    "- comments: true\n",
    "- image: images/Colors.jpg\n",
    "- tags: [week02]\n",
    "- categories: [week02]\n"
   ]
  },
  {
   "cell_type": "markdown",
   "metadata": {},
   "source": [
    "![Theme](https://github.com/Tirth-Thakkar/APCSP-Blog/blob/master/images/Theme_Change.png?raw=true)"
   ]
  },
  {
   "cell_type": "markdown",
   "metadata": {},
   "source": [
    "### Analysis\n",
    "After changing to an unsupported theme from Jekyl, there seems to be a lack of options to toggle to tags and other features present to allow switching between pages. There also seems to be a difference in the formatting of images as the appear to be no longer the similar size. Along with further issues with titles not being correctly spaced and ordered in a way that correlated well with their title-card images. Along with the favicon being missing as well, however all other functions such as the post appear to be functioning.  \n"
   ]
  }
 ],
 "metadata": {
  "kernelspec": {
   "display_name": "Python 3.10.4 64-bit",
   "language": "python",
   "name": "python3"
  },
  "language_info": {
   "name": "python",
   "version": "3.10.6 (main, Nov 14 2022, 16:10:14) [GCC 11.3.0]"
  },
  "orig_nbformat": 4,
  "vscode": {
   "interpreter": {
    "hash": "916dbcbb3f70747c44a77c7bcd40155683ae19c65e1c03b4aa3499c5328201f1"
   }
  }
 },
 "nbformat": 4,
 "nbformat_minor": 2
}
