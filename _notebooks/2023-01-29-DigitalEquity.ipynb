{
 "cells": [
  {
   "attachments": {},
   "cell_type": "markdown",
   "metadata": {},
   "source": [
    "# Digital Divide and Equity\n",
    "> A reflection on the digital divide and equity\n",
    "- title: Digital Divide & Equity\n",
    "- toc: true\n",
    "- badges: false\n",
    "- tags: [week20]\n",
    "- categories: [week20]"
   ]
  },
  {
   "attachments": {},
   "cell_type": "markdown",
   "metadata": {},
   "source": [
    "## Investments in Digital Education Vs. Security\n",
    "- When considering the question how may investments into security affect technological education and wether they increase the digital divide. It would be crucially important to focus on the efforts made by institution public or private towards technological education and equity and the movements made to restrict such access based upon security concerns. Some program which wish to lessen the digital divide are programs such as the Affordable Connectivity Program from the FCC which wished to allow for the greater proliferation of broadband technologies to allow for lower income households to be able to be receive internet services at a reduced cost along with hardware such as personal computers, tablets, etc. Similar services from private institutions include projects such as Microsoft Airband which strives to provide internet access to areas where such access would otherwise be unavailable through satellite communications with a collaboration from Viasat and attempts to provide the best connectivity for that region. However how these programs designed to reduce the digital divide and increase equity through creating the opportunity for communities who are unable access such resources and these services allow for greater connectivity and allow for greater digital expression and create allow for greater upwards mobility in professions such as computer science a field where having access to a machine is otherwise impossible and support families to be able to partake in digital activities which we consider to be required for day to day task such as schoolwork or social interaction. These goals may be limited by fears of privacy and security as institutions government or otherwise may wish to prevent the spread of information or content that may be against their political goals in nations such as China where content that descents the CCP is unavailable in the country along with many services we are accustomed to. Further restrictions may come from group such as religious or educational bodies that may wish to restrict access to content that is believed to be against their rules/beliefs such as restrictions on communal machines at school restricting internet access or religious institutions blocking content related to sexual education and content that may lead their followers to challenge their faith in places like religious universities. These restrictions continue to increase the divide by preventing access to crucial information and resources that may be needed to be able to partake in the digital world.\n",
    "\n",
    "- `References:`\n",
    "    - https://www.fcc.gov/acp\n",
    "    - https://www.microsoft.com/en-us/corporate-responsibility/airband-initiative\n",
    "\n",
    "## Digital Empowerment\n",
    "- Some methods to increasing digital empowerment may be to one primarily increase the knowledge and digital literacy in groups such as the elderly to make them more in tune and more able to partake in the digital world through being less likely to fall victim to fraud and misleading results on questionable webpages and thus be more likely fall prey to misinformation. Other methods of digital empowerment could be the ability to be combat issues such as racial bias and prejudice through creating digital communities to counter such issues in a way otherwise impossible. Along with other methods available for individuals to empower themselves to for instance leak government wrongdoings in an anonymous manner along with creating tools for those in countries with goals of limiting the proliferation of knowledge with tools such as VPNs o be able to bypass these censors and be able to gain new knowledge and information. \n",
    "\n",
    "### Helping the Unempowered\n",
    "- For instance helping a student who is digitally unempowered at Del Norte High School would most likely be to either if they were unfamiliar with the technology support them in able to learn and be able to express themselves through the technology and be able to better be able to accomplish tasks such as school work or create things that they may have wished to but otherwise would have been unable. If they didn't have access to the needed resources such as a functioning computer or internet access we can either use the help of existing programs and resources to be able to overcome these forms on inequity or we can create our own programs and fundraisers in order to rectify the issue. For a more general case the best way to allow to empower those digitally unempowered would be to create create programs and seminars or classes to increase technical literacy and digital literacy to greater empower those who need it by being less likely to fall prey to fraud and misinformation and be able to better partake in the digital world. Or to create and support programs that allow for greater access to the internet and technology to those who are unable to access it such as local charities and programs that support such causes or create our own if none exist.\n",
    "\n",
    "## Red Tape?\n",
    "- Red tape or excessive bureaucracy would increase the digital divide as such restrictions would prevent needed access to resources in public institutions like schools and preventing the installation or use of needed programs and software preventing increasing the technical knowledge and success of students. Or the inability to create new systems in places like government such as new initiatives to provide the tools individuals need for success. Along with failing to properly adapt to the changing technological landscape through failing to allow access to new revolutionary technologies or preventing exploitation of individuals at risk such as the elderly or children.Such instances at Del Norte could be the inability to transfer files to and off school systems from external drives along with being unable to access programs on school machines thus making them unable to support students to the degree they otherwise would be able to, another limitation is the inability to install programs and remove them from school machines to accomplish goals for classes like computer science courses. To further add to the point of greater inabilities on school property would be internet restrictions on school wifi preventing access to important information or the ability access tools and files needed for school work as seen in the need for us to use a VPN to access all the material needed for this class. In other places similar restrictions would be the inability access resources due to aging systems that no longer are in tune with local technological landscape and are functionally obsolete and unable to be updated to be able to support the needs of the community. Other instances may include efforts by government bodies that serve to be functional due to taking too long to able to pass through cumbersome bureaucratic processes and thus are unable to be implemented in a timely manner and thus are unable to be able to serve the needs of the community as by the time they are implemented they are functionally obsolete or watered down due to opposing interests and in both scenarios are functionally useless to the community or otherwise.  "
   ]
  }
 ],
 "metadata": {
  "kernelspec": {
   "display_name": "Python 3",
   "language": "python",
   "name": "python3"
  },
  "language_info": {
   "name": "python",
   "version": "3.10.6 (main, Nov 14 2022, 16:10:14) [GCC 11.3.0]"
  },
  "orig_nbformat": 4,
  "vscode": {
   "interpreter": {
    "hash": "916dbcbb3f70747c44a77c7bcd40155683ae19c65e1c03b4aa3499c5328201f1"
   }
  }
 },
 "nbformat": 4,
 "nbformat_minor": 2
}
