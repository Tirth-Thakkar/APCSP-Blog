{
 "cells": [
  {
   "attachments": {},
   "cell_type": "markdown",
   "metadata": {},
   "source": [
    "# Digital Divide and Equity\n",
    "> A reflection on the digital divide and equity\n",
    "- title: Digital Divide & Equity\n",
    "- toc: true\n",
    "- badges: false\n",
    "- tags: [week20]\n",
    "- categories: [week20]"
   ]
  },
  {
   "attachments": {},
   "cell_type": "markdown",
   "metadata": {},
   "source": [
    "## Investments in Digital Education Vs. Security\n",
    "When considering the question how may investments into security affect technological education and wether they increase the digital divide. It would be cruically important to focus on the efforts made by insititution public or private towards technological education and equity and the movements made to restrict such access based apon secuity concerns. Some program which wish to lessen the digital divide are programs such as the Affordable Connectivty Program from the FCC which wished to allow for the greater proliferation of broadband technolgies to allow for lower income households to be able to be recieve internet services at a reduced cost along with hardware such as personal computers, tablets, etc. Similar services from private institutions include projects such as Microsoft Airband which strives to provide interenet access to areas where such access would otherwise be unaviable through satillite communications with a collaboration from Viasat and attempts to provide the best connectvity for that region. However how these programs designed to reduce the digital divide and increase equity through creating the opportunity for communties who are unable access such resources and these services allow for greater connecivity and allow for greater digital expression and create allow for greater upwards mobility in professions such as computer science a field where having access to a machine is otherwise impossible and support familes to be able to partake in digital activies which we consider to be reauired for day to day task such as schoolwork or social interaction. These goals may be limited by fears of privacy and security as insititution government or otherwise may wish to prevent the spread of information or content that may be against their politcal goals in nations such as China where content that desents the CCP is unavalible in the country along with many services we are accustomed to. Further restrictions may come from group such as religous or educational bodies that may wish to restrict access to content that is believed to be against their rules/beliefs such as restritions on communal machines at school restricting internet access or relgious institutions blocking content related to sexual education and content that may lead their followers to challenge their faith in places like religous universties. These restrictions continue to increase the divide by preventing access to crucial information and resources that may be needed to be able to partake in the digital world.\n",
    "\n",
    "Refrences:\n",
    "https://www.fcc.gov/acp\n",
    "https://www.microsoft.com/en-us/corporate-responsibility/airband-initiative\n",
    "\n",
    "## Digital Empowerment\n",
    "Some methods to increasing digital empowerment may be to one primarly increase the knowledge and digital literacy in groups such as the elderly to make them more intune and more able to partake in the digital world through being less likly to fall victim to fraud and misleading results on questionable webpages and thus be more likely fall prey to misinformation. Other methods of digital empowerment could be the ability to be combat issues such as racial bias and prejudice through creating digital communties to counter such issues in a way otherwise impossible. Along with other methods availble for individuals to empwer themselves\n",
    "\n"
   ]
  }
 ],
 "metadata": {
  "kernelspec": {
   "display_name": "Python 3",
   "language": "python",
   "name": "python3"
  },
  "language_info": {
   "name": "python",
   "version": "3.10.6 (main, Nov 14 2022, 16:10:14) [GCC 11.3.0]"
  },
  "orig_nbformat": 4,
  "vscode": {
   "interpreter": {
    "hash": "916dbcbb3f70747c44a77c7bcd40155683ae19c65e1c03b4aa3499c5328201f1"
   }
  }
 },
 "nbformat": 4,
 "nbformat_minor": 2
}
