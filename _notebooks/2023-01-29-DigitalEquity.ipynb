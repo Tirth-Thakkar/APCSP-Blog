{
 "cells": [
  {
   "attachments": {},
   "cell_type": "markdown",
   "metadata": {},
   "source": [
    "# Digital Divide and Equity\n",
    "> A reflection on the digital divide and equity\n",
    "- title: Digital Divide & Equity\n",
    "- toc: true\n",
    "- badges: false\n",
    "- tags: [week20]\n",
    "- categories: [week20]"
   ]
  },
  {
   "attachments": {},
   "cell_type": "markdown",
   "metadata": {},
   "source": [
    "## Investments in Digital Education Vs. Security\n",
    "- When considering the question how may investments into security affect technological education and wether they increase the digital divide. It would be cruically important to focus on the efforts made by insititution public or private towards technological education and equity and the movements made to restrict such access based apon secuity concerns. Some program which wish to lessen the digital divide are programs such as the Affordable Connectivty Program from the FCC which wished to allow for the greater proliferation of broadband technolgies to allow for lower income households to be able to be recieve internet services at a reduced cost along with hardware such as personal computers, tablets, etc. Similar services from private institutions include projects such as Microsoft Airband which strives to provide interenet access to areas where such access would otherwise be unaviable through satillite communications with a collaboration from Viasat and attempts to provide the best connectvity for that region. However how these programs designed to reduce the digital divide and increase equity through creating the opportunity for communties who are unable access such resources and these services allow for greater connecivity and allow for greater digital expression and create allow for greater upwards mobility in professions such as computer science a field where having access to a machine is otherwise impossible and support familes to be able to partake in digital activies which we consider to be reauired for day to day task such as schoolwork or social interaction. These goals may be limited by fears of privacy and security as insititution government or otherwise may wish to prevent the spread of information or content that may be against their politcal goals in nations such as China where content that desents the CCP is unavalible in the country along with many services we are accustomed to. Further restrictions may come from group such as religous or educational bodies that may wish to restrict access to content that is believed to be against their rules/beliefs such as restritions on communal machines at school restricting internet access or relgious institutions blocking content related to sexual education and content that may lead their followers to challenge their faith in places like religous universties. These restrictions continue to increase the divide by preventing access to crucial information and resources that may be needed to be able to partake in the digital world.\n",
    "\n",
    "- `Refrences:`\n",
    "https://www.fcc.gov/acp\n",
    "https://www.microsoft.com/en-us/corporate-responsibility/airband-initiative\n",
    "\n",
    "## Digital Empowerment\n",
    "- Some methods to increasing digital empowerment may be to one primarly increase the knowledge and digital literacy in groups such as the elderly to make them more intune and more able to partake in the digital world through being less likly to fall victim to fraud and misleading results on questionable webpages and thus be more likely fall prey to misinformation. Other methods of digital empowerment could be the ability to be combat issues such as racial bias and prejudice through creating digital communties to counter such issues in a way otherwise impossible. Along with other methods availble for individuals to empower themselves to for instance leak goverment wrongdoinfs in an anonomous manner along with creating tools for those in countries with goals of limiting the proliferation of knowledge with tools such as VPNs o be able to bypass these censors and be able to gain new knowledge and information. \n",
    "\n",
    "### Helping the Unempowered\n",
    "- For instanse helping a student who is digitally unempowered at Del Norte High School would most likely be to either if they were unfamilier with the technology support them in able to learn and be able to express themselves through the technology and be able to better be able to accomplish tasks such as school work or create things that they may have wished to but otherwise would have been unable. If they didn't have access to the needed resources such as a functioning computer or internet acccess we can either use the help of exisiting programs and resources to be able to ovecome these forms on inequity or we can create our own prgrams and fundraiasers in order to rectify the issue. For a more general case the best way to allow to empower those digtially unempowered would be to create create programs and seminars or classes to increase techincal literacy and digital literacy to greater empower those who need it by being less likly to fall prey to fraud and misinformation and be able to better partake in the digital world. Or to create and support programs that allow for greater access to the internet and technology to those who are unable to access it such as local charities and programs that support such causes or create our own if none exist.\n",
    "\n",
    "## Red Tape?\n",
    "- Red tape or excessive bureaucracy would increase the digital divide as such resctrictions would prevent needed access to resources in public institutions like schools and preventing the installation or use of needed programs and software preventing incresing the technicall knowledge and success of students. Or the inabliity to create new systems in places like government such as new initiatives to provide the tools individuals need for suceess. Along with failing to properly adapt to the changing technological landscape through failing to allow access to new revolutionary technoloigies or preventing exploitiation of individuals at risk such as the elderly or children.Such instances at Del Norte could be the inabliity to transfer files to and off school systems from external drives along with being unable to access programs on school machines thus making them unable to support students to the degree they otherwise would be able to, another limitation is the inabliity to install programs and remove them from school machines to accomplish goals for classes like computer science courses. To further add to the point of greater inabilities on school property would be internet restictions on school wifi preventing access to important information or the ability access tools and files needed for school work as seen in the need for us to use a VPN to access all the material needed for this class. In other places simliar restrictions would be the inablity access resources due to aging systems that no longer are in tune with local technological landscape and are functionally obsolete and unable to be updated to be able to support the needs of the community. Other instances may include efforts by government bodies that serve to be functional due to taking too long to able to pass through combursome bureaucratic processes and thus are unable to be implemented in a timely manner and thus are unable to be able to serve the needs of the community as by the time they are implemented they are functionally obsolete or watered down due to opposing interests and in both scenarios are functionally useless to the commmunity or otherwise.  "
   ]
  }
 ],
 "metadata": {
  "kernelspec": {
   "display_name": "Python 3",
   "language": "python",
   "name": "python3"
  },
  "language_info": {
   "name": "python",
   "version": "3.10.6 (main, Nov 14 2022, 16:10:14) [GCC 11.3.0]"
  },
  "orig_nbformat": 4,
  "vscode": {
   "interpreter": {
    "hash": "916dbcbb3f70747c44a77c7bcd40155683ae19c65e1c03b4aa3499c5328201f1"
   }
  }
 },
 "nbformat": 4,
 "nbformat_minor": 2
}
