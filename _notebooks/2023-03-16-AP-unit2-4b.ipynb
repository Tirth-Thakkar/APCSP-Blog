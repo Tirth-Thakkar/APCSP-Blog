{
 "cells": [
  {
   "attachments": {},
   "cell_type": "markdown",
   "metadata": {},
   "source": [
    "#  Unit 2.4b Using Programs with Data, SQL\n",
    "> Using Programs with Data is focused on SQL and database actions.  Part B focuses on learning SQL commands, connections, and curses using an Imperative programming style,\n",
    "- toc: true\n",
    "- categories: [week26]\n",
    "- type: ap\n",
    "- week: 26"
   ]
  },
  {
   "attachments": {},
   "cell_type": "markdown",
   "metadata": {},
   "source": [
    "# Database Programming is Program with Data\n",
    "> Each Tri 2 Final Project should be an example of a Program with Data. \n",
    "\n",
    ">  Prepare to use SQLite in common Imperative Technique\n",
    "- Explore [SQLite Connect object](https://www.tutorialspoint.com/python_data_access/python_sqlite_establishing_connection.htm) to establish database connection\n",
    "- Explore [SQLite Cursor Object](https://www.tutorialspoint.com/python_data_access/python_sqlite_cursor_object.htm) to fetch data from a table within a database\n"
   ]
  },
  {
   "attachments": {},
   "cell_type": "markdown",
   "metadata": {},
   "source": [
    "## Schema of Users table in Sqlite.db\n",
    "> Uses PRAGMA statement to read schema.\n",
    "\n",
    "Describe Schema, here is resource [Resource](https://www.sqlite.org/index.html)\n",
    "- What is a database schema? \n",
    "    - A database schema is a blueprint or a plan for the database. It defines how the data is organized and how the relations among them are associated. It also defines the constraints on the data, the functions and operations that can be applied to the data. \n",
    "- What is the purpose of identity Column in SQL database?\n",
    "    - The identity column is a column that is automatically incremented by 1 for each new row added to the table. It is used to uniquely identify each row in the table.\n",
    "- What is the purpose of a primary key in SQL database?\n",
    "    - The Purpose of a primary key in SQL database is to uniquely identify each row in a table. A primary key must contain unique values, and cannot contain NULL values.\n",
    "- What are the Data Types in SQL table?\n",
    "    - The datatypes in an SQL table are: \n",
    "        - Integer: Integer is a data type that stores whole numbers.\n",
    "        - Real: Real is a data type that stores floating point numbers.\n",
    "        - Text: Text is a collection of characters stored as a single entity in a database management system.\n",
    "        - Blob: Binary Large Object (BLOB) is a collection of binary data stored as a single entity in a database management system.\n",
    "        - Null: A null value is a special value that indicates that a value is missing or unknown."
   ]
  },
  {
   "cell_type": "code",
   "execution_count": 1,
   "metadata": {},
   "outputs": [
    {
     "name": "stdout",
     "output_type": "stream",
     "text": [
      "(0, 'id', 'INTEGER', 1, None, 1)\n",
      "(1, '_name', 'VARCHAR(255)', 1, None, 0)\n",
      "(2, '_uid', 'VARCHAR(255)', 1, None, 0)\n",
      "(3, '_password', 'VARCHAR(255)', 1, None, 0)\n",
      "(4, '_dob', 'DATE', 0, None, 0)\n"
     ]
    }
   ],
   "source": [
    "import sqlite3\n",
    "\n",
    "database = 'instance/sqlite.db' # this is location of database\n",
    "\n",
    "def schema():\n",
    "    \n",
    "    # Connect to the database file\n",
    "    conn = sqlite3.connect(database)\n",
    "\n",
    "    # Create a cursor object to execute SQL queries\n",
    "    cursor = conn.cursor()\n",
    "    \n",
    "    # Fetch results of Schema\n",
    "    results = cursor.execute(\"PRAGMA table_info('users')\").fetchall()\n",
    "\n",
    "    # Print the results\n",
    "    for row in results:\n",
    "        print(row)\n",
    "\n",
    "    # Close the database connection\n",
    "    conn.close()\n",
    "    \n",
    "schema()\n"
   ]
  },
  {
   "attachments": {},
   "cell_type": "markdown",
   "metadata": {},
   "source": [
    "## Reading Users table in Sqlite.db\n",
    "> Uses SQL SELECT statement to read data\n",
    "\n",
    "- What is a connection object?  After you google it, what do you think it does?\n",
    "    - A connection object is an object that is used to create a unique session that connects to a database. Which contains all the methods needed to alter, view, and change the data within the database and it is used to create a cursor object that is used to execute SQL statements.\n",
    "- Same for cursor object?\n",
    "    - A cursor object is an object that is used to execute SQL statements. It is used to fetch data from a table within a database along with other operations. \n",
    "- Look at conn object and cursor object in VSCode debugger.  What attributes are in the object?\n",
    "    - The attributes of the conn object are the methods that are used to connect to the database. The attributes of the cursor object are the methods that are used to execute SQL statements.  \n",
    "- Is \"results\" an object?  How do you know?\n",
    "    - Yes, results is an object. It contains data and functions that is related to the object. "
   ]
  },
  {
   "cell_type": "code",
   "execution_count": 2,
   "metadata": {},
   "outputs": [
    {
     "name": "stdout",
     "output_type": "stream",
     "text": [
      "(1, 'Thomas Edison', 'toby', 'sha256$oaO7LlrKnCQ4oYQS$8e5cda4490dfc9b8bc0d5444c219e3a0e2b6da2a2f603d40872090f73b709687', '1847-02-11')\n",
      "(2, 'Nikola Tesla', 'niko', 'sha256$sLpv3nJlSCHNgXAt$c771c34e2ccde377c49f78a4979fd5cef4fcfc0002aed013debf4e3a6b308dbf', '2023-03-15')\n",
      "(3, 'Alexander Graham Bell', 'lex', 'sha256$ZIvTO96vIwLgxPCA$71928b9d17d43d1e94541581f0586590b29ea09e68326e990e3ba4c434a28e82', '2023-03-15')\n",
      "(4, 'Eli Whitney', 'whit', 'sha256$Jpr2YeMTQiiSLqQZ$795ef584b38771ad4d5e60bb1a4d774774c2572c29f10a74ef12f0ca4c4fde80', '2023-03-15')\n",
      "(5, 'Indiana Jones', 'indi', 'sha256$Oa8VvLeSss17Um0k$d6c373c4ae390ced4d742fba0d105cbde90be4acd1a1ed2352479d31d6f251fa', '1920-10-21')\n",
      "(6, 'Marion Ravenwood', 'raven', 'sha256$pPCmYxzfpVzGYBw7$edbf4e97434f7fffa20655b0563224c7261b6a56ca9883192bda1553b28904f8', '1921-10-21')\n",
      "(7, '69', 'gamer', 'sha256$2OpadBnF8RJJpiMe$698fd3b7f8efb64c885ae5c0d0cfdebc8f707e911e256019418caa16a1eaa2e7', '2023-03-15')\n",
      "(8, 'Berry', 'Duumple', 'Truffles', '20017-07-06')\n",
      "(9, 'Cookie', 'Doggo', 'Tasty', '1980-02-13')\n",
      "(10, 'Shmumples', 'President', 'Official', '1976-06-13')\n",
      "(11, 'Petta', 'Chef', 'password', '1400-01-13')\n",
      "(12, 'Mint', 'Banker', 'CompletlyLegal', '1000-12-11')\n"
     ]
    }
   ],
   "source": [
    "import sqlite3\n",
    "\n",
    "def read():\n",
    "    # Connect to the database file\n",
    "    conn = sqlite3.connect(database)\n",
    "\n",
    "    # Create a cursor object to execute SQL queries\n",
    "    cursor = conn.cursor()\n",
    "    \n",
    "    # Execute a SELECT statement to retrieve data from a table\n",
    "    results = cursor.execute('SELECT * FROM users').fetchall()\n",
    "\n",
    "    # Print the results\n",
    "    if len(results) == 0:\n",
    "        print(\"Table is empty\")\n",
    "    else:\n",
    "        for row in results:\n",
    "            print(row)\n",
    "\n",
    "    # Close the cursor and connection objects\n",
    "    cursor.close()\n",
    "    conn.close()\n",
    "    \n",
    "read()\n"
   ]
  },
  {
   "attachments": {},
   "cell_type": "markdown",
   "metadata": {},
   "source": [
    "## Create a new User in table in Sqlite.db\n",
    "> Uses SQL INSERT to add row\n",
    "-  Compare create() in both SQL lessons.  What is better or worse in the two implementations? \n",
    "    - The implementation in the imperative method is simpler to implement and understand because it is more straightforward. The implementation in the object-oriented method is more complex because it is more abstract however requires less code to implement. Due to more complex operations being abstracted away it requires less knowledge of the underlying implementation.\n",
    "-  Explain purpose of SQL INSERT.   Is this the same as User __init__?\n",
    "    - The purpose of SQL INSERT is to add a new row to a table. It is the same as User __init__ because it is used to create the equivalent of a new user object."
   ]
  },
  {
   "cell_type": "code",
   "execution_count": 8,
   "metadata": {},
   "outputs": [
    {
     "name": "stdout",
     "output_type": "stream",
     "text": [
      "Error while executing the INSERT: UNIQUE constraint failed: users._uid\n"
     ]
    }
   ],
   "source": [
    "import sqlite3\n",
    "\n",
    "def create():\n",
    "    name = input(\"Enter your name:\")\n",
    "    uid = input(\"Enter your user id:\")\n",
    "    password = input(\"Enter your password\")\n",
    "    dob = input(\"Enter your date of birth 'YYYY-MM-DD'\")\n",
    "    \n",
    "    # Connect to the database file\n",
    "    conn = sqlite3.connect(database)\n",
    "\n",
    "    # Create a cursor object to execute SQL commands\n",
    "    cursor = conn.cursor()\n",
    "\n",
    "    try:\n",
    "        # Execute an SQL command to insert data into a table\n",
    "        cursor.execute(\"INSERT INTO users (_name, _uid, _password, _dob) VALUES (?, ?, ?, ?)\", (name, uid, password, dob))\n",
    "        \n",
    "        # Commit the changes to the database\n",
    "        conn.commit()\n",
    "        print(f\"A new user record {uid} has been created\")\n",
    "                \n",
    "    except sqlite3.Error as error:\n",
    "        print(\"Error while executing the INSERT:\", error)\n",
    "\n",
    "\n",
    "    # Close the cursor and connection objects\n",
    "    cursor.close()\n",
    "    conn.close()\n",
    "    \n",
    "create()"
   ]
  },
  {
   "attachments": {},
   "cell_type": "markdown",
   "metadata": {},
   "source": [
    "## Updating a User in table in Sqlite.db\n",
    "> Uses SQL UPDATE to modify password\n",
    "- What does the hacked part do?\n",
    "    - The hacked part is if a user's password is less than 2 letters a it seen as a hack and new password is assigned to the user.\n",
    "- Explain try/except, when would except occur?\n",
    "    - The try/except is used to catch errors that occur in the try block. The except block is executed when an error occurs in the try block.\n",
    "- What code seems to be repeated in each of these examples to point, why is it repeated? \n",
    "    - The code conn.cursor() is repeated in each of these examples to point because it is used to create a cursor object that is used to execute SQL statements. Along with cursor.execute() which is used to execute SQL statements and conn.commit() which is used to commit the changes to the database."
   ]
  },
  {
   "cell_type": "code",
   "execution_count": 4,
   "metadata": {},
   "outputs": [],
   "source": [
    "import sqlite3\n",
    "\n",
    "def update():\n",
    "    uid = input(\"Enter user id to update\")\n",
    "    password = input(\"Enter updated password\")\n",
    "    if len(password) < 2:\n",
    "        message = \"hacked\"\n",
    "        password = 'gothackednewpassword123'\n",
    "    else:\n",
    "        message = \"successfully updated\"\n",
    "\n",
    "    # Connect to the database file\n",
    "    conn = sqlite3.connect(database)\n",
    "\n",
    "    # Create a cursor object to execute SQL commands\n",
    "    cursor = conn.cursor()\n",
    "\n",
    "    try:\n",
    "        # Execute an SQL command to update data in a table\n",
    "        cursor.execute(\"UPDATE users SET _password = ? WHERE _uid = ?\", (password, uid))\n",
    "        if cursor.rowcount == 0:\n",
    "            # The uid was not found in the table\n",
    "            print(f\"No uid {uid} was not found in the table\")\n",
    "        else:\n",
    "            print(f\"The row with user id {uid} the password has been {message}\")\n",
    "            conn.commit()\n",
    "    except sqlite3.Error as error:\n",
    "        print(\"Error while executing the UPDATE:\", error)\n",
    "        \n",
    "    \n",
    "    # Close the cursor and connection objects\n",
    "    cursor.close()\n",
    "    conn.close()\n",
    "    \n",
    "#update()\n"
   ]
  },
  {
   "attachments": {},
   "cell_type": "markdown",
   "metadata": {},
   "source": [
    "## Delete a User in table in Sqlite.db\n",
    "> Uses a delete function to remove a user based on a user input of the id.\n",
    "- Is DELETE a dangerous operation?  Why? \n",
    "    - Yes, delete is a dangerous operations because the deleted data cannot be restored\n",
    "- In the print statemements, what is the \"f\" and what does {uid} do?\n",
    "    - Id the password is less than 2 letters then it is seen as a hack and the password is reset to a new password. "
   ]
  },
  {
   "cell_type": "code",
   "execution_count": 5,
   "metadata": {},
   "outputs": [],
   "source": [
    "import sqlite3\n",
    "\n",
    "def delete():\n",
    "    uid = input(\"Enter user id to delete\")\n",
    "\n",
    "    # Connect to the database file\n",
    "    conn = sqlite3.connect(database)\n",
    "\n",
    "    # Create a cursor object to execute SQL commands\n",
    "    cursor = conn.cursor()\n",
    "    \n",
    "    try:\n",
    "        cursor.execute(\"DELETE FROM users WHERE _uid = ?\", (uid,))\n",
    "        if cursor.rowcount == 0:\n",
    "            # The uid was not found in the table\n",
    "            print(f\"No uid {uid} was not found in the table\")\n",
    "        else:\n",
    "            # The uid was found in the table and the row was deleted\n",
    "            print(f\"The row with uid {uid} was successfully deleted\")\n",
    "        conn.commit()\n",
    "    except sqlite3.Error as error:\n",
    "        print(\"Error while executing the DELETE:\", error)\n",
    "        \n",
    "    # Close the cursor and connection objects\n",
    "    cursor.close()\n",
    "    conn.close()\n",
    "    \n",
    "#delete()"
   ]
  },
  {
   "attachments": {},
   "cell_type": "markdown",
   "metadata": {},
   "source": [
    "# Menu Interface to CRUD operations\n",
    "> CRUD and Schema interactions from one location by running menu. Observe input at the top of VSCode, observe output underneath code cell.\n",
    "- Why does the menu repeat?\n",
    "    - The menu repeats as it uses recursion to call itself. So that once the function has finished executing it will call itself again.  \n",
    "- Could you refactor this menu?  Make it work with a List?"
   ]
  },
  {
   "cell_type": "code",
   "execution_count": 6,
   "metadata": {},
   "outputs": [
    {
     "name": "stdout",
     "output_type": "stream",
     "text": [
      "A new user record Looser has been created\n"
     ]
    }
   ],
   "source": [
    "def listMenu():\n",
    "    while True:\n",
    "        operations = [\"c\",\"r\",\"u\",\"d\",\"s\"]\n",
    "        inputs = input(\"Enter operation to perform (c)reate, (r)ead, (u)pdate, (d)elete, (s)chema\").strip().lower() \n",
    "        if inputs in operations:\n",
    "            if inputs == \"c\":\n",
    "                create()\n",
    "                listMenu()\n",
    "            if inputs == \"r\":\n",
    "                read()\n",
    "                listMenu()\n",
    "            if inputs == \"u\":\n",
    "                update()\n",
    "                listMenu()\n",
    "            if inputs == \"d\":\n",
    "                delete()\n",
    "                listMenu()\n",
    "            if inputs == \"s\":\n",
    "                schema()\n",
    "                listMenu()\n",
    "        if inputs not in operations and not KeyboardInterrupt:\n",
    "            print(\"Invalid operation\")   \n",
    "        if KeyboardInterrupt:\n",
    "            break\n",
    "\n",
    "listMenu()\n",
    "        "
   ]
  },
  {
   "cell_type": "code",
   "execution_count": 7,
   "metadata": {},
   "outputs": [],
   "source": [
    "# Menu, to run other cells from one control point\n",
    "def menu():\n",
    "    operation = input(\"Enter: (C)reate (R)ead (U)pdate or (D)elete or (S)chema\")\n",
    "    if operation.lower() == 'c':\n",
    "        create()\n",
    "    elif operation.lower() == 'r':\n",
    "        read()\n",
    "    elif operation.lower() == 'u':\n",
    "        update()\n",
    "    elif operation.lower() == 'd':\n",
    "        delete()\n",
    "    elif operation.lower() == 's':\n",
    "        schema()\n",
    "    elif len(operation)==0: # Escape Key\n",
    "        return\n",
    "    else:\n",
    "        print(\"Please enter c, r, u, or d\") \n",
    "    menu() # recursion, repeat menu\n",
    "        \n",
    "try:\n",
    "    menu() # start menu\n",
    "except:\n",
    "    print(\"Perform Jupyter 'Run All' prior to starting menu\")\n"
   ]
  },
  {
   "attachments": {},
   "cell_type": "markdown",
   "metadata": {},
   "source": [
    "# Hacks\n",
    "- Add this Blog to you own Blogging site.  In the Blog add notes and observations on each code cell.\n",
    "- In this implementation, do you see procedural abstraction?\n",
    "    - Yes, as functions are used to hide the details of the implementation to be able hide complex details from the user making the operations simpler to use.\n",
    "- In 2.4a or 2.4b lecture\n",
    "    - Do you see data abstraction?  Complement this with Debugging example. Yes, we see data abstraction through the use of the database to store the data within our database and then to be able to perform operations on the data within the database.\n",
    "    - Use Imperative or OOP style to Create a new Table or do something that applies to your CPT project.\n",
    "        - Program was done in the OOP style. \n",
    "    ![Debugging Example](https://github.com/Tirth-Thakkar/APCSP-Blog/blob/master/images/DataAbstraction.png?raw=true)\n",
    "\n",
    "Reference... [sqlite documentation](https://www.sqlitetutorial.net/sqlite-python/creating-tables/)\n"
   ]
  },
  {
   "attachments": {},
   "cell_type": "markdown",
   "metadata": {},
   "source": [
    "## Notes\n",
    "- What is an abstraction?\n",
    "    - An abstraction is veiling something in order to make something simpler such as classes and functions. \n",
    "- What is SQL?\n",
    "    - SQL or Structured Query Language is a language used to communicate with databases. When using sql you are able to create, read, update, and delete data from a database. SQLAlchemy abstracts commands in SQL however as a result of this we cannot see the actual effects of what happens in SQL itself.\n",
    "- The most commonly used query in SQL is called select, they will look similar but the command in the middle will be different.\n"
   ]
  }
 ],
 "metadata": {
  "kernelspec": {
   "display_name": "base",
   "language": "python",
   "name": "python3"
  },
  "language_info": {
   "codemirror_mode": {
    "name": "ipython",
    "version": 3
   },
   "file_extension": ".py",
   "mimetype": "text/x-python",
   "name": "python",
   "nbconvert_exporter": "python",
   "pygments_lexer": "ipython3",
   "version": "3.9.12"
  },
  "orig_nbformat": 4,
  "vscode": {
   "interpreter": {
    "hash": "8b82d5009c68ba5675978267e2b13a671f2a7143d61273c5a3813c97e0b2493d"
   }
  }
 },
 "nbformat": 4,
 "nbformat_minor": 2
}
