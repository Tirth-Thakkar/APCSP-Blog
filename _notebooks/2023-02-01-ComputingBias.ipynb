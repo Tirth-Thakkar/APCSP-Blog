{
 "cells": [
  {
   "attachments": {},
   "cell_type": "markdown",
   "metadata": {},
   "source": [
    "# Bias in Computing & Crowdsourcing\n",
    "> A  reflection on Computing Bias and how it may be corrected through crowdsourcing\n",
    "- title: Bias in Computing & Crowdsourcing\n",
    "- toc: true\n",
    "- badges: false\n",
    "- tags: [week21]\n",
    "- categories: [week21]"
   ]
  },
  {
   "attachments": {},
   "cell_type": "markdown",
   "metadata": {},
   "source": [
    "# Bias In Computer Systems\n",
    "## Facebook Vs. Tiktok\n",
    "- ### Demographics\n",
    "    - #### Facebook \n",
    "        - 13-17 3.9%\n",
    "        - 18% 18-24\n",
    "        - 23.7% 25-34\n",
    "        - 45-54 13.8%\n",
    "        - 55-65 11.2%\n",
    "        - 65+ 11.2%\n",
    "    - #### TikTok\n",
    "        - 10-19 25%\n",
    "        - 20-29 22.4%\n",
    "        - 30-39 21.7%\n",
    "        - 40-49 20.5%\n",
    "        - 50+ 11%\n",
    "    Reflection: the states that mostly younger audiences are on TikTok with older audiences on Facebook. There is no purposeful exclusion but comes from the nature of the app but their content creates a divide that makes it so that certain audiences may begin to prefer slower paced vs faster paced content.\n",
    "## Virtual Assistants\n",
    "- ### Female Voices? \n",
    "    - Virtual Assistants occupy roles that traditionally fill the roles of what is regarded as female jobs. Along with more data being present regarding women and the fact that female voices are easier to hear and are easier to annunciate. \n",
    "- ### Is this purposeful?\n",
    "    -  Yes, however it appears to be combination of multiple factors such as bias towards who should fill these roles. Along with the aspect of their being greater data regarding female voices and that they are clearer to hear and annunciate better than male voices making them better for those how may have hearing disabilities.    \n",
    "\n",
    "## Algorithms & Our Decisions\n",
    "- Algorithms in platforms such as Google and recommending paid searches which could promote malware and other content without filtration. Along with the ability for trends to spread on social media platforms that may promote activities such as bullying and other harmful activities. With also echo chambers being created on social media platforms that may promote harmful ideas and beliefs.\n",
    "\n",
    "## Racism?\n",
    "- A reflection on bias being present in computer systems\n",
    "    - ### [Hp Computers Are Racist?](https://www.youtube.com/watch?v=t4DT3tQqgRM)\n",
    "        - #### Does the owner think it was intentional? \n",
    "            - No, the owner doesn't seem to assume the computer is racist as seen in his tone and approach to manner. When he declares that the computer is racist he seems to be joking and not serious.\n",
    "        - #### Why did this occur?\n",
    "            - Through the lack of adequate data in the creation of this feature and thus the image recognition software was poorly able to handle anything expect those of a European decent.\n",
    "        - #### Corrections?\n",
    "            - Yes, as these biases create systems that are not able to handle a diverse group of users that may be using the system. These unjust systems may cause greater issues such as unjust convictions or other extensions of the system that may cause extreme harm to the users of system.  \n",
    "\n",
    "# Crowd-Sourcing\n",
    "- Through crowd sourcing that case be used to that has less bias than traditional systems that are based only be a small group of creators. Tools like this such as Wikipedia has less bias than traditional publish like textbooks. \n",
    "    - ## Improvements?\n",
    "        - Our Personal systems may be improved by using crowd sourcing as we may be able to create systems that have greater security and error handling by allowing users to able to support and create our systems. We could also use crowd-sourcing to create new features that we may never have though of. \n",
    "    - ## Night at The Museum\n",
    "        - Information such as their scores and personal information may make their experience more interesting this would allow them to see their improvement and see how they compare to others which may be impressive to teachers. \n",
    "     "
   ]
  }
 ],
 "metadata": {
  "language_info": {
   "name": "python"
  },
  "orig_nbformat": 4
 },
 "nbformat": 4,
 "nbformat_minor": 2
}
