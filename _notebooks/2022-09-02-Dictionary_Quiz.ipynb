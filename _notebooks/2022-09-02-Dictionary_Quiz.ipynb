{
 "cells": [
  {
   "cell_type": "markdown",
   "metadata": {},
   "source": [
    "# Quiz\n",
    "> Quiz on the APCSP Python Lesson But Different \n",
    "- title: Python Quiz With Dictionary \n",
    "- toc: true\n",
    "- comments: true\n",
    "- image: images/Snek2.png\n",
    "- categories: [python]"
   ]
  },
  {
   "cell_type": "markdown",
   "metadata": {},
   "source": [
    "## Quiz\n",
    "Dictionary being used to run the quiz."
   ]
  },
  {
   "cell_type": "code",
   "execution_count": 1,
   "metadata": {},
   "outputs": [
    {
     "name": "stdout",
     "output_type": "stream",
     "text": [
      "Dynamic code is code that has inputs and outputs that can change?\n",
      "Your answer  doesn't equal the correct answer/s which is ['true']\n",
      "What is the keyword for defining a function in Python?\n",
      "Your answer  doesn't equal the correct answer/s which is ['def()']\n",
      "In Jupyter Notebooks the Input is in line with the Output\n",
      "Your answer  doesn't equal the correct answer/s which is ['false']\n",
      "What is grouping often used commands called?\n",
      "Your answer  doesn't equal the correct answer/s which is ['procedural abstraction']\n"
     ]
    }
   ],
   "source": [
    "Q_Bank = {\n",
    "    \"Dynamic code is code that has inputs and outputs that can change?\": [\"true\"],\n",
    "    \"What is the keyword for defining a function in Python?\": [\"def()\"],\n",
    "    \"In Jupyter Notebooks the Input is in line with the Output\": [\"false\"],\n",
    "    \"What is grouping often used commands called?\": [\"procedural abstraction\"],\n",
    "}\n",
    "\n",
    "for Q, ans in Q_Bank.items():\n",
    "    print(Q)\n",
    "    rsp = input(Q)\n",
    "    if rsp.lower() == ans[0]:\n",
    "        print(\"Your answer \" + str(rsp)+\" is the correct correct\")\n",
    "    else:\n",
    "        print(\"Your answer \" + str(rsp) + \" doesn't equal the correct answer/s which is \" + str(ans))\n"
   ]
  }
 ],
 "metadata": {
  "kernelspec": {
   "display_name": "Python 3.10.4 64-bit",
   "language": "python",
   "name": "python3"
  },
  "language_info": {
   "codemirror_mode": {
    "name": "ipython",
    "version": 3
   },
   "file_extension": ".py",
   "mimetype": "text/x-python",
   "name": "python",
   "nbconvert_exporter": "python",
   "pygments_lexer": "ipython3",
   "version": "3.8.10"
  },
  "orig_nbformat": 4,
  "vscode": {
   "interpreter": {
    "hash": "916dbcbb3f70747c44a77c7bcd40155683ae19c65e1c03b4aa3499c5328201f1"
   }
  }
 },
 "nbformat": 4,
 "nbformat_minor": 2
}
