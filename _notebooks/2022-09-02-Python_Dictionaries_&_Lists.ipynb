{
 "cells": [
  {
   "attachments": {},
   "cell_type": "markdown",
   "metadata": {},
   "source": [
    "# Information\n",
    "> Information on peer team \n",
    "\n",
    "- title: Information\n",
    "- toc: true\n",
    "- branch: master\n",
    "- comments: true\n",
    "- image: /images/Information.jpg\n",
    "- tags: [python, week2]"
   ]
  },
  {
   "cell_type": "code",
   "execution_count": 2,
   "metadata": {},
   "outputs": [
    {
     "name": "stdout",
     "output_type": "stream",
     "text": [
      "[{'First_Name': 'Tirth', 'Middle_Name/Initial': 'S.', 'Last_Name': 'Thakkar', 'Residence': 'San Diego', 'DOB': 'December 26, 2005', 'Grade': '11th', 'Email': 'tirth1226@gmail.com'}, {'First_Name': 'Mirza', 'Middle_Name/Initial': 'Haseeb', 'Last_Name': 'Beg', 'Residence': 'San Diego', 'DOB': 'December 6th, 2007', 'Grade': '10th', 'Email': 'mirzahbeg123@gmail.com'}]\n"
     ]
    }
   ],
   "source": [
    "Peers_Info = []\n",
    "\n",
    "Peers_Info.append({\n",
    "    \"First_Name\": \"Tirth\",\n",
    "    \"Middle_Name/Initial\":\"S.\",\n",
    "    \"Last_Name\": \"Thakkar\",\n",
    "    \"Residence\": \"San Diego\",\n",
    "    \"DOB\": \"December 26, 2005\",\n",
    "    \"Grade\": \"11th\",\n",
    "    \"Email\": \"tirth1226@gmail.com\",\n",
    "})\n",
    "\n",
    "Peers_Info.append({\n",
    "    \"First_Name\": \"Mirza\",\n",
    "    \"Middle_Name/Initial\": \"Haseeb\",\n",
    "    \"Last_Name\": \"Beg\",\n",
    "    \"Residence\": \"San Diego\",\n",
    "    \"DOB\": \"December 6th, 2007\",\n",
    "    \"Grade\": \"10th\",\n",
    "    \"Email\": \"mirzahbeg123@gmail.com\",\n",
    "})\n",
    "\n",
    "print(Peers_Info)\n",
    "\n"
   ]
  },
  {
   "cell_type": "markdown",
   "metadata": {},
   "source": [
    "### Formatting\n",
    "Way to organize and format the data. \n"
   ]
  },
  {
   "cell_type": "code",
   "execution_count": 3,
   "metadata": {},
   "outputs": [
    {
     "name": "stdout",
     "output_type": "stream",
     "text": [
      "\u001b[1m Tirth S. Thakkar \u001b[0m\n",
      "\u001b[4m \t Residence: San Diego \u001b[0m\n",
      "\u001b[4m \t Birth Day: December 26, 2005 \u001b[0m\n",
      "\u001b[4m \t Grade: 11th \u001b[0m\n",
      "\u001b[4m \t Email: tirth1226@gmail.com \u001b[0m\n",
      "\n",
      "\u001b[1m Mirza Haseeb Beg \u001b[0m\n",
      "\u001b[4m \t Residence: San Diego \u001b[0m\n",
      "\u001b[4m \t Birth Day: December 6th, 2007 \u001b[0m\n",
      "\u001b[4m \t Grade: 10th \u001b[0m\n",
      "\u001b[4m \t Email: mirzahbeg123@gmail.com \u001b[0m\n",
      "\n"
     ]
    }
   ],
   "source": [
    "def formatting(d_rec):\n",
    "    print(\"\\033[1m\", d_rec[\"First_Name\"], d_rec[\"Middle_Name/Initial\"], d_rec[\"Last_Name\"], \"\\x1b[0m\")\n",
    "    print(\"\\033[4m\", \"\\t\", \"Residence:\", d_rec[\"Residence\"], \"\\x1b[0m\")\n",
    "    print(\"\\033[4m\", \"\\t\", \"Birth Day:\", d_rec[\"DOB\"], \"\\x1b[0m\")\n",
    "    print(\"\\033[4m\", \"\\t\", \"Grade:\", d_rec[\"Grade\"], \"\\x1b[0m\")\n",
    "    print(\"\\033[4m\", \"\\t\", \"Email:\", d_rec[\"Email\"], \"\\x1b[0m\")\n",
    "    print()\n",
    "\n",
    "def printing():\n",
    "    for index in Peers_Info:\n",
    "        formatting(index)\n",
    "\n",
    "printing()"
   ]
  },
  {
   "cell_type": "markdown",
   "metadata": {},
   "source": [
    "### Reversal\n",
    "Way to reverse the data."
   ]
  },
  {
   "cell_type": "code",
   "execution_count": 4,
   "metadata": {},
   "outputs": [
    {
     "name": "stdout",
     "output_type": "stream",
     "text": [
      "\u001b[1m Mirza Haseeb Beg \u001b[0m\n",
      "\u001b[4m \t Residence: San Diego \u001b[0m\n",
      "\u001b[4m \t Birth Day: December 6th, 2007 \u001b[0m\n",
      "\u001b[4m \t Grade: 10th \u001b[0m\n",
      "\u001b[4m \t Email: mirzahbeg123@gmail.com \u001b[0m\n",
      "\n",
      "\u001b[1m Tirth S. Thakkar \u001b[0m\n",
      "\u001b[4m \t Residence: San Diego \u001b[0m\n",
      "\u001b[4m \t Birth Day: December 26, 2005 \u001b[0m\n",
      "\u001b[4m \t Grade: 11th \u001b[0m\n",
      "\u001b[4m \t Email: tirth1226@gmail.com \u001b[0m\n",
      "\n"
     ]
    }
   ],
   "source": [
    "Peers_Info.reverse()\n",
    "\n",
    "printing()"
   ]
  }
 ],
 "metadata": {
  "kernelspec": {
   "display_name": "Python 3.10.4 64-bit",
   "language": "python",
   "name": "python3"
  },
  "language_info": {
   "codemirror_mode": {
    "name": "ipython",
    "version": 3
   },
   "file_extension": ".py",
   "mimetype": "text/x-python",
   "name": "python",
   "nbconvert_exporter": "python",
   "pygments_lexer": "ipython3",
   "version": "3.10.6 (main, Nov  2 2022, 18:53:38) [GCC 11.3.0]"
  },
  "orig_nbformat": 4,
  "vscode": {
   "interpreter": {
    "hash": "916dbcbb3f70747c44a77c7bcd40155683ae19c65e1c03b4aa3499c5328201f1"
   }
  }
 },
 "nbformat": 4,
 "nbformat_minor": 2
}
