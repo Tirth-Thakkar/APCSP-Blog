{
 "cells": [
  {
   "cell_type": "markdown",
   "metadata": {},
   "source": [
    "## Quiz\n",
    "> Quiz on the APCSP Python Lesson \n",
    "\n",
    "- title: Python Quiz\n",
    "- toc: true\n",
    "- branch: master\n",
    "- comments: true\n",
    "- image: images/Jupyter.png\n",
    "- tags: [python]"
   ]
  },
  {
   "cell_type": "code",
   "execution_count": 6,
   "metadata": {},
   "outputs": [
    {
     "name": "stdout",
     "output_type": "stream",
     "text": [
      "You got 4 out of 4 questions correct.\n"
     ]
    }
   ],
   "source": [
    "class question:\n",
    "    def __init__(self, base, answer):\n",
    "        self.base = base\n",
    "        self.answer = answer\n",
    "\n",
    "\n",
    "question_base = [\n",
    "    \"Dynamic code is code that has inputs and outputs that can change?\\n (t) True\\n (f) False\\n\\n\",\n",
    "    \"What is the keyword for defining a function in Python?\\n (a) def()\\n (b) fun()\\n (c) proc()\\n\\n\",\n",
    "    \"In Jupyter Notebooks the Input is in line with the Output?\\n (t) True\\n (f) False\\n\\n\",\n",
    "    \"What is grouping often used commands called?\\n (a) Bundle\\n (b) Procedural Abstraction (c) Group\\n\\n\",\n",
    "\n",
    "]\n",
    "\n",
    "question_bank = [\n",
    "    question(question_base[0], \"t\"),\n",
    "    question(question_base[1], \"a\"),\n",
    "    question(question_base[2], \"f\"),\n",
    "    question(question_base[3], \"b\"),\n",
    "]\n",
    "\n",
    "\n",
    "def run_test(question_bank):\n",
    "    score = 0\n",
    "    for question in question_bank:\n",
    "        rsp = input(question.base)\n",
    "        if rsp.lower().strip() == question.answer:\n",
    "            score += 1\n",
    "    print(\"You got \" + str(score)+\" out of \" + str(len(question_bank)) + \" questions correct.\")\n",
    "\n",
    "\n",
    "run_test(question_bank)"
   ]
  }
 ],
 "metadata": {
  "kernelspec": {
   "display_name": "Python 3.10.4 64-bit",
   "language": "python",
   "name": "python3"
  },
  "language_info": {
   "codemirror_mode": {
    "name": "ipython",
    "version": 3
   },
   "file_extension": ".py",
   "mimetype": "text/x-python",
   "name": "python",
   "nbconvert_exporter": "python",
   "pygments_lexer": "ipython3",
   "version": "3.10.4"
  },
  "orig_nbformat": 4,
  "vscode": {
   "interpreter": {
    "hash": "916dbcbb3f70747c44a77c7bcd40155683ae19c65e1c03b4aa3499c5328201f1"
   }
  }
 },
 "nbformat": 4,
 "nbformat_minor": 2
}
