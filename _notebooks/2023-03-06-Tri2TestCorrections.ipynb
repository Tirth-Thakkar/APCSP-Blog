{
 "cells": [
  {
   "attachments": {},
   "cell_type": "markdown",
   "metadata": {},
   "source": [
    "# Tri 2 Final Test Corrections\n",
    "> Corrections to the mistakes that I made on the final \n",
    "- title: Tri 2 Test Corrections\n",
    "- toc: true\n",
    "- badges: false\n",
    "- tags: [week25]\n",
    "- categories: [week25]"
   ]
  },
  {
   "attachments": {},
   "cell_type": "markdown",
   "metadata": {},
   "source": [
    "## Score\n",
    "- ![Score](https://github.com/Tirth-Thakkar/APCSP-Blog/blob/master/images/Score.png?raw=true)\n",
    "- I had scored a total of 46/50 on this assessment getting a 92%. \n",
    "\n",
    "## Incorrect Answer 1\n",
    "- ![Incorrect Answer1](https://github.com/Tirth-Thakkar/APCSP-Blog/blob/master/images/IncorrectAnswer1.png?raw=true)\n",
    "- I had gotten the incorrect answer that the program functioned correctly as not realizing that the program as it was initialized by the first value in the list would add up that element twice thus getting a wrong sum this was due to me not not realizing the program only worked as it began with zero and not an alternate value. This was due to not properly considering the problem and not thinking enough about the for loop. \n",
    "\n",
    "## Incorrect Answer 2\n",
    "- ![Incorrect Answer2](https://github.com/Tirth-Thakkar/APCSP-Blog/blob/master/images/IncorrectAnswer2.png?raw=true)\n",
    "- I had gotten this problem incorrect by not properly understanding the nature of the algorithms used to control the robot and thus was unable to understand their exact function and then apply it to the grid. This was due to not properly understanding the problem and considering it with the attention it needed. \n",
    "\n",
    "## Incorrect Answer 3\n",
    "- ![Incorrect Answer3](https://github.com/Tirth-Thakkar/APCSP-Blog/blob/master/images/IncorrectAnswer3.png?raw=true)\n",
    "- Through not understanding the logic begin not a or b and c being false. Along with other difficulty in understanding and remembering my boolean operators I was unable to correctly answer this question. This was due to a lack of understanding of the material and unfamiliarity with the content.\n",
    "\n",
    "## Incorrect Answer 4\n",
    "- ![Incorrect Answer4](https://github.com/Tirth-Thakkar/APCSP-Blog/blob/master/images/IncorrectAnswer4.png?raw=true)\n",
    "- The reason I got this problem incorrect was that I misunderstood the answer choice thinking that it was one more time not considering that a loop of one would only run once. Thus even after understanding that the program would shift the robot one space up I was still unable to correctly answer the question. This was due to not properly paying attention to the question. "
   ]
  }
 ],
 "metadata": {
  "language_info": {
   "name": "python"
  },
  "orig_nbformat": 4
 },
 "nbformat": 4,
 "nbformat_minor": 2
}
