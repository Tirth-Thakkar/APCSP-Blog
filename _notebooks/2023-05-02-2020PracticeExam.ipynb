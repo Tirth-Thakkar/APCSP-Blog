{
 "cells": [
  {
   "attachments": {},
   "cell_type": "markdown",
   "metadata": {},
   "source": [
    "# 2020 Practice Exam Corrections\n",
    "> Corrections and reflection on missed questions\n",
    "- toc: true\n",
    "- categories: [week30]\n",
    "- type: ap\n",
    "- week: 30"
   ]
  },
  {
   "attachments": {},
   "cell_type": "markdown",
   "metadata": {},
   "source": [
    "## Score\n",
    "- ![Score](https://user-images.githubusercontent.com/108642800/235981044-9389d498-5b11-47f6-95c3-ba8297aebe7a.png)"
   ]
  },
  {
   "attachments": {},
   "cell_type": "markdown",
   "metadata": {},
   "source": [
    "## Question 1\n",
    "- ![image](https://user-images.githubusercontent.com/108642800/235981609-ded61aeb-ce02-4b09-a3df-b4fac4bbf4bd.png)\n",
    "- I incorrectly selected answer D when the the correct answer was option C as the algorithm doesn't work with the selected step as remainder needs to be decided and the quotient stored to properly make the program function this was a result of not being able to understand the calculations\n",
    "\n",
    "## Question 2\n",
    "- ![image](https://user-images.githubusercontent.com/108642800/235982612-2405749c-0726-43a1-aa59-159b60f5cc92.png)\n",
    "- I incorrectly selected answer A when the correct answer was answer C as the selection would not allow the bot to move to the correct location but option C would allow the bot to be able to move the needed amount of spaces to the right location this was due to not properly evaluating the options. \n",
    "\n",
    "## Question 3\n",
    "- ![image](https://user-images.githubusercontent.com/108642800/235983899-6b453302-151d-41b6-912e-18d953cac4ed.png)\n",
    "- I didn't know the nature of IPv6 addresses so I guessed a random choice in fact the correct answer is that the address is longer and thus allows for more connected devices on the internet thus the correct answer is option B\n",
    "\n",
    "## Question 4\n",
    "- ![image](https://user-images.githubusercontent.com/108642800/235983339-3d565136-fcc4-4f79-85e0-7e3648f91620.png)\n",
    "- I selected option C as through not understanding what a certificate authority does the correct answer is option D as the authority verifies encryption keys\n",
    "\n",
    "## Question 5\n",
    "- ![image](https://user-images.githubusercontent.com/108642800/235984320-8f5d8a37-81e8-453f-8484-ce8b10341fe7.png)\n",
    "- I incorrectly selected option B as the second answer when in fact it was option D, the selection of option A was correct the reason option B was incorrect was line 8 needs to be there and line 11 incorrectly adds to the count variable this was correctly determined when reasoning but I mis-selected the answer. "
   ]
  }
 ],
 "metadata": {
  "language_info": {
   "name": "python"
  },
  "orig_nbformat": 4
 },
 "nbformat": 4,
 "nbformat_minor": 2
}
