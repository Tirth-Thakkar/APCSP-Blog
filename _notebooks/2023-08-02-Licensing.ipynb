{
 "cells": [
  {
   "attachments": {},
   "cell_type": "markdown",
   "metadata": {},
   "source": [
    "# Licensing - 5.5 \n",
    "> A reflection on licensing and the need for it in modern computing\n",
    "- title: Licensing - 5.5\n",
    "- toc: true\n",
    "- badges: false\n",
    "- tags: [week22]\n",
    "- categories: [week22]"
   ]
  },
  {
   "attachments": {},
   "cell_type": "markdown",
   "metadata": {},
   "source": [
    "## Licensing \n",
    "- Licenses are used to define the terms of use for a piece of software and how they allow the user to use or not use the software. There are different kinds of licenses that are used for different purposes. \n",
    "    - Creative Commons Zero v1.0 Universal (CC0) \n",
    "        - This license is used for software that is in the public domain. This means that the software is free to use and modify without any restrictions.\n",
    "    - Open Source MIT License\n",
    "        - This license allows users to use code for any purpose, including commercial use. It also allows users to modify the code and distribute the modified code. Which would involve making the code closed source. User also needs to credit the original author of the code.\n",
    "    - GNU General Public License v3.0\n",
    "        - Allows users to use the code source for any purpose that they wish to similar to the Open Source MIT License. However, this code must be open source and cannot be closed source.\n",
    "\n",
    "## Discussion & Personal Discussion\n",
    "- Pros: \n",
    "    - Software can be accredited to the original author if their license requires it.\n",
    "    - Software can be transformed and used in different ways if allowed\n",
    "    - Software theft can be identified and prevented so the user can protect their work \n",
    "    - Creators can profit from their work and use it for commercial gain \n",
    "- Cons:\n",
    "    - System can be abused to protect work that is not original \n",
    "    - Freedom and use of content can be limited such as certain licenses not allowing commercial use\n",
    "    - False flags of software theft can be used to prevent the use of software that is competing against their solution \n",
    "\n",
    "## [Conclusion & Personal Conclusion](https://github.com/Tirth-Thakkar/APCSP-Blog/blob/master/LICENSE.md)\n",
    "- The License I used for my personal repository is the GNU License. I chose this license because I wanted to allow users to use my code for any purpose that they wish to. I also wanted to allow users to modify the code however I want to prevent them from being able to close source the code so it will always be available. This will allow my work to benefit the community and allow others to use it for their own purposes making my work more accessible and useful to others. In the same concept for our project Code-Crunch I also chose the same license with similar reasoning. \n",
    "\n",
    "- ### [Code-Crunch Backend](https://github.com/Tirth-Thakkar/Code-Crunch-Backend/blob/80579abe12737b90318801b8c9921ceed1d3e449/LICENSE.md)\n",
    "\n",
    "- ### [Code-Crunch Frontend](https://github.com/sreejagangapuram/Code-Crunch/blob/gh-pages/LICENSE.md)"
   ]
  }
 ],
 "metadata": {
  "kernelspec": {
   "display_name": "Python 3",
   "language": "python",
   "name": "python3"
  },
  "language_info": {
   "name": "python",
   "version": "3.10.6"
  },
  "orig_nbformat": 4,
  "vscode": {
   "interpreter": {
    "hash": "916dbcbb3f70747c44a77c7bcd40155683ae19c65e1c03b4aa3499c5328201f1"
   }
  }
 },
 "nbformat": 4,
 "nbformat_minor": 2
}
