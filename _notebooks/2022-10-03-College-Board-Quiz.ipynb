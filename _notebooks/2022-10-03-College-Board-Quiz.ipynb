{
 "cells": [
  {
   "attachments": {},
   "cell_type": "markdown",
   "metadata": {},
   "source": [
    "# College Board Quizzes\n",
    "> Ideas\n",
    "- title: College Board Quizzes \n",
    "- toc: true\n",
    "- comments: true\n",
    "- image: images/Scammer.png\n",
    "- tags: [week06]\n",
    "- categories: [week06]"
   ]
  },
  {
   "cell_type": "markdown",
   "metadata": {},
   "source": [
    "![Completion](https://github.com/Tirth-Thakkar/APCSP-Blog/blob/master/images/Completion.png?raw=true)"
   ]
  },
  {
   "cell_type": "markdown",
   "metadata": {},
   "source": [
    "![Completion](https://github.com/Tirth-Thakkar/APCSP-Blog/blob/master/images/Error_Correction_Quiz.png?raw=true)"
   ]
  },
  {
   "cell_type": "markdown",
   "metadata": {},
   "source": [
    "![Completion](https://github.com/Tirth-Thakkar/APCSP-Blog/blob/master/images/Internet_Quiz.png?raw=true)"
   ]
  },
  {
   "cell_type": "markdown",
   "metadata": {},
   "source": [
    "# Difficulties\n",
    "- Issues with understanding the College Board Pseudocode and interpreting into a valid answer\n",
    "- Also had difficulty with understanding the word problems and being able to understand what they required \n",
    "- Had the main issues with understand the program purpose assignment and the problems with understand the question mostly stemming from the misunderstanding or misreading of the problem mostly when the entire question wasn't read multiple times due to aforementioned issues with understanding the college board Pseudocode \n",
    "- I also struggled with interpreting the questions in Program Design and Developments due to the strange wording present within the problems.   "
   ]
  },
  {
   "cell_type": "markdown",
   "metadata": {},
   "source": [
    "# Difficulties V2\n",
    "- I misunderstood the interaction between the world wide web and the interenet choosing \"The World Wide Web is a protocol that is accessed using a data stream called the Internet.\" when in reality the correct answer was \"The World Wide Web is a system of linked pages, programs, and files that is accessed via a network called the Internet.\"     "
   ]
  }
 ],
 "metadata": {
  "kernelspec": {
   "display_name": "Python 3.10.6 64-bit",
   "language": "python",
   "name": "python3"
  },
  "language_info": {
   "name": "python",
   "version": "3.10.6 (main, Nov  2 2022, 18:53:38) [GCC 11.3.0]"
  },
  "orig_nbformat": 4,
  "vscode": {
   "interpreter": {
    "hash": "916dbcbb3f70747c44a77c7bcd40155683ae19c65e1c03b4aa3499c5328201f1"
   }
  }
 },
 "nbformat": 4,
 "nbformat_minor": 2
}
