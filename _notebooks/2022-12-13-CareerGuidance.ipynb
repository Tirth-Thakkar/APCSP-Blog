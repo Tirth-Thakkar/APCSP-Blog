{
 "cells": [
  {
   "attachments": {},
   "cell_type": "markdown",
   "metadata": {},
   "source": [
    "# Women In STEM and Tech Expereinces\n",
    "> Women in STEM and their contribution to technology, Speakers: Kris Porter, and Kathleen Beveridge\n",
    "- layout: default\n",
    "- toc: true\n",
    "- badges: false\n",
    "- comments: true\n",
    "- categories: [STEM]"
   ]
  },
  {
   "attachments": {},
   "cell_type": "markdown",
   "metadata": {},
   "source": [
    "# Company Mission Statements & Devlopment\n",
    "\n",
    "Hp: Create technology that makes life better for everyone, everywhere.\n",
    "\n",
    "Qualcomm: Inventing the tech that makes the world loves.\n",
    "\n",
    "Thermo Fisher Scientific: Enable our customers to make the world healthier, cleaner and safer.\n",
    "\n",
    "- All companies strive to make the world a better place\n",
    "- All of them offer products or services and try to create products that everyone wants\n",
    "- Try to create a life changing generational impact on people and the world such as 99% of the world's smartphones use Qualcomm's technology \n",
    "\n",
    "Thermo Fisher Scientific\n",
    "- 100,000+ employees\n",
    "- 7,000+ R&D scientists\n",
    "- $1.5 billion in R&D spending\n",
    "- More than 40 Billion in revenue\n",
    "\n",
    "R&D and Bring Tech To Market\n",
    "- Before a product is released, it goes through a process that evaluates if the market is right for the product work with the scrum master to bring the product to market\n",
    "- The ability to make a product that is marketable allows them to go to market with a product that ready to be adopted\n",
    "\n",
    "# Dev Ops\n",
    "- Create controls to prevent denail of service attacks on company infraestructure\n",
    "- Manage the deployment of software on the internet \n",
    "- Working with virual servers while trying to data collection and automation \n",
    "\n",
    "# Valuable Skills\n",
    "- Continous learning as boredom happens quickly\n",
    "- Take available courses \n",
    "- Try to teach your self new skills with avaiable online resources\n",
    "- Don't be super concerned about the things that you read online \n",
    "- Endless number of unfilled positions that can be taken\n",
    "- Be adpative and be able to transition to new industries\n",
    "- Best technical people listen to the requirements and think how technology can solve the requirments and then translate into layman's terms\n",
    "\n",
    "# Agile Methodology\n",
    "- Differnet companies use different variations of the agile methodology\n",
    "- Large groups planned meetings for the qaurter no matter how big or large the project was a good way to coordinate with othee engineers\n",
    "- Working agile from a technnical project is important always do short sprints focus on one to three month sprints \n",
    "- Agility is a highly regarded skill in the industry \n",
    "\n",
    "# Machine Learning \n",
    "- The ability to predict sales before sales happen \n",
    "- Predict harvest and bad harvests through weather predictions\n",
    "- To save costs when it comes to data storage and the hosting of repositories\n",
    "\n",
    "# Biggest Challenges in Tech Industry\n",
    "- Aquistions in the tech industry results in the need to be adaptive and have continous learning\n",
    "- Interviews are series of timed ranodom questions is difficult \n",
    "\n",
    "# Worklife Balance\n",
    "- Varies accross the industry you have the position to negotiate some companies are good some aren't however can be personal preference\n",
    "- Could say during interviews that you want offers or you want time to be able to work on your self\n",
    "\n",
    "# Formal Training\n",
    "- Reason as all tools are custom and all things need to be need to be taught \n",
    "- So training programs are created to teach the tools and the processes\n",
    "- Tools like fanagle are custom to companies like Twitter and build tools like a monorepo and need to be naviagble to do your job\n",
    "\n",
    "# Benefits of Technical Skills ex. coding \n",
    "- Devlops a way of thinging and how to disect and build something creates critcal thinkging skills and how to problem solve\n",
    "- Interviewers are looking for people who can problem solve and explain why the reached the conclusion they did\n",
    "- Gives people the ability to think methodically\n",
    "\n",
    "# What do you want to learn?\n",
    "- Web3 and blockchain technology \n",
    "- AWS and Google Cloud at a larger scale \n",
    "\n",
    "# Coding and Finance?\n",
    "- Allows to understand algorythms and predictive analytics\n"
   ]
  }
 ],
 "metadata": {
  "kernelspec": {
   "display_name": "Python 3",
   "language": "python",
   "name": "python3"
  },
  "language_info": {
   "name": "python",
   "version": "3.10.6 (main, Nov  2 2022, 18:53:38) [GCC 11.3.0]"
  },
  "orig_nbformat": 4,
  "vscode": {
   "interpreter": {
    "hash": "916dbcbb3f70747c44a77c7bcd40155683ae19c65e1c03b4aa3499c5328201f1"
   }
  }
 },
 "nbformat": 4,
 "nbformat_minor": 2
}
