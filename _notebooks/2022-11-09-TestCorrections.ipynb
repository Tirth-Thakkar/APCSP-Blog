{
 "cells": [
  {
   "attachments": {},
   "cell_type": "markdown",
   "metadata": {},
   "source": [
    "# Test Corrections & Reflection\n",
    "> Correcting Mistakes\n",
    "- title: Test Corrections\n",
    "- toc: true\n",
    "- comments: true\n",
    "- permalink: /Final\n",
    "- image: images/Scammer.png\n",
    "- tags: [week12]\n",
    "- categories: [week12]"
   ]
  },
  {
   "cell_type": "markdown",
   "metadata": {},
   "source": [
    "## Score"
   ]
  },
  {
   "cell_type": "markdown",
   "metadata": {},
   "source": [
    "![Final Score](https://github.com/Tirth-Thakkar/APCSP-Blog/blob/master/images/Final-Score.png?raw=true)"
   ]
  },
  {
   "cell_type": "markdown",
   "metadata": {},
   "source": [
    "## Questions + Corrections"
   ]
  },
  {
   "cell_type": "markdown",
   "metadata": {},
   "source": [
    "![Question 1](https://github.com/Tirth-Thakkar/APCSP-Blog/blob/master/images/Question1.png?raw=true)"
   ]
  },
  {
   "cell_type": "markdown",
   "metadata": {},
   "source": [
    "I had missed the until portion of the code as the function repeated till count was greater than the max not that the function printed the odd integers that were greater than the max. This was due to not reading the problem correctly. "
   ]
  },
  {
   "cell_type": "markdown",
   "metadata": {},
   "source": [
    "![Question 2](https://github.com/Tirth-Thakkar/APCSP-Blog/blob/master/images/Question2.png?raw=true)"
   ]
  },
  {
   "cell_type": "markdown",
   "metadata": {},
   "source": [
    "I had mistakenly used the value for after the function had executed getting 6, I had not taken into acount the sum of the value of all the integers between 0-5 which would set the value. The major reason for this issue was misunderstanding the question and not finding the value for result which was what the question had asked for. The best way to solve this issue would be to re-read the problem and to pay attention to all aspects not just what would be the first answer that would come to mind when looking at the problem."
   ]
  },
  {
   "cell_type": "markdown",
   "metadata": {},
   "source": [
    "![Question 3](https://github.com/Tirth-Thakkar/APCSP-Blog/blob/master/images/Question3.png?raw=true)"
   ]
  },
  {
   "cell_type": "markdown",
   "metadata": {},
   "source": [
    "When solving the problem I had not taken into account that the > while excluding 0 in the first portion of the conditional statement, however the else condition would be applicable to 0 making the value for count2 to not be 2 but 3 indicated in the correct answer. Pay more attention and be more careful when solving as there may be portions of problems that may require greater focus."
   ]
  },
  {
   "cell_type": "markdown",
   "metadata": {},
   "source": [
    "## Reflection\n",
    "Through taking the final assessment was that I wasn't the most dillgent when solving the problems resulting in missing portions or misreading them or all together misunderstanding mostly likely a result of trying to finish the test with haste. However, I also faced difficulty with problems such as those involving bis, and other data, along with binary questions requiring the most time and attention this was due to not properly studying these materials and thus resulting in unneeded confustion and time wastage, a solution would be to better prepare and to focus and take notes on collegeboard provided resources and content."
   ]
  }
 ],
 "metadata": {
  "kernelspec": {
   "display_name": "Python 3",
   "language": "python",
   "name": "python3"
  },
  "language_info": {
   "name": "python",
   "version": "3.10.6 (main, Nov  2 2022, 18:53:38) [GCC 11.3.0]"
  },
  "orig_nbformat": 4,
  "vscode": {
   "interpreter": {
    "hash": "916dbcbb3f70747c44a77c7bcd40155683ae19c65e1c03b4aa3499c5328201f1"
   }
  }
 },
 "nbformat": 4,
 "nbformat_minor": 2
}
