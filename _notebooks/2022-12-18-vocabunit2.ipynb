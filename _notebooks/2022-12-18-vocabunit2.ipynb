{
 "cells": [
  {
   "attachments": {},
   "cell_type": "markdown",
   "metadata": {},
   "source": [
    "# Unit 2 Vocabulary\n",
    "> Vocab For Unit 2\n",
    "- title: Unit 2 Vocabulary\n",
    "- toc: true\n",
    "- badges: false\n",
    "- tags: [chapter2, week16]\n",
    "- categories: [chapter2, week16]"
   ]
  },
  {
   "attachments": {},
   "cell_type": "markdown",
   "metadata": {},
   "source": [
    "# Word List \n",
    "`Data Terms:` \n",
    "- Bits\n",
    "- Bytes\n",
    "- Hexadecimal\n",
    "- Nibbles\n",
    "\n",
    "\n",
    "`Binary Numbers:`\n",
    "- Unsigned Integer\n",
    "- Signed Integer\n",
    "- Floating Point\n",
    "\n",
    "\n",
    "`Binary Data Abstractions:`\n",
    "- Boolean\n",
    "- ASCII\n",
    "- Unicode\n",
    "- RGB"
   ]
  },
  {
   "attachments": {},
   "cell_type": "markdown",
   "metadata": {},
   "source": [
    "## Bits\n",
    "- Category: Data Terms\n",
    "- Definition: A bit is the smallest unit of data in a computer. It can have one of two values: 0 or 1. Can store all types of data.\n",
    "\n",
    "## Bits Code Example"
   ]
  },
  {
   "cell_type": "code",
   "execution_count": 6,
   "metadata": {},
   "outputs": [
    {
     "name": "stdout",
     "output_type": "stream",
     "text": [
      "1010\n",
      "1100100\n",
      "11111111\n"
     ]
    }
   ],
   "source": [
    "def DecimalToBinary(n):\n",
    "    \n",
    "    binary_digits = []\n",
    "\n",
    "    while n > 0:\n",
    "        binary_digits.append(n % 2)\n",
    "        n = n // 2\n",
    "    return ''.join(str(d) for d in reversed(binary_digits))\n",
    "\n",
    "print(DecimalToBinary(10))\n",
    "# Output: 1010\n",
    "\n",
    "print(DecimalToBinary(100))  \n",
    "# Output: 1100100\n",
    "\n",
    "print(DecimalToBinary(255))  \n",
    "# Output: 11111111\n"
   ]
  },
  {
   "attachments": {},
   "cell_type": "markdown",
   "metadata": {},
   "source": [
    "## Bytes \n",
    "- Category: Data Terms\n",
    "- Defintion: A byte is a group of 8 bits. It is the smallest unit of data that can be directly addressed by a computer.\n",
    "\n",
    "## Bytes Code Example"
   ]
  },
  {
   "cell_type": "code",
   "execution_count": 7,
   "metadata": {},
   "outputs": [
    {
     "name": "stdout",
     "output_type": "stream",
     "text": [
      "b'Hello, world!'\n",
      "Number of bytes: 13\n",
      "Hello, world!\n"
     ]
    }
   ],
   "source": [
    "# Convert a string to a byte object\n",
    "string = \"Hello, world!\"\n",
    "byte_object = bytes(string, \"utf-8\")\n",
    "\n",
    "print(byte_object)  \n",
    "# Output: b'Hello, world!'\n",
    "\n",
    "print(f\"Number of bytes: {len(byte_object)}\")  \n",
    "# Output: Number of bytes: 13\n",
    "\n",
    "# Byte back to string\n",
    "string = byte_object.decode(\"utf-8\")\n",
    "\n",
    "print(string)  \n",
    "# Output: Hello, world!\n"
   ]
  },
  {
   "attachments": {},
   "cell_type": "markdown",
   "metadata": {},
   "source": [
    "## Hexadecimal\n",
    "- Category: Data Terms\n",
    "- Definition: A hexadecimal number is a number expressed in base 16 similar to decimal which is expressed in base 10. This means that each place represents a power of 16. The letters A-F are used to reprsent the values which are greater than 0-9 so A = 10, B = 11, etc. It is a convenient way to represent a byte value. Each hexadecimal digit represents 4 bits.\n",
    "\n",
    "## Hexadecimal Code Example"
   ]
  },
  {
   "cell_type": "code",
   "execution_count": 8,
   "metadata": {},
   "outputs": [
    {
     "name": "stdout",
     "output_type": "stream",
     "text": [
      "Hexadecimal number: 0xA5\n",
      "Decimal equivalent: 165\n",
      "Binary equivalent: 0b10100101\n"
     ]
    }
   ],
   "source": [
    "hex_string = input(\"Enter a hexadecimal number: \")\n",
    "\n",
    "decimal_num = int(hex_string, 16)\n",
    "binary_num = bin(decimal_num)\n",
    "\n",
    "print(\"Hexadecimal number:\", hex_string)\n",
    "\n",
    "print(\"Decimal equivalent:\", decimal_num)\n",
    "\n",
    "print(\"Binary equivalent:\", binary_num)\n",
    "\n",
    "# what this code does is that it takes an input \n",
    "# from the user of a hexadecimal string then \n",
    "# converts that code to a decimal number using\n",
    "# the bin and int functions as they are just \n",
    "# different methods of storing data\n",
    "\n"
   ]
  },
  {
   "attachments": {},
   "cell_type": "markdown",
   "metadata": {},
   "source": [
    "## Nibbles\n",
    "- Category: Data Terms\n",
    "- Definition: A nibble is a group of 4 bits. It is half of a byte. It is often used to represent a single digit in a hexadecimal number (as each hexadecimal digit represents 4 bits). A high nibble is the most significant 4 bits of a byte. A low nibble is the least significant 4 bits of a byte.\n",
    "\n",
    "## Nibbles Code Example"
   ]
  },
  {
   "cell_type": "code",
   "execution_count": 9,
   "metadata": {},
   "outputs": [
    {
     "name": "stdout",
     "output_type": "stream",
     "text": [
      "Byte: 165\n",
      "High nibble: 0xa\n",
      "Low nibble: 0x5\n"
     ]
    }
   ],
   "source": [
    "# Define a byte x just mean it is in hexadecimal notation\n",
    "byte = 0xA5\n",
    "\n",
    "# Extract the high nibble (the four most significant bits) uses the bitwise right shift operator so that is shifts the most 4 most important bits(high nibble) to the right discard the 4 less significant bits (low nibble)\n",
    "\n",
    "high_nibble = byte >> 4\n",
    "\n",
    "# Extract the low nibble (the four least significant bits) through the use of the bitwise and operator as the 0x0F represents the last for bits thus through the program it does the inverse of what the first portion does and extracts the 4 least significant bits which would be the low nibble\n",
    "\n",
    "low_nibble = byte & 0x0F\n",
    "\n",
    "# Convert the nibbles to hexadecimal strings\n",
    "high_nibble_hex = hex(high_nibble)\n",
    "low_nibble_hex = hex(low_nibble)\n",
    "\n",
    "# Print the results\n",
    "\n",
    "print(\"Byte:\", byte)\n",
    "print(\"High nibble:\", high_nibble_hex)\n",
    "print(\"Low nibble:\", low_nibble_hex)\n"
   ]
  },
  {
   "attachments": {},
   "cell_type": "markdown",
   "metadata": {},
   "source": [
    "## Unsigned Integer\n",
    "- Category: Binary Numbers\n",
    "- Definition: An unsigned integer is a number that can only be positive. It is represented in binary using the same number of bits as the number of bits in the computer's word size. For example, a 32-bit computer uses 32 bits to represent an unsigned integer. So an unsigned integer can only be used in situations where the number used cannot be negative so in senarios like a shopping list where the number of groceries you need to buy cannot be negative. The advantages to using an unsigned integer is that it is faster to compute than a signed integer and it is easier to store in memory. The disadvantages are that it can only be used in situations where the number cannot be negative and it can only represent positive numbers making it prone to overflow errors if the number is implemented incorrectly in situation where there can be negative numbers such as a subtraction problem.\n",
    "\n",
    "## Unsigned Integer Code Example\n",
    "- `FYI: Python doesn't have unsigned integers so the ctypes module needs to be imported.`"
   ]
  },
  {
   "cell_type": "code",
   "execution_count": 3,
   "metadata": {},
   "outputs": [
    {
     "name": "stdout",
     "output_type": "stream",
     "text": [
      "\n",
      "Milk added to shopping list.\n",
      "\n",
      "Bread added to shopping list.\n",
      "\n",
      "Eggs added to shopping list.\n",
      "\n",
      "Current shopping list: ['Milk', 'Bread', 'Eggs']\n",
      "\n",
      "Bread removed from shopping list.\n",
      "\n",
      "Current shopping list: ['Milk', 'Eggs']\n",
      "\n",
      "Sugar not found in shopping list.\n"
     ]
    }
   ],
   "source": [
    "# An unsigned int is decalred from the ctypes module as there is no unsigned integer bulit into Python\n",
    "from ctypes import c_uint\n",
    "\n",
    "shopping_list = []\n",
    "\n",
    "# Declares an unsigned integer to store the numbers in the shopping list this is done as the list cannot have negative numbers\n",
    "# Making it it better than a signed integer in this case as this case is more appropriate for a shopping list\n",
    "item_count = c_uint(0)\n",
    "\n",
    "# Function to add an item to the shopping list\n",
    "def add_item(item):\n",
    "  global item_count\n",
    "  shopping_list.append(item)\n",
    "  item_count.value += 1\n",
    "  print(f\"\\n{item} added to shopping list.\")\n",
    "\n",
    "# Function to remove an item from the shopping list this prevents an overflow error \n",
    "# From occuring as the check in the remove items function makes it so that if only if the \n",
    "# number of items in the shopping list is greater than 0 can an item be removed\n",
    "# this prevents the number of items in the shopping list from going below 0\n",
    "# thus eleminating the possiblity of an overflow error occuring\n",
    "def remove_item(item):\n",
    "  global item_count\n",
    "  if item in shopping_list:\n",
    "    shopping_list.remove(item)\n",
    "    if item_count.value > 0:\n",
    "        item_count.value -= 1\n",
    "    else:\n",
    "        item_count.value = 0\n",
    "        print(\"\\nItem count is set to 0 cannot have a negative number of items in the shopping list.\")\n",
    "    print(f\"\\n{item} removed from shopping list.\")\n",
    "  else:\n",
    "    print(f\"\\n{item} not found in shopping list.\")\n",
    "\n",
    "# Add some items to the shopping list\n",
    "add_item(\"Milk\")\n",
    "add_item(\"Bread\")\n",
    "add_item(\"Eggs\")\n",
    "\n",
    "# Prints the current shopping list\n",
    "print(f\"\\nCurrent shopping list: {shopping_list}\")\n",
    "\n",
    "# Remove an item from the shopping list\n",
    "remove_item(\"Bread\")\n",
    "\n",
    "# Print the current shopping list\n",
    "print(f\"\\nCurrent shopping list: {shopping_list}\")\n",
    "\n",
    "# Try to remove an item that is not in the shopping list\n",
    "remove_item(\"Sugar\")\n"
   ]
  },
  {
   "attachments": {},
   "cell_type": "markdown",
   "metadata": {},
   "source": [
    "## Signed Integer\n",
    "- Category: Binary Numbers\n",
    "- Definition: A signed integer is a number that can be positive or negative. It is represented in binary using the same number of bits as the number of bits in the computer's word size. For example, a 32-bit computer uses 32 bits to represent a signed integer. So a signed integer can be used in situations where the number used can be negative so in senarios like a subtraction problem where the output can be either negative or postive where only integers are used. The advantages to using a signed integer is that it can be used in situations where the number can be negative and it can represent positive and negative numbers. The disadvantages are that it is slower to compute than an unsigned integer and it is more difficult to store in memory. Also compared to an unsigned integer, smaller numbers can be stored in the same amount of space but are more efficient than floating point numbers.\n",
    "\n",
    "## Signed Integer Code Example"
   ]
  },
  {
   "cell_type": "code",
   "execution_count": 6,
   "metadata": {},
   "outputs": [
    {
     "name": "stdout",
     "output_type": "stream",
     "text": [
      "The difference between 21 and 69 is -48\n"
     ]
    }
   ],
   "source": [
    "def subtractor():\n",
    "    num1 = int(input(\"Enter first number: \"))\n",
    "    num2 = int(input(\"Enter second number: \"))\n",
    "    print(f\"The difference between {num1} and {num2} is {num1 - num2}\")\n",
    "\n",
    "subtractor()\n",
    "\n",
    "# As illustrated it can be seen as through the use of a \n",
    "# signed integer the program is able to store and dispaly \n",
    "# negative values as well as positive values \n",
    "# if an unsigned integer would have been used \n",
    "# in this senario the program would have had an overflow error"
   ]
  },
  {
   "attachments": {},
   "cell_type": "markdown",
   "metadata": {},
   "source": [
    "## Floating Point\n",
    "- Category: Binary Numbers\n",
    "- Definition: A floating point number is a number that can be positive or negative and can have a decimal point. It is represented in binary using the same number of bits as the number of bits in the computer's word size. For example, a 32-bit computer uses 32 bits to represent a floating point number. So a floating point number can be used in situations where the number used can be negative and can have a decimal point so in senarios like a temperature where the temperature can be negative and can have a decimal point. The advantages to using a floating point number is that it can be used in situations where the number can be negative and can have a decimal point and it can represent positive and negative numbers. The disadvantages are that it is slower to compute than an unsigned and signed integer and it is more difficult to store in memory. Also compared to an unsigned and signed integer, smaller numbers can be stored in the same amount of space. \n",
    "\n",
    "## Floating Point Code Example"
   ]
  },
  {
   "cell_type": "code",
   "execution_count": 10,
   "metadata": {},
   "outputs": [
    {
     "name": "stdout",
     "output_type": "stream",
     "text": [
      "\n",
      "The tempreature outside is 21.21 degrees farenheit\n",
      "\n",
      "The temperature outside is -5.9944444 degrees celsius\n"
     ]
    }
   ],
   "source": [
    "def convertFahrenheit(temperature):\n",
    "    celsius = temperature - 32\n",
    "    celsius = celsius * 5/9\n",
    "    print(f\"\\nThe temperature outside is {round(celsius, 7)} degrees celsius\")\n",
    "\n",
    "outsideTemp = input(\"Enter temperature in celsius\")\n",
    "outsideTemp = float(outsideTemp)\n",
    "print(f\"\\nThe tempreature outside is {outsideTemp} degrees farenheit\")\n",
    "\n",
    "convertFahrenheit(outsideTemp)\n",
    "\n",
    "# As seen the program can handle both postive and negative numbers\n",
    "# Along with decimals as well as whole numbers\n",
    "# This is due to the fact that the program is using a floating number\n",
    "# This is best when there is divsion involved such as the tempreature \n",
    "# conversion as it allows the program to be able to display \n",
    "# information with more precision than if an integer was used"
   ]
  },
  {
   "attachments": {},
   "cell_type": "markdown",
   "metadata": {},
   "source": [
    "## Boolean\n",
    "- Category: Binary Data Abstractions\n",
    "- Definition: A boolean is a data type that can only have two values: True or False. So it can be used in programs such as conditional statments to determine if a certain condition is true or false it can excute a certain actions. There are many procedures that output a boolean value. \n",
    "\n",
    "## Boolean Code Example"
   ]
  },
  {
   "cell_type": "code",
   "execution_count": 14,
   "metadata": {},
   "outputs": [
    {
     "name": "stdout",
     "output_type": "stream",
     "text": [
      "1 is an integer\n",
      "2.0 is a float\n",
      "snowflake is a string\n",
      "True is a boolean\n",
      "4 is an integer\n",
      "5.0 is a float\n",
      "butterfly is a string\n",
      "False is a boolean\n",
      "7 is an integer\n",
      "8.0 is a float\n",
      "pumpernickle toast is a string\n",
      "True is a boolean\n",
      "10 is an integer\n",
      "11.0 is a float\n",
      "rainbow is a string\n",
      "False is a boolean\n"
     ]
    }
   ],
   "source": [
    "\n",
    "things = [1, 2.0, \"snowflake\", True, 4, 5.0, \"butterfly\", False, 7, 8.0, \"pumpernickle toast\", True, 10, 11.0, \"rainbow\", False]\n",
    "def thingchecker(things):\n",
    "    for thing in things:\n",
    "        # Had to add this portion as it seems that booleans and \n",
    "        # integers are both considered integers in python for some reason\n",
    "        # as it turns out that is because booleans are a subclass of integers\n",
    "        if isinstance(thing, int) and not isinstance(thing, bool):\n",
    "            print(f\"{thing} is an integer\")\n",
    "        elif isinstance(thing, float):\n",
    "            print(f\"{thing} is a float\")\n",
    "        elif isinstance(thing, str):\n",
    "            print(f\"{thing} is a string\")\n",
    "        elif isinstance(thing, bool):\n",
    "            print(f\"{thing} is a boolean\")\n",
    "        else:\n",
    "            print(\"The input is something else\")\n",
    "thingchecker(things)\n"
   ]
  },
  {
   "attachments": {},
   "cell_type": "markdown",
   "metadata": {},
   "source": [
    "## ASCII\n",
    "- Category: Binary Data Abstractions\n",
    "- Definition: ASCII stands for American Standard Code for Information Interchange. It is a character encoding standard for electronic communication. It uses 7 bits to represent 128 different characters. It is the most common character encoding standard. It is used to represent text in computers and other devices. It is a subset of the Unicode character encoding standard. And is used for things such as data trasmission, to format files, is the base of languages such as C, C++, Java, and Python, and is used to represent text in HTML and XML documents, along with many more uses. "
   ]
  },
  {
   "cell_type": "code",
   "execution_count": 28,
   "metadata": {},
   "outputs": [
    {
     "name": "stdout",
     "output_type": "stream",
     "text": [
      "Your string was butter which in ASCII codes is:\n",
      "98 117 116 116 101 114 "
     ]
    }
   ],
   "source": [
    "Coded = input(\"Enter a string to be coded: \")\n",
    "print(f'Your string was {Coded} which in ASCII codes is:')\n",
    "def ASCII_Coder(Coded):\n",
    "    for letter in Coded:\n",
    "        print(ord(letter), end = \" \")\n",
    "ASCII_Coder(Coded)\n",
    "\n",
    "# The ord function is used to convert \n",
    "# a character into its ASCII code which \n",
    "# is then printed out to the user this \n",
    "# would also do genereal Unicode as well     \n"
   ]
  },
  {
   "attachments": {},
   "cell_type": "markdown",
   "metadata": {},
   "source": [
    "## Unicode\n",
    "- Category: Binary Data Abstractions\n",
    "- Definition: Unicode is a character encoding standard for electronic communication. It uses 16 bits to represent 65,536 different characters. It is the most common character encoding standard. It is used to represent text in computers and other devices. It is a superset of the ASCII character encoding standard. Representing the standard that encodes most of the worlds languages.  "
   ]
  },
  {
   "cell_type": "code",
   "execution_count": 30,
   "metadata": {},
   "outputs": [
    {
     "name": "stdout",
     "output_type": "stream",
     "text": [
      "Your string was 你好世界 which in ASCII codes is:\n",
      "20320 22909 19990 30028 "
     ]
    }
   ],
   "source": [
    "Coded = input(\"Enter a string to be coded: \")\n",
    "print(f'Your string was {Coded} which in ASCII codes is:')\n",
    "def Uni_Coder(Coded):\n",
    "    for letter in Coded:\n",
    "        print(ord(letter), end = \" \")\n",
    "Uni_Coder(Coded)\n",
    "# According to google trasnlate that should be Hello World in Chinese Simplified\n",
    "# The program is able to convert the string into its Unicode code pointers \n",
    "# Which is the same code as the ASCII code as the ASCII code is a subset of the Unicode code\n",
    "# and the ord() function is able to convert the string into its Unicode code pointers"
   ]
  },
  {
   "attachments": {},
   "cell_type": "markdown",
   "metadata": {},
   "source": [
    "## RGB\n",
    "- Category: Binary Data Abstractions\n",
    "- Definition: RGB stands for Red, Green, Blue. It is a color model that uses 3 bytes to represent 16,777,216 different colors. It is used to represent colors in computers and other devices. It is used to represent colors in images, videos, and other media. It is used to represent colors in HTML and CSS documents.\n",
    "\n",
    "## RGB Code Example"
   ]
  },
  {
   "cell_type": "code",
   "execution_count": 6,
   "metadata": {},
   "outputs": [
    {
     "name": "stdout",
     "output_type": "stream",
     "text": [
      "Red: 255\n",
      "Green: 139\n",
      "Blue: 184\n"
     ]
    }
   ],
   "source": [
    "from PIL import Image\n",
    "# Opens the image file\n",
    "doughnut = Image.open(\"/home/tirth/vscode/APCSP-Blog/images/Profile.jpg\")\n",
    "\n",
    "# Get the width and height of the image\n",
    "width, height = doughnut.size\n",
    "\n",
    "center_x = width // 2\n",
    "quarter_y = height // 4\n",
    "\n",
    "# Get the color of the pixel at the center of the image \n",
    "# and a quarter of the way down from the top of the image\n",
    "r, g, b = doughnut.getpixel((center_x, quarter_y))\n",
    "\n",
    "# gets the color of the top-left pixel\n",
    "print(f\"Red: {r}\")\n",
    "print(f\"Green: {g}\")\n",
    "print(f\"Blue: {b}\")\n"
   ]
  }
 ],
 "metadata": {
  "kernelspec": {
   "display_name": "base",
   "language": "python",
   "name": "python3"
  },
  "language_info": {
   "codemirror_mode": {
    "name": "ipython",
    "version": 3
   },
   "file_extension": ".py",
   "mimetype": "text/x-python",
   "name": "python",
   "nbconvert_exporter": "python",
   "pygments_lexer": "ipython3",
   "version": "3.9.12"
  },
  "orig_nbformat": 4,
  "vscode": {
   "interpreter": {
    "hash": "c01fa961529e9daabe8f923baaa66cec9a05e87366ddea10e0ca4d35fb3358df"
   }
  }
 },
 "nbformat": 4,
 "nbformat_minor": 2
}
