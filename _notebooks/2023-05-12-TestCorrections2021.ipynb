{
 "cells": [
  {
   "attachments": {},
   "cell_type": "markdown",
   "metadata": {},
   "source": [
    "# 2021 Practice Exam Corrections\n",
    "> Corrections and reflection on missed questions\n",
    "- toc: true\n",
    "- categories: [week31]\n",
    "- type: ap\n",
    "- week: 31"
   ]
  },
  {
   "attachments": {},
   "cell_type": "markdown",
   "metadata": {},
   "source": [
    "## Score \n",
    "- ![image](https://github.com/Tirth-Thakkar/APCSP-Blog/assets/108642800/09dea450-af9d-4a3f-a654-d883083d85a6)\n",
    "- I got a score of 61/70\n",
    "\n",
    "## Question 1\n",
    "![image](https://github.com/Tirth-Thakkar/APCSP-Blog/assets/108642800/5faa1ec4-fcc1-4e95-a495-8116901838c9)\n",
    "- The error was in evaluating the position of the binary value getting twice the actual amount hence the wrong answer\n",
    "\n",
    "## Question 2\n",
    "- ![image](https://github.com/Tirth-Thakkar/APCSP-Blog/assets/108642800/74c6e484-890c-4cf8-9728-7b97db6f396f)\n",
    "- Didn't see the conditions being reversed hence the return value hence the output of the program would be inaccurate and so the answer was inaccurate.\n",
    "\n",
    "## Question 3\n",
    "- ![image](https://github.com/Tirth-Thakkar/APCSP-Blog/assets/108642800/245df38b-9ea6-473f-88b7-814c5aaa88b4)\n",
    "- Didn't understand the ability of an individual to data mine to get the password not undermining the encryption but the ability to get the password.\n",
    "\n",
    "## Question 4\n",
    "- ![image](https://github.com/Tirth-Thakkar/APCSP-Blog/assets/108642800/69dd1135-0a86-449a-bd0a-d421731cb226)\n",
    "- I couldn't understand the path of the robot but thus got the wrong answer\n",
    "\n",
    "## Question 5 \n",
    "- ![image](https://github.com/Tirth-Thakkar/APCSP-Blog/assets/108642800/ddd91cc3-ba0d-4641-bb3c-08e02aabbc53)\n",
    "- Didn't realize 2^6 was 64 and couldn't store all the values within the range of numbers\n",
    "\n",
    "## Question 6\n",
    "- ![image](https://github.com/Tirth-Thakkar/APCSP-Blog/assets/108642800/1175a481-8f38-4eae-a97d-81ef87703bb4)\n",
    "- Didn't realize all methods of sorting were functional in achieving the goal of the user\n",
    "\n",
    "## Question 7\n",
    "- ![image](https://github.com/Tirth-Thakkar/APCSP-Blog/assets/108642800/a9cca29c-cc75-41e6-b41c-2a894e307691)\n",
    "- Didn't realize that the other methods of running the processes in parallel would not be as efficient as the one that was chosen so I was incorrect\n",
    "\n",
    "## Question 8\n",
    "- ![image](https://github.com/Tirth-Thakkar/APCSP-Blog/assets/108642800/66bc89d6-7fb5-4e89-a6cd-ab3abf522829)\n",
    "- Option C was incorrectly selected however it doesn't correctly function as if the timer is greater than 60 the user will be given a score of 1000\n",
    "\n",
    "## Question 9\n",
    "- ![image](https://github.com/Tirth-Thakkar/APCSP-Blog/assets/108642800/2dde30b9-d3e7-4e6a-9dc8-beb377662d7f)\n",
    "- Option D was incorrectly selected however the correct second selection was C and would only assign the to the right of the value and store tbe as the value not the desired option. \n",
    "\n",
    "\n",
    "## [Additional Practice](https://quizlet.com/800259318/csp-cram-flash-cards/)\n",
    "- Did extra practice with Haseeb and reviewed all concepts that we difficult such as internet protocols and analog to digital encryption "
   ]
  }
 ],
 "metadata": {
  "language_info": {
   "name": "python"
  },
  "orig_nbformat": 4
 },
 "nbformat": 4,
 "nbformat_minor": 2
}
