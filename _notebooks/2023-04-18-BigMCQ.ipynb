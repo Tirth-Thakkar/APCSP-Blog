{
 "cells": [
  {
   "attachments": {},
   "cell_type": "markdown",
   "metadata": {},
   "source": [
    "# MCQ Test 4 Corrections\n",
    "> Corrections and reflection on missed questions\n",
    "- toc: true\n",
    "- categories: [week29]\n",
    "- type: ap\n",
    "- week: 29"
   ]
  },
  {
   "attachments": {},
   "cell_type": "markdown",
   "metadata": {},
   "source": [
    "# Score\n",
    "![image](https://user-images.githubusercontent.com/108642800/232732223-8e4d24b5-f48b-46d8-92eb-8b6c1678b132.png)\n",
    "- I scored a I scored a 62/66 on the MCQ getting a score of 93.94%.\n",
    "\n",
    "## Incorrect 1\n",
    "- ![Incorrect1](https://github.com/Tirth-Thakkar/APCSP-Blog/blob/master/images/Big1.png?raw=true)\n",
    "- I misread the question thus getting it incorrect as it would be the direct opposite of the correct answer that to get phished the user should call the insecure number.\n",
    "\n",
    "## Incorrect 2\n",
    "- ![Incorrect2](https://github.com/Tirth-Thakkar/APCSP-Blog/blob/master/images/Big2.png?raw=true)\n",
    "- In focusing no the circle drawing function to be able to properly place circles I failed to take account the origin of the circle thus getting it wrong as the circles would not have been in the correct position.\n",
    "\n",
    "## Incorrect 3\n",
    "- ![Incorrect3](https://github.com/Tirth-Thakkar/APCSP-Blog/blob/master/images/Big3.png?raw=true)\n",
    "- I misunderstood how the type of encryption worked and thus got it wrong as to encrypt the message it needs the senders private key and the to decrypt the message it would need to recipient's public key.\n",
    "\n",
    "## Incorrect 4\n",
    "![Incorrect4](https://github.com/Tirth-Thakkar/APCSP-Blog/blob/master/images/Big4.png?raw=true)\n",
    "- I misunderstood the question and thought what the next algorithm would be and thus got it wrong as the simplified general algorithm would have been n^m. "
   ]
  }
 ],
 "metadata": {
  "language_info": {
   "name": "python"
  },
  "orig_nbformat": 4
 },
 "nbformat": 4,
 "nbformat_minor": 2
}
