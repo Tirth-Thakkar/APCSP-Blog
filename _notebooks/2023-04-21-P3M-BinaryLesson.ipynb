{
 "cells": [
  {
   "attachments": {},
   "cell_type": "markdown",
   "metadata": {},
   "source": [
    "# Binary Lesson\n",
    "> A series of binary lessons focussed on math and conversions.\n",
    "- toc: true\n",
    "- badges: false\n",
    "- comments: true\n",
    "- categories: [week30]\n"
   ]
  },
  {
   "attachments": {},
   "cell_type": "markdown",
   "metadata": {},
   "source": [
    "## Learning Objectives\n",
    "![CollegeBoard Requirements for Binary](https://user-images.githubusercontent.com/111464932/229885445-65ef56d2-f3d4-43da-aa62-8683e8c0a08b.png)\n",
    "\n",
    "### DAT-1.A: Representing Data with Bits\n",
    "\n",
    "#### Basic Information\n",
    "* Bit is short for `binary` digit, and represents a value of either 0 or 1.\n",
    "    - A byte is 8 bits.\n",
    "* Sequences of bits are used to represent different things.\n",
    "    - Representing data with sequences of bits is called `binary sequence`.\n",
    "\n",
    "#### Practice Questions:\n",
    "1. How many bits are in 3 bytes?\n",
    "    - `8*3 = 24 bits`  \n",
    "2. What digital information can be represented by bits? \n",
    "    - `All digital information can be represented by bits` \n",
    "3. Are bits an analog or digital form of storing data? What is the difference between the two?\n",
    "    - `Bits are a digital form of storing data the difference between the two is that digital is represented in bits as a 1 or 0 however with analog data it has the possibility of having other values.` \n",
    "#### Examples\n",
    "* Boolean variables (true or false) are the easiest way to visualize binary.\n",
    "    - 0 = False\n",
    "    - 1 = True\n"
   ]
  },
  {
   "cell_type": "code",
   "execution_count": 1,
   "metadata": {},
   "outputs": [
    {
     "name": "stdout",
     "output_type": "stream",
     "text": [
      "binary is awesome\n",
      "binary is cool\n",
      "binary is cool\n",
      "binary is awesome\n",
      "binary is cool\n",
      "binary is awesome\n",
      "binary is awesome\n",
      "binary is awesome\n",
      "binary is awesome\n",
      "binary is awesome\n"
     ]
    }
   ],
   "source": [
    "import random\n",
    "\n",
    "def example(runs):\n",
    "    # Repeat code for the amount of runs given\n",
    "    while runs > 0:\n",
    "        # Assigns variable boolean to either True or False based on random binary number 0 or 1.\n",
    "        boolean = False if random.randint(0, 1) == 0 else True \n",
    "\n",
    "        # If the number was 1 (True), it prints \"awesome.\"\n",
    "        if boolean:\n",
    "            print(\"binary is awesome\")\n",
    "            \n",
    "        # If the number was 2 (False), it prints \"cool.\"\n",
    "        else:\n",
    "            print(\"binary is cool\")\n",
    "            \n",
    "        runs -= 1\n",
    "     \n",
    "# Change the parameter to how many times to run the function.   \n",
    "example(10)"
   ]
  },
  {
   "attachments": {},
   "cell_type": "markdown",
   "metadata": {},
   "source": [
    "### DAT-1.B: The Consequences of Using Bits to Represent Data\n",
    "\n",
    "#### Basic Information\n",
    "* Integers are represented by a fixed number of bits, this limits the range of integer values. This limitation can result in `overflow` or other errors.\n",
    "* Other programming languages allow for abstraction only limited by the computers memory.\n",
    "* Fixed number of bits are used to represent real numbers/limits\n",
    "\n",
    "#### Practice Questions:\n",
    "1. What is the largest number can be represented by 5 bits?\n",
    "    - `31 is the largest number that can be represented by 5 bits.` \n",
    "2. One programming language can only use 16 bits to represent non-negative numbers, while a second language uses 56 bits to represent numbers. How many times as many unique numbers can be represented by the second language?\n",
    "    - `2^16 - 1 = 65,535`\n",
    "    - `2^56 -1 = 72,057,594,037,927,935`\n",
    "    - `The second language can store about 1,099,528,405,248 times more numbers than the first language.`\n",
    "\n",
    "3. 5 bits are used to represent both positive and negative numbers, what is the largest number that can be represented by these bits? (*hint: different than question 1*)\n",
    "    - `Signed 5 Bit integer: 31`  \n",
    "    - `Unsigned 5 bit integer: 15` \n",
    "\n",
    "#### Examples"
   ]
  },
  {
   "cell_type": "code",
   "execution_count": 2,
   "metadata": {},
   "outputs": [
    {
     "name": "stdout",
     "output_type": "stream",
     "text": [
      "5^2 = 25.0\n"
     ]
    }
   ],
   "source": [
    "import math\n",
    "\n",
    "def exponent(base, power):\n",
    "    # Print the operation performed, turning the parameters into strings to properly concatenate with the symbols \"^\" and \"=\".\n",
    "    print(str(base) + \"^\" + str(power) + \" = \" + str(math.pow(base, power)))\n",
    "\n",
    "# How can function become a problem? (Hint: what happens if you set both base and power equal to high numbers?)\n",
    "exponent(5, 2)\n"
   ]
  },
  {
   "attachments": {},
   "cell_type": "markdown",
   "metadata": {},
   "source": [
    "### DAT-1.C: Binary Math\n",
    "\n",
    "#### Basic Information\n",
    "* Binary is Base 2, meaning each digit can only represent values of 0 and 1.\n",
    "* Decimal is Base 10, meaning each digit can represent values from 0 to 9.\n",
    "* Conversion between sequences of binary to decimal depend on how many binary numbers there are, their values and their positions.\n",
    "\n",
    "#### Practice Questions:\n",
    "1. What values can each digit of a Base 5 system represent?\n",
    "    - `The value a 5 digit based system can represent is 5^n depending on where it correlates to then the prior values can be added to each other to be able to get the total value of the number as for instance 001001 can be represent as (0 x 2^6) + (0 x 2^6) + (1 x 2^5) ... and how a similar concept can be used in a base 10 system we could do the exact same thing with a base 5 system.` \n",
    "\n",
    "2. What base is Hexadecimal? What range of values can each digit of Hexadecimal represent?\n",
    "    - `Hexadecimal is base 16 and can represent 0, 1, 2, 3, 4, 5, 6, 7, 8, 9, A, B, C, D, E, F` \n",
    "\n",
    "3. When using a base above 10, letters can be used to represent numbers past 9. These letters start from A and continue onwards. For example, the decimal number 10 is represented by the letter A in Hexadecimal. What letter would be used to represent the Base 10 number 23 in a Base 30 system? What about in a Base 50 system?\n",
    "- `In a base system above 10, letters are used to represent numbers past 9. To find the letter that represents a particular number in a given base system, we perform integer division and modulus operations. For example, to represent the number 23 in a base 30 system, we divide 23 by 30 and take the remainder, which is 23. The corresponding letter for the number 23 in base 30 is H, so 23 in base 30 is represented as the single digit H. Similarly, to represent the number 23 in a base 50 system, we divide 23 by 50 and take the remainder, which is 23. The corresponding letter for the number 23 in base 50 is X, so 23 in base 50 is represented as the single digit X.`\n",
    "\n",
    "#### Examples\n",
    "* Using 6 bits, we can represent 64 numbers, from 0 to 63, as 2^6 = 64.\n",
    "* The numbers in a sequence of binary go from right to left, increasing by powers of two from 0 to the total amount of bits. The whole number represented is the sum of these bits. For example:\n",
    "    1. 111111 \n",
    "    2. 2^5 + 2^4 + 2^3 + 2^2 + 2^1 + 2^0\n",
    "    3. 32 + 16 + 8 + 4 + 2 + 1\n",
    "    4. 63\n",
    "* **Fill in the blanks** (convert to decimal) \n",
    "    1. 001010 = `10` \n",
    "    2. 11100010 = `226`\n",
    "    3. 10 = `2`\n",
    "\n",
    "* **Fill in the blanks** (convert to binary) \n",
    "    1. 12 = `1100`\n",
    "    2. 35 = `010011`\n",
    "    3. 256 = `100000000`"
   ]
  },
  {
   "attachments": {},
   "cell_type": "markdown",
   "metadata": {},
   "source": [
    "## Hacks & Grading (Due SUNDAY NIGHT 4/23)\n",
    "* Complete all of the popcorn hacks (Fill in the blanks + run code cells and interact + Answer ALL questions) [0.3 or nothing]\n",
    "* Create a program to conduct basic mathematical operations with binary sequences (addition, subtraction, multiplication, division) [0.6 or nothing]\n",
    "    - For bonus, program must be able to conduct mathematical operations on binary sequences of varying bits (for example: 101 + 1001 would return decimal 14.) [0.1 or nothing]\n",
    "\n",
    "## Code Demo With Binary Math operations"
   ]
  },
  {
   "cell_type": "code",
   "execution_count": 7,
   "metadata": {},
   "outputs": [
    {
     "name": "stdout",
     "output_type": "stream",
     "text": [
      "This is the result of binary addition of the values 1101 and 1010: 11011111\n",
      "This is the result of binary subtraction of the values 1101 and 1010: 110110000\n",
      "This is the result of binary multiplication of the values 1101 and 1010: 10000111\n",
      "This is the result of binary division of the values 1101 and 1010: 0 remainder: 1\n"
     ]
    }
   ],
   "source": [
    "def binary_addition(x, y):\n",
    "    # Convert binary sequences x and y to integers, add them, and convert back to binary sequence\n",
    "    # ,2 tells the function that the number is a binary number in base 2 and the slice [2:] removes the \"0b\" from the beginning of the string this is the same for all the other functions\n",
    "    return bin(int(x, 2) + int(y, 2))[2:]\n",
    "\n",
    "def binary_subtraction(x, y):\n",
    "    # Convert binary sequences x and y to integers, subtract them, and convert back to binary sequence\n",
    "    return bin(int(x, 2) - int(y, 2))[2:]\n",
    "\n",
    "def binary_multiplication(x, y):\n",
    "    # Convert binary sequences x and y to integers, multiply them, and convert back to binary sequence\n",
    "    return bin(int(x, 2) * int(y, 2))[2:]\n",
    "\n",
    "def binary_division(x, y):\n",
    "    # Convert binary sequences x and y to integers, divide them using integer division, and convert back to binary sequence\n",
    "    quotient = bin(int(x, 2) // int(y, 2))[2:]\n",
    "    # Calculate the remainder and convert it to a binary string\n",
    "    remainder = bin(int(x, 2) % int(y, 2))[2:]\n",
    "    # Return a string with the quotient and the remainder tag\n",
    "    return quotient + \" remainder: \" + remainder\n",
    "\n",
    "\n",
    "def binary_operations(x, y, operator):\n",
    "    if operator == '+':\n",
    "        # Perform binary addition\n",
    "        return binary_addition(x, y)\n",
    "    elif operator == '-':\n",
    "        # Perform binary subtraction\n",
    "        return binary_subtraction(x, y)\n",
    "    elif operator == '*':\n",
    "        # Perform binary multiplication\n",
    "        return binary_multiplication(x, y)\n",
    "    elif operator == '/':\n",
    "        # Perform binary division\n",
    "        return binary_division(x, y)\n",
    "    else:\n",
    "        # Invalid operator\n",
    "        return \"Invalid operator!\"\n",
    "\n",
    "# Must be a string as it is a binary sequence or it will be treated as a decimal number\n",
    "\n",
    "\n",
    "addition = binary_operations('11010101', '1010', '+')\n",
    "\n",
    "print(f'This is the result of binary addition of the values 1101 and 1010: {addition}')\n",
    "\n",
    "subtraction = binary_operations('110110101', '101', '-')\n",
    "print(f'This is the result of binary subtraction of the values 1101 and 1010: {subtraction}')\n",
    "\n",
    "multiplication = binary_operations('0101101', '11', '*')\n",
    "print(f'This is the result of binary multiplication of the values 1101 and 1010: {multiplication}')\n",
    "\n",
    "division = binary_operations('1', '100101', '/')\n",
    "print(f'This is the result of binary division of the values 1101 and 1010: {division}')\n",
    "\n"
   ]
  },
  {
   "cell_type": "code",
   "execution_count": 8,
   "metadata": {},
   "outputs": [
    {
     "name": "stdout",
     "output_type": "stream",
     "text": [
      "This is the result of binary addition of the values 1101 and 1010: 17\n",
      "This is the result of binary subtraction of the values 1101 and 1010: 161\n",
      "This is the result of binary multiplication of the values 1101 and 1010: 10\n",
      "This is the result of binary division of the values 1101 and 1010: 4 and the remainder is 3\n"
     ]
    }
   ],
   "source": [
    "def binary_addition(x, y):\n",
    "    return int(x, 2) + int(y, 2)\n",
    "\n",
    "def binary_subtraction(x, y):\n",
    "    return int(x, 2) - int(y, 2)\n",
    "\n",
    "def binary_multiplication(x, y):\n",
    "    return int(x, 2) * int(y, 2)\n",
    "\n",
    "def binary_division(x, y):\n",
    "    quotient = int(x, 2) // int(y, 2)\n",
    "    remainder = int(x, 2) % int(y, 2)\n",
    "    return quotient, remainder\n",
    "\n",
    "def binary_operations(x, y, operator):\n",
    "    if operator == '+':\n",
    "        return binary_addition(x, y)\n",
    "    elif operator == '-':\n",
    "        return binary_subtraction(x, y)\n",
    "    elif operator == '*':\n",
    "        return binary_multiplication(x, y)\n",
    "    elif operator == '/':\n",
    "        return binary_division(x, y)\n",
    "    else:\n",
    "        return \"Invalid operator!\"\n",
    "\n",
    "addition = binary_operations('111', '1010', '+')\n",
    "print(f'This is the result of binary addition of the values 1101 and 1010: {addition}')\n",
    "\n",
    "subtraction = binary_operations('10101011', '1010', '-')\n",
    "print(f'This is the result of binary subtraction of the values 1101 and 1010: {subtraction}')\n",
    "\n",
    "multiplication = binary_operations('1', '1010', '*')\n",
    "print(f'This is the result of binary multiplication of the values 1101 and 1010: {multiplication}')\n",
    "\n",
    "division = binary_operations('0101011', '1010', '/')\n",
    "print(f'This is the result of binary division of the values 1101 and 1010: {division[0]} and the remainder is {division[1]}')\n"
   ]
  }
 ],
 "metadata": {
  "kernelspec": {
   "display_name": "base",
   "language": "python",
   "name": "python3"
  },
  "language_info": {
   "codemirror_mode": {
    "name": "ipython",
    "version": 3
   },
   "file_extension": ".py",
   "mimetype": "text/x-python",
   "name": "python",
   "nbconvert_exporter": "python",
   "pygments_lexer": "ipython3",
   "version": "3.9.12"
  },
  "orig_nbformat": 4
 },
 "nbformat": 4,
 "nbformat_minor": 2
}
