{
 "cells": [
  {
   "attachments": {},
   "cell_type": "markdown",
   "metadata": {},
   "source": [
    "# MCQ2 Reflection\n",
    "> Reflecting on the mistakes made during the MCQ\n",
    "- title: MCQ2 Reflection\n",
    "- toc: true\n",
    "- badges: false\n",
    "- tags: [week20]\n",
    "- categories: [week20]"
   ]
  },
  {
   "attachments": {},
   "cell_type": "markdown",
   "metadata": {},
   "source": [
    "## Score\n",
    "- [MCQ Score](https://github.com/Tirth-Thakkar/APCSP-Blog/blob/master/images/MCQ2.png?raw=true)\n",
    "- I scored a 45/50 getting a 90% \n",
    "\n",
    "## Mistakes\n",
    "- I made a series of mistakes mostly which were made due to lack of concentration and focus and not reading the questions carefully. This was a result of the last minute and late nature of its completion and the length of the test becoming a hinderance to my success. A solution would be to better manage my time and to take breaks at appropriate times.\n",
    "    \n",
    "    ### Question 12\n",
    "    - Solved the problem incorrectly as my answer of A \"(onFloor1 AND callTo2) AND (onFloor2 AND callTo1)\" would have been impossible as both conditions cannot be true at once as the elevator is not in a state of superposition between the two floors. Thus making my answer incorrect and the correct answer being B \"(onFloor1 AND callTo2) OR (onFloor2 AND callTo1)\". This mistake was caused by not reading the solutions properly and this failing to notice this issue. \n",
    "\n",
    "    ### Question 15\n",
    "    - I again misread the problem and attempted to find a pattern in which the robot would move to the indicated square however the question was asking for the option which would not move the robot onto the indicated square. Thus making my answer of C incorrect and the answer clearly being D.\n",
    "\n",
    "    ### Question 17\n",
    "    - I didn't fully read the instructions on the problem and did not select all the correct solutions as asked in the problem and thus only selected A one of the two correct answers making my solution incorrect. The correct answers were A and D.\n",
    "    \n",
    "    ### Question 22\n",
    "    - I misunderstood that both algorithms were functional as in algorithm 1 which indicated that the weight of a student would be replaced I thought that this was before they were added thus my answer that only B was correct was incorrect. Again caused by lack of focus and attentiveness.\n",
    "\n",
    "    ### Question 49\n",
    "    - I selected the answer of of C \"Every problem can be solved with an algorithm for all possible inputs, but some of these algorithms have not been discovered yet.\" which was incorrect as there are problems which cannot be modeled given all the possible inputs to a situation and thus due to this scenario existing which I had not though possible. Thus the answer D is correct answer as \"There exist problems that no algorithm will ever be able to solve for all possible inputs.\" This was caused by a fault in my login by not understanding the limits of algorithms. \n",
    "\n"
   ]
  }
 ],
 "metadata": {
  "kernelspec": {
   "display_name": "Python 3",
   "language": "python",
   "name": "python3"
  },
  "language_info": {
   "name": "python",
   "version": "3.10.6 (main, Nov 14 2022, 16:10:14) [GCC 11.3.0]"
  },
  "orig_nbformat": 4,
  "vscode": {
   "interpreter": {
    "hash": "916dbcbb3f70747c44a77c7bcd40155683ae19c65e1c03b4aa3499c5328201f1"
   }
  }
 },
 "nbformat": 4,
 "nbformat_minor": 2
}
