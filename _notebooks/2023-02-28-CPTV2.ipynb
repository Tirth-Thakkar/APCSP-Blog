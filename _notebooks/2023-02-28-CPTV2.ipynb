{
 "cells": [
  {
   "attachments": {},
   "cell_type": "markdown",
   "metadata": {},
   "source": [
    "# CPT Draft 2\n",
    "> Second CPT Draft Assignment \n",
    "- title: CPT Draft 2\n",
    "- toc: true\n",
    "- branch: master\n",
    "- comments: true\n",
    "- tags: [week24]\n",
    "- categories: [week24]\n"
   ]
  },
  {
   "attachments": {},
   "cell_type": "markdown",
   "metadata": {},
   "source": [
    "# 3a\n",
    "## 3ai Program Purpose \n",
    "- The purpose of this program is to be able to create a system where user scores are ranked and displayed in a sorted manner based on the user's score. \n",
    "\n",
    "## 3aii \n",
    "- The video demonstrates the adding of a score to the scoreboard and then ordering the score to its corresponding location after creating the leader, only if the score is greater than 0. \n",
    "\n",
    "## 3aiii\n",
    "- The inputs and outputs of this program are the following:\n",
    "    - Inputs: \n",
    "        - The user's name\n",
    "        - The user's score\n",
    "    - Outputs:\n",
    "        - Success message indicating creation or telling the user score is 0\n",
    "        - The user's score's location being sorted on the scoreboard \n",
    "    - These metrics prevent the leaderboard from being cluttered with scores that are 0 and creates the corresponding score table for the games that have been played. \n",
    "\n",
    "# 3b \n",
    "## 3bi"
   ]
  },
  {
   "cell_type": "code",
   "execution_count": null,
   "metadata": {},
   "outputs": [],
   "source": [
    "leader1 = Leader(username='sreeja', score=5)\n",
    "leader2 = Leader(username='ekam', score=4)\n",
    "leader3 = Leader(username='tirth', score=3)\n",
    "leader4 = Leader(username='mani', score=2)\n",
    "leader5 = Leader(username='user', score=1)\n",
    "leaders = [leader1, leader2, leader3, leader4, leader5]"
   ]
  },
  {
   "attachments": {},
   "cell_type": "markdown",
   "metadata": {},
   "source": [
    "## 3bii"
   ]
  },
  {
   "cell_type": "code",
   "execution_count": null,
   "metadata": {},
   "outputs": [],
   "source": [
    "\"\"\"Builds sample user/note(s) data\"\"\"\n",
    "    for leader in leaders:\n",
    "        try:\n",
    "            leader.create()\n",
    "        except IntegrityError:\n",
    "            '''fails with bad or duplicate data'''\n",
    "            db.session.remove()\n",
    "            print(f\"Records exist, duplicate email, or error: {leader.username}\")"
   ]
  },
  {
   "attachments": {},
   "cell_type": "markdown",
   "metadata": {},
   "source": [
    "## 3biii\n",
    "- The name of the list is called leaders which stores 5 Leader objects. The code snippet above shows the use of a for loop to iterate through the list and follow through the create method in the Leader class which adds the Leader to the Leaderboard SQL table. Which contributes the greater functionality of the program this allows for the creation of a database with data which is then used later in the program through the use of SQL alchemy functions to be able to sort the data in the database and thus generate the filtered leaderboard and be accessed via a get request. Along with the user of other functions such as endpoints to be able to access all the scores of a selected Leader via post request specifying the desired Leader. "
   ]
  },
  {
   "attachments": {},
   "cell_type": "markdown",
   "metadata": {},
   "source": [
    "### 3biv\n",
    "- The data in the list leaders represent the scores that will be added to the leaderboard and then be sorted by their highest scores. \n",
    "\n",
    "### 3bv\n",
    "- If the list was not used it would make it so that there would for one not be data to sort and search for user scores as there would be no content in the database thus making it so that the inherent functionality of the program would not be able to be used. Along with the fact that if the list was not used the creation of Leader entries. "
   ]
  }
 ],
 "metadata": {
  "kernelspec": {
   "display_name": "Python 3",
   "language": "python",
   "name": "python3"
  },
  "language_info": {
   "name": "python",
   "version": "3.10.6"
  },
  "orig_nbformat": 4,
  "vscode": {
   "interpreter": {
    "hash": "916dbcbb3f70747c44a77c7bcd40155683ae19c65e1c03b4aa3499c5328201f1"
   }
  }
 },
 "nbformat": 4,
 "nbformat_minor": 2
}
