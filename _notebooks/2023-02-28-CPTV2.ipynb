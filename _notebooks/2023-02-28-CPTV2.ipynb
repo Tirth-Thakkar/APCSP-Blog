{
 "cells": [
  {
   "attachments": {},
   "cell_type": "markdown",
   "metadata": {},
   "source": [
    "# CPT Draft 2\n",
    "> Second CPT Draft Assignment \n",
    "- title: CPT Draft 2\n",
    "- toc: true\n",
    "- branch: master\n",
    "- comments: true\n",
    "- tags: [week24]\n",
    "- categories: [week24]\n"
   ]
  },
  {
   "attachments": {},
   "cell_type": "markdown",
   "metadata": {},
   "source": [
    "# 3a [CPT Video](https://youtu.be/BlZrp52YXsk)\n",
    "## 3ai Program Purpose \n",
    "- The purpose of this program is to be able to create a system where user scores are ranked and displayed in a sorted manner based on the user's score. \n",
    "\n",
    "## 3aii \n",
    "- The video demonstrates the adding of a score to the scoreboard and then ordering the score to its corresponding location after creating the leader, only if the score is greater than 0. \n",
    "\n",
    "## 3aiii\n",
    "- The inputs and outputs of this program are the following:\n",
    "    - Inputs: \n",
    "        - The user's name\n",
    "        - The user's score\n",
    "    - Outputs:\n",
    "        - Success message indicating creation or telling the user score is 0\n",
    "        - The user's score's location being sorted on the scoreboard \n",
    "    - These metrics prevent the leaderboard from being cluttered with scores that are 0 and creates the corresponding score table for the games that have been played. \n",
    "\n",
    "# 3b \n",
    "## 3bi"
   ]
  },
  {
   "cell_type": "code",
   "execution_count": null,
   "metadata": {},
   "outputs": [],
   "source": [
    "leader1 = Leader(username='sreeja', score=5)\n",
    "leader2 = Leader(username='ekam', score=4)\n",
    "leader3 = Leader(username='tirth', score=3)\n",
    "leader4 = Leader(username='mani', score=2)\n",
    "leader5 = Leader(username='user', score=1)\n",
    "leaders = [leader1, leader2, leader3, leader4, leader5]"
   ]
  },
  {
   "attachments": {},
   "cell_type": "markdown",
   "metadata": {},
   "source": [
    "## 3bii"
   ]
  },
  {
   "cell_type": "code",
   "execution_count": null,
   "metadata": {},
   "outputs": [],
   "source": [
    "\"\"\"Builds sample user/note(s) data\"\"\"\n",
    "    for leader in leaders:\n",
    "        try:\n",
    "            leader.create()\n",
    "        except IntegrityError:\n",
    "            '''fails with bad or duplicate data'''\n",
    "            db.session.remove()\n",
    "            print(f\"Records exist, duplicate email, or error: {leader.username}\")"
   ]
  },
  {
   "attachments": {},
   "cell_type": "markdown",
   "metadata": {},
   "source": [
    "## 3biii\n",
    "- The name of the list is called leaders which stores 5 Leader objects. The code snippet above shows the use of a for loop to iterate through the list and follow through the create method in the Leader class which adds the Leader to the Leaderboard SQL table. Which contributes the greater functionality of the program this allows for the creation of a database with data which is then used later in the program through the use of SQL alchemy functions to be able to sort the data in the database and thus generate the filtered leaderboard and be accessed via a get request. Along with the user of other functions such as endpoints to be able to access all the scores of a selected Leader via post request specifying the desired Leader.\n",
    "\n",
    "### 3biv\n",
    "- The data in the list leaders represent the scores that will be added to the leaderboard and then be sorted by their highest scores. \n",
    "\n",
    "### 3bv\n",
    "- If the list was not used it would make it so that there would for one not be data to sort and search for user scores as there would be no content in the database thus making it so that the inherent functionality of the program would not be able to be used. Along with the fact that if the list was not used the creation of Leader entries. \n"
   ]
  },
  {
   "attachments": {},
   "cell_type": "markdown",
   "metadata": {},
   "source": [
    "## 3c\n",
    "## 3ci"
   ]
  },
  {
   "cell_type": "code",
   "execution_count": null,
   "metadata": {},
   "outputs": [],
   "source": [
    "    class _Score(Resource):\n",
    "        def post(self):\n",
    "            ''' Read data for json body '''\n",
    "            body = request.get_json()\n",
    "            username = body.get('username')\n",
    "            score = body.get('score')\n",
    "            user = User.query.filter((User._username == username)).first\n",
    "            # this is checking for garbage data and stopping it \n",
    "            if username == 'null':\n",
    "                return {'message': f'error no login'}, 210\n",
    "            if user is False:\n",
    "                return {'message': f'error no user'}, 210\n",
    "            if int(score) is False or int(score) <= 0:\n",
    "                return {'message': f'error no score'}, 210\n",
    "        \n",
    "            ''' #1: Key code block, setup USER OBJECT '''\n",
    "            leader = Leader(username=username, score=score)\n",
    "            # create user in database\n",
    "            user = leader.create()\n",
    "            # success returns json of user\n",
    "            if user:\n",
    "                return jsonify(user.read())\n",
    "            # failure returns error\n",
    "            return {'message': f'Processed {username}, either a format error or score {score} is negative or zero'}, 210"
   ]
  },
  {
   "attachments": {},
   "cell_type": "markdown",
   "metadata": {},
   "source": [
    "## 3cii "
   ]
  },
  {
   "cell_type": "code",
   "execution_count": null,
   "metadata": {
    "vscode": {
     "languageId": "javascript"
    }
   },
   "outputs": [],
   "source": [
    "    // Get user ID from local storage\n",
    "    const userId = localStorage.getItem(\"userid\");\n",
    "\n",
    "    // Define the endpoint URL\n",
    "    const url = \"http://localhost:8086/api/leadersfiltered/score\";\n",
    "\n",
    "    // Define the request parameters as an object\n",
    "    const data = {\n",
    "      username: userId,\n",
    "      score: matchCounter\n",
    "    };\n",
    "\n",
    "    // Define the request options\n",
    "    const options = {\n",
    "      method: \"POST\",\n",
    "      headers: {\n",
    "        \"Content-Type\": \"application/json\"\n",
    "      },\n",
    "      body: JSON.stringify(data)\n",
    "    };\n",
    "\n",
    "    // Send the request with fetch()\n",
    "    fetch(url, options)\n",
    "      .then(response => {\n",
    "        if (!response.ok) {\n",
    "          throw new Error(\"Network response was not ok\");\n",
    "        }\n",
    "        return response.json();\n",
    "      })\n",
    "      .then(data => {\n",
    "        console.log(data);\n",
    "      })\n",
    "      .catch(error => {\n",
    "        console.error(\"There was a problem with the fetch operation:\", error);\n",
    "      });"
   ]
  },
  {
   "attachments": {},
   "cell_type": "markdown",
   "metadata": {},
   "source": [
    "## 3ciii\n",
    "- The procedure is for creating the Leader object through a post request in which the data that is received is the value from the post request that is for the username and score values. Where goes through selection statements that validate is teh user is a valid user and that if the users score is greater than 0. After which it creates a Leader object and then runs the create method which adds the Leader to the Leaderboard SQL table. Here the values are for the values of UserId and that of the matchCounter representing the user's score these are then used in the call of the function via its api endpoint.  "
   ]
  },
  {
   "attachments": {},
   "cell_type": "markdown",
   "metadata": {},
   "source": [
    "## 3civ \n",
    "The procedure begins by taking the values from the body of the post request such as the username and score that is sent then the function checks if the user is a valid user and if the score meets the minimum threshold via the selection statements. After which the function creates a Leader object and then runs the create method which adds the Leader to the Leaderboard SQL table."
   ]
  },
  {
   "attachments": {},
   "cell_type": "markdown",
   "metadata": {},
   "source": [
    "# 3d\n",
    "## 3di\n",
    "Call #1:\n",
    "![Call 1](https://github.com/Tirth-Thakkar/APCSP-Blog/blob/master/images/Call1.png?raw=true)\n",
    "\n",
    "Call #2:\n",
    "![Call 2](https://github.com/Tirth-Thakkar/APCSP-Blog/blob/master/images/Call2.png?raw=true)"
   ]
  },
  {
   "attachments": {},
   "cell_type": "markdown",
   "metadata": {},
   "source": [
    "## 3dii\n",
    "What is being tested by the first call is the ability to validate if a user has a score and if not it is not possible for them to be able to send a score through the post endpoint as the users score is not allowed pass due to the selection statement giving an error 210 in the function. What is being tested in the second call is the ability to send a score if the user has a valid score and then showing the score being added to the table and then it is sorted and ranked by the highest score (this portion is a result of a another but related procedure)."
   ]
  },
  {
   "attachments": {},
   "cell_type": "markdown",
   "metadata": {},
   "source": [
    "## 3diii\n",
    "Output #1:\n",
    "![Output 1](https://github.com/Tirth-Thakkar/APCSP-Blog/blob/master/images/Output1.png?raw=true)\n",
    "Output #2:\n",
    "![Output 2](https://github.com/Tirth-Thakkar/APCSP-Blog/blob/master/images/Output2.png?raw=true)"
   ]
  }
 ],
 "metadata": {
  "kernelspec": {
   "display_name": "Python 3",
   "language": "python",
   "name": "python3"
  },
  "language_info": {
   "name": "python",
   "version": "3.10.6"
  },
  "orig_nbformat": 4,
  "vscode": {
   "interpreter": {
    "hash": "916dbcbb3f70747c44a77c7bcd40155683ae19c65e1c03b4aa3499c5328201f1"
   }
  }
 },
 "nbformat": 4,
 "nbformat_minor": 2
}
