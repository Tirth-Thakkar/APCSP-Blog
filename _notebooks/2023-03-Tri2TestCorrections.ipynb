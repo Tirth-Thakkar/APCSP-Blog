{
 "cells": [
  {
   "attachments": {},
   "cell_type": "markdown",
   "metadata": {},
   "source": [
    "# Tri 2 Final Test Corrections\n",
    "> Corrections to the mistakes that I made on the final \n",
    "- title: Tri 2 Test Corrections\n",
    "- toc: true\n",
    "- badges: false\n",
    "- tags: [week25]\n",
    "- categories: [week25]"
   ]
  },
  {
   "attachments": {},
   "cell_type": "markdown",
   "metadata": {},
   "source": [
    "## Incorrect Answer 1\n",
    "- ![Incorrect Answer1](https://github.com/Tirth-Thakkar/APCSP-Blog/blob/master/images/IncorrectAnswer1.png?raw=true)\n",
    "- I had gotten the incorrect answer that the program functioned correctly as not realizing that the program as it was initialized by the first value in the list would add up that element twice thus getting a wrong sum this was due to me not not realizing the program only worked as it began with zero and not an alternate value. This was due to not properly considering the problem and not thinking enough about the for loop. \n",
    "\n",
    "## Incorrect Answer 2\n",
    "- ![Code Crunch](https://github.com/Tirth-Thakkar/APCSP-Blog/blob/master/images/CodeCrunch.png?raw=true)"
   ]
  }
 ],
 "metadata": {
  "language_info": {
   "name": "python"
  },
  "orig_nbformat": 4
 },
 "nbformat": 4,
 "nbformat_minor": 2
}
