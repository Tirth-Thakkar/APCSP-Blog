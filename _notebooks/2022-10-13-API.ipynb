{
 "cells": [
  {
   "cell_type": "markdown",
   "metadata": {},
   "source": [
    "# API\n",
    "> Using API towards Final Project\n",
    "- title: API\n",
    "- toc: true\n",
    "- comments: true\n",
    "- permalink: /API\n",
    "- image: images/API.jpg\n",
    "- categories: [Week 7, API]"
   ]
  },
  {
   "cell_type": "markdown",
   "metadata": {},
   "source": [
    "<html>\n",
    "    <table>\n",
    "        <tbody>\n",
    "    <tr>\n",
    "        <td>\n",
    "        <a href=\"{{site.baseurl}}/submenu\">Go Back</a>\n",
    "        </td>\n",
    "        <td>\n",
    "        <a href=\"{{site.baseurl}}/code-corrections\">Code Corrections</a>\n",
    "        </td>\n",
    "        <td>\n",
    "        <a href=\"{{site.baseurl}}/API\">API Usage</a>\n",
    "        </td>\n",
    "    </tr>\n",
    "        </tbody>\n",
    "    </table>\n",
    "</html>"
   ]
  },
  {
   "cell_type": "markdown",
   "metadata": {},
   "source": [
    "## API Usage\n",
    "Through using the currency conversion API I can implement an ability for travelers to have a useful utility which is a big market for our game which will allow them to gain added functionality from our program. It may also server as an aid to the upcoming microtransaction and paid DLC we may wish to add to expand the project profitablity such as the possiblity of Minesweeper skins and a Minesweeper Battle Pass. However, this may not be implemented."
   ]
  },
  {
   "cell_type": "code",
   "execution_count": 2,
   "metadata": {},
   "outputs": [
    {
     "name": "stdout",
     "output_type": "stream",
     "text": [
      "{\"result\":\"success\",\"provider\":\"https://www.exchangerate-api.com\",\"documentation\":\"https://www.exchangerate-api.com/docs/free\",\"terms_of_use\":\"https://www.exchangerate-api.com/terms\",\"time_last_update_unix\":1665619351,\"time_last_update_utc\":\"Thu, 13 Oct 2022 00:02:31 +0000\",\"time_next_update_unix\":1665706301,\"time_next_update_utc\":\"Fri, 14 Oct 2022 00:11:41 +0000\",\"time_eol_unix\":0,\"base_code\":\"USD\",\"rates\":{\"USD\":1,\"AED\":3.6725,\"AFN\":85.988912,\"ALL\":120.058634,\"AMD\":403.107789,\"ANG\":1.79,\"AOA\":440.197733,\"ARS\":150.489451,\"AUD\":1.594569,\"AWG\":1.79,\"AZN\":1.697347,\"BAM\":2.016097,\"BBD\":2,\"BDT\":100.989353,\"BGN\":2.015961,\"BHD\":0.376,\"BIF\":2052.598939,\"BMD\":1,\"BND\":1.435897,\"BOB\":6.933153,\"BRL\":5.295171,\"BSD\":1,\"BTN\":82.153286,\"BWP\":13.473801,\"BYN\":2.96985,\"BZD\":2,\"CAD\":1.380175,\"CDF\":2044.903813,\"CHF\":0.997287,\"CLP\":927.579778,\"CNY\":7.167708,\"COP\":4604.069073,\"CRC\":629.971394,\"CUP\":24,\"CVE\":113.662694,\"CZK\":25.34595,\"DJF\":177.721,\"DKK\":7.690263,\"DOP\":53.656444,\"DZD\":140.592874,\"EGP\":19.659645,\"ERN\":15,\"ETB\":52.861447,\"EUR\":1.030819,\"FJD\":2.320164,\"FKP\":0.902492,\"FOK\":7.690263,\"GBP\":0.902498,\"GEL\":2.78066,\"GGP\":0.902492,\"GHS\":10.894116,\"GIP\":0.902492,\"GMD\":57.931071,\"GNF\":8624.625766,\"GTQ\":7.874647,\"GYD\":208.974653,\"HKD\":7.852897,\"HNL\":24.682595,\"HRK\":7.766667,\"HTG\":123.776187,\"HUF\":444.407767,\"IDR\":15301.349145,\"ILS\":3.575309,\"IMP\":0.902492,\"INR\":82.154667,\"IQD\":1457.576859,\"IRR\":42004.32988,\"ISK\":144.726377,\"JEP\":0.902492,\"JMD\":152.864278,\"JOD\":0.709,\"JPY\":146.624825,\"KES\":121.217761,\"KGS\":82.126786,\"KHR\":4123.582427,\"KID\":1.594565,\"KMF\":507.127191,\"KRW\":1425.625309,\"KWD\":0.29963,\"KYD\":0.833333,\"KZT\":478.066864,\"LAK\":16836.123653,\"LBP\":1507.5,\"LKR\":360.983813,\"LRD\":153.639615,\"LSL\":18.262263,\"LYD\":5.035453,\"MAD\":11.014855,\"MDL\":19.423608,\"MGA\":4224.776029,\"MKD\":63.401293,\"MMK\":2427.744572,\"MNT\":3322.460624,\"MOP\":8.088464,\"MRU\":37.859426,\"MUR\":43.645361,\"MVR\":15.416106,\"MWK\":1029.34203,\"MXN\":20.014913,\"MYR\":4.66801,\"MZN\":64.230714,\"NAD\":18.262263,\"NGN\":434.043554,\"NIO\":35.949001,\"NOK\":10.763445,\"NPR\":131.445258,\"NZD\":1.78519,\"OMR\":0.384497,\"PAB\":1,\"PEN\":3.97664,\"PGK\":3.519378,\"PHP\":58.871982,\"PKR\":217.296861,\"PLN\":4.989568,\"PYG\":7114.571496,\"QAR\":3.64,\"RON\":5.088638,\"RSD\":120.830365,\"RUB\":63.883235,\"RWF\":1070.436103,\"SAR\":3.75,\"SBD\":8.071319,\"SCR\":13.296746,\"SDG\":566.446626,\"SEK\":11.340528,\"SGD\":1.435905,\"SHP\":0.902492,\"SLE\":16.927655,\"SLL\":16927.65531,\"SOS\":567.848342,\"SRD\":28.340853,\"SSP\":619.602752,\"STN\":25.25494,\"SYP\":2501.187332,\"SZL\":18.262263,\"THB\":37.985137,\"TJS\":10.232623,\"TMT\":3.49717,\"TND\":3.112674,\"TOP\":2.437326,\"TRY\":18.568816,\"TTD\":6.764787,\"TVD\":1.594565,\"TWD\":31.759167,\"TZS\":2326.298373,\"UAH\":37.95754,\"UGX\":3833.56489,\"UYU\":41.056318,\"UZS\":11120.341341,\"VES\":8.2681,\"VND\":23928.509049,\"VUV\":121.950741,\"WST\":2.808059,\"XAF\":676.169587,\"XCD\":2.7,\"XDR\":0.784263,\"XOF\":676.169587,\"XPF\":123.009083,\"YER\":249.984599,\"ZAR\":18.262363,\"ZMW\":15.871555,\"ZWL\":625.954806}}\n"
     ]
    }
   ],
   "source": [
    "import requests\n",
    "\n",
    "url = \"https://exchangerate-api.p.rapidapi.com/rapid/latest/USD\"\n",
    "\n",
    "headers = {\n",
    "\t\"X-RapidAPI-Key\": \"ec6edae9b8msh021a4b906297b9bp13ff74jsn1b271e386f87\",\n",
    "\t\"X-RapidAPI-Host\": \"exchangerate-api.p.rapidapi.com\"\n",
    "}\n",
    "\n",
    "response = requests.request(\"GET\", url, headers=headers)\n",
    "\n",
    "print(response.text)"
   ]
  }
 ],
 "metadata": {
  "kernelspec": {
   "display_name": "Python 3.9.12 ('base')",
   "language": "python",
   "name": "python3"
  },
  "language_info": {
   "codemirror_mode": {
    "name": "ipython",
    "version": 3
   },
   "file_extension": ".py",
   "mimetype": "text/x-python",
   "name": "python",
   "nbconvert_exporter": "python",
   "pygments_lexer": "ipython3",
   "version": "3.9.12"
  },
  "orig_nbformat": 4,
  "vscode": {
   "interpreter": {
    "hash": "c01fa961529e9daabe8f923baaa66cec9a05e87366ddea10e0ca4d35fb3358df"
   }
  }
 },
 "nbformat": 4,
 "nbformat_minor": 2
}
