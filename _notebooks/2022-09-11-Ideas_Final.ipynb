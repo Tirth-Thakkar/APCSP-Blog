{
 "cells": [
  {
   "attachments": {},
   "cell_type": "markdown",
   "metadata": {},
   "source": [
    "# Ideas for Final Assignment\n",
    "> Ideas\n",
    "- title: Ideas for Final Project  \n",
    "- toc: true\n",
    "- comments: true\n",
    "- image: images/Ideas.png\n",
    "- tags: [Week3, App-Lab, Quiz, Python]"
   ]
  },
  {
   "cell_type": "markdown",
   "metadata": {},
   "source": [
    "### Ideas\n",
    "- Make a page that creates a quiz based on all the content we have learned for the trimester.\n",
    "- Make a quiz that also shows incorrect answers that functions in the same way as the current implementation in a way that is not affected by prior runs. \n",
    "- Add images that are interactive and can be manipulated for easter eggs or questions. \n",
    "- Add a system that shows a live score for incorrect and correct questions answered as they progress along the quiz. \n",
    "- Create a page that show cases images an text in a visually appealing format. "
   ]
  },
  {
   "cell_type": "markdown",
   "metadata": {},
   "source": [
    "### Purpose And Function\n",
    "- To be able to showcase the understanding of the content learned in APCSP and to allow others to practice the same. And to be able to do so in a manner that is interactive and appealing to use as a study tool. "
   ]
  },
  {
   "cell_type": "markdown",
   "metadata": {},
   "source": [
    "### Data Abstraction\n",
    "- Through creating a variable that measures the incorrect attempts and one that measures the correct events that are integers to be able to store the score the player gets and change based on answers given. "
   ]
  },
  {
   "cell_type": "markdown",
   "metadata": {},
   "source": [
    "### Managing Complexity\n",
    "- To prevent the quiz from becoming too complicated I would reduce the amount of functions it would perform as in not becoming too sidetracked on adding flash cards. Or adding extra features that would be useless to accomplishing the final task or distracting. "
   ]
  },
  {
   "cell_type": "markdown",
   "metadata": {},
   "source": [
    "### Procedural Abstraction \n",
    "- The code would make use of function to be able to run quizzes allowing operation such as starting to be done only once saving repeatedly used code. \n",
    "- Creating functions that would remove repeated events such as switching pages or other similar functions. "
   ]
  },
  {
   "cell_type": "markdown",
   "metadata": {},
   "source": [
    "### Algorithm Implementation  \n",
    "- Would use an algorithm for printing scores of correct and incorrect answers or pages visited through concatenation of strings from the data stored in the variables. "
   ]
  },
  {
   "cell_type": "markdown",
   "metadata": {},
   "source": [
    "### Testing \n",
    "- Would run through the quiz will recording myself to showcase fixing issues that may develop from scoring to formatting, and being able to loop with in a way that the scores don't stack.  "
   ]
  }
 ],
 "metadata": {
  "kernelspec": {
   "display_name": "Python 3.10.4 64-bit",
   "language": "python",
   "name": "python3"
  },
  "language_info": {
   "name": "python",
   "version": "3.10.6 (main, Nov  2 2022, 18:53:38) [GCC 11.3.0]"
  },
  "orig_nbformat": 4,
  "vscode": {
   "interpreter": {
    "hash": "916dbcbb3f70747c44a77c7bcd40155683ae19c65e1c03b4aa3499c5328201f1"
   }
  }
 },
 "nbformat": 4,
 "nbformat_minor": 2
}
