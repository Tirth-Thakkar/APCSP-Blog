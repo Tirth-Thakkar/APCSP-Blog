{
 "cells": [
  {
   "attachments": {},
   "cell_type": "markdown",
   "metadata": {},
   "source": [
    "# CPT & Frontend Contribtions\n",
    "> Completion of grading the example College Board Create Performance Task (CPT) examples and the frontend contributions to the group reunion project.\n",
    "- title: CPT & Frontend Contribtions\n",
    "- toc: true\n",
    "- categories: [week18]\n",
    "- tags: [week18]"
   ]
  },
  {
   "attachments": {},
   "cell_type": "markdown",
   "metadata": {},
   "source": [
    "# Personal Updates & Contributions\n",
    "\n",
    "Added a login in system that validates user accounts and allows for successfull logins with valid accounts. Added a system that allows the page to dynamically toggle what it displays depending apon the logged in status of the user if not logged the user is only able to toggle between the login and registration pages. Added the needed Javascript for the registation page to be able to function however there is no clear way to test until the final api is written. Added log out functionality allowing the user to reset the logged in status and be sent back to the login page also layed down a framework where the users username can be cached and be able to be used in conjucntion with the game and used to send API data back to the backend when that is prepared. \n",
    "\n",
    "## Login Failed\n",
    "![Login Failed](https://github.com/Tirth-Thakkar/APCSP-Blog/blob/master/images/Login-Failed.png?raw=true)\n",
    "\n",
    "## Login Success\n",
    "![Login Success](https://github.com/Tirth-Thakkar/APCSP-Blog/blob/master/images/Success-Login-Closed.png?raw=true)\n",
    "\n",
    "![Login Success](https://github.com/Tirth-Thakkar/APCSP-Blog/blob/master/images/Success-Login-Open.png?raw=true)\n",
    "\n",
    "## User Id Saved When Not Logged In\n",
    "![User Id Saved When Not Logged In](https://github.com/Tirth-Thakkar/APCSP-Blog/blob/master/images/User-ID-Saved-Not-Logged-In.png?raw=true)\n",
    "\n",
    "## User Id Saved When Logged In\n",
    "![User Id Saved When Logged In](https://github.com/Tirth-Thakkar/APCSP-Blog/blob/master/images/User-ID-Saved-Logged-In.png?raw=true)\n",
    "\n",
    "## Log Out Video\n",
    "[Log Out](https://youtu.be/oNe-jfc6wps)"
   ]
  }
 ],
 "metadata": {
  "kernelspec": {
   "display_name": "Python 3",
   "language": "python",
   "name": "python3"
  },
  "language_info": {
   "name": "python",
   "version": "3.10.6 (main, Nov 14 2022, 16:10:14) [GCC 11.3.0]"
  },
  "orig_nbformat": 4,
  "vscode": {
   "interpreter": {
    "hash": "916dbcbb3f70747c44a77c7bcd40155683ae19c65e1c03b4aa3499c5328201f1"
   }
  }
 },
 "nbformat": 4,
 "nbformat_minor": 2
}
