{
 "cells": [
  {
   "attachments": {},
   "cell_type": "markdown",
   "metadata": {},
   "source": [
    "# Unit 3 Sections 12 and 13 lesson\n",
    "> Developing and Writing Procedures Lesson\n",
    "\n",
    "- title: Unit 3 Sections 12-13\n",
    "- toc: true\n",
    "- badges: false\n",
    "- tags: [chapter3, week15]"
   ]
  },
  {
   "attachments": {},
   "cell_type": "markdown",
   "metadata": {},
   "source": [
    "## Calling Procedures\n",
    "\n",
    "Slide 1:\n",
    "- A <mark>procedure</mark> is a named group of programming instructions that may have parameters and return values.\n",
    "- Procedures are referred to by different names, such as <mark>method</mark> or <mark>function</mark>, depending on the programing language.\n",
    "- Parameters are input values of a procedure. <mark>Arugments</mark> specify the values of the parameters when procedure is called.\n",
    "- A procedure call interrupts the <mark>sequential</mark> execution of statements causing the program to execute the statements within the procedure before continuing. One the last statement in the procedure (or a return statement) has executed, flow or control is returned to the point immediately following where the procedure was <mark>called</mark>.\n",
    "\n",
    "Slide 2:\n",
    "- When calling procedures, it's important to take notice to whether it returns data, or a block of <mark>statements</mark>.\n",
    "- If the procedure just returns a block of statements, you call the procedure by referring to the procedure name, and inputting the <mark>arguments</mark>.\n",
    "- If the procedure returns some sort of data like a <mark>boolean</mark> or <mark>value</mark>, then you will assign that value to a variable\n",
    "\n",
    "Slide 3:\n",
    "\n",
    "- Assume the Temperature outside is Fahrenheit. \n",
    "- The procedure <mark>convertFahrenheit</mark> is intended to convert from Fahrenheit to Celsius.\n",
    "- Convert the following psuedocode to python\n",
    "\n"
   ]
  },
  {
   "cell_type": "code",
   "execution_count": 6,
   "metadata": {},
   "outputs": [
    {
     "data": {
      "text/plain": [
       "0.5555555555555556"
      ]
     },
     "execution_count": 6,
     "metadata": {},
     "output_type": "execute_result"
    }
   ],
   "source": [
    "def convertFahrenheit(temperature):\n",
    "    celsius = temperature - 32\n",
    "    celsius = celsius * 5/9\n",
    "    return celsius\n",
    "\n",
    "outsideTemp = input(\"Enter temperature in celsius\")\n",
    "outsideTemp = int(outsideTemp)\n",
    "convertFahrenheit(outsideTemp)"
   ]
  },
  {
   "attachments": {},
   "cell_type": "markdown",
   "metadata": {},
   "source": [
    "## Developing Procedures\n",
    "\n",
    "Slide 8: \n",
    "\n",
    "Picking a <mark>decriptive</mark> name is important in case you revisit the code later on (separate words with capitals)\n",
    "There are 2 different types of procedures- ones that return a value and those that simply execute a block of statements\n",
    "Steps of developing procedure: picking a useful name, thinking of parameters (what data does the procedure need to know), making a flowchart or writing procedure in pseudocode, and actually developing the procedure.\n",
    "\n",
    "Slide 9: \n",
    "\n",
    "In this example, a teacher is writing a program that will replace the grade on a previous quiz if the new grade is better than the previous.\n",
    "\n",
    "- What would be a good name for this procedure?\n",
    "- What parameters do we need for this procedure?\n",
    "- Try writing this procedure out in python based on the given pseudocode\n",
    "\n"
   ]
  },
  {
   "cell_type": "markdown",
   "metadata": {},
   "source": [
    "# procedure goes here\n",
    "\n",
    "currentGrade <- currentPoints / 40\n",
    "currentGrade <- current Grade * 100\n",
    "if currentGrade > quizGrade\n",
    "    quizGrade <- currentGrade"
   ]
  },
  {
   "cell_type": "code",
   "execution_count": 9,
   "metadata": {},
   "outputs": [
    {
     "name": "stdout",
     "output_type": "stream",
     "text": [
      "5.0% was the score this student recieved on this quiz they scored 2 out of 40 points.\n"
     ]
    }
   ],
   "source": [
    "def quiz_grader():\n",
    "    currentPoints = int(input(\"Amount of points scored:\"))\n",
    "    totalPoints = int((input(\"Amount of  points possble\")))\n",
    "    grade = currentPoints/totalPoints * 100\n",
    "    print(str(grade)+\"% was the score this student recieved on this quiz they scored \" + str(currentPoints) + \" out of \" + str(totalPoints) + \" points.\") \n",
    "quiz_grader()"
   ]
  },
  {
   "attachments": {},
   "cell_type": "markdown",
   "metadata": {},
   "source": [
    "## Procedural Abstraction\n",
    "\n",
    "- One type of abstraction is <mark>procedural</mark> abstraction which provides a name for a process and allows a procedure to be used only knowing what it does and not how it does it\n",
    "- This is very helpful in managing <mark>complexity</mark> in a program\n",
    "- Subdivision of a program into separate subprograms is called <mark>modularity</mark>\n",
    "- A procedural abstraction may <mark>extract</mark> shared features to generalize functionality instead of duplicating code. This allows for program reuse, which helps manage complexity\n",
    "- When a pre-written procedure is called, you don’t necessarily need to know the details of this, just what it does and how to call it\n",
    "- Simply, procedural abstraction is naming and calling a prewritten procedure\n",
    "- Making sure to include the right arguments so the procedure can do what its supposed to do is crucial"
   ]
  },
  {
   "cell_type": "markdown",
   "metadata": {},
   "source": [
    "## Complexity Example\n",
    "\n",
    "One of the biggest advantages of procedural abstraction is managing complexity.\n",
    "\n",
    "Think about the process of simplifying the code?\n",
    "What do you think the advantage of the code segment on the left is?\n",
    "\n",
    "|Code Segment 1|Code Segment 2|\n",
    "|--------------|--------------|\n",
    "|ROTATE_LEFT()|detourLeft()|\n",
    "MOVE_FORWARD()|turnCorner()| \n",
    "ROTATE_RIGHT  |MOVE_FORWARD()| \n",
    "MOVE_FORWARD()|MOVE_FORWARD()|\n",
    "MOVE_FORWARD()\n",
    "ROTATE_RIGHT()\n",
    "MOVE_FORWARD()\n",
    "ROTATE_LEFT()\n",
    "MOVE_FORWARD()\n",
    "ROTATE_LEFT()\n",
    "MOVE_FORWARD()\n",
    "MOVE_FORWARD\n",
    "MOVE_FORWARD()"
   ]
  },
  {
   "attachments": {},
   "cell_type": "markdown",
   "metadata": {},
   "source": [
    "## Hacks\n",
    "\n",
    "- Write a python procedure about something which can help you in school, for example the teacher’s function we spoke about earlier.\n",
    "- Points will be awarded based on creativity and functionality\n",
    "- 0.1 points will be deducted for late submissions\n",
    "- Submit the notes with all blanks filled in (scored out of 0.5 points) and the python procedure (scored out of 0.5 points) by Monday 12/12 at 11:59 PM.\n"
   ]
  },
  {
   "cell_type": "code",
   "execution_count": 24,
   "metadata": {},
   "outputs": [
    {
     "name": "stdout",
     "output_type": "stream",
     "text": [
      "You have 1 minute/s to work on this assignment.\n",
      "Time is up! Take a break!\n",
      "Invalid response. Please enter 'yes' or 'no'.\n",
      "You have 2 minute/s to work on this assignment.\n",
      "Time is up! Take a break!\n",
      "You have 69420 minute/s to work on this assignment.\n",
      "Timer cancelled.\n",
      "Goodbye!\n"
     ]
    }
   ],
   "source": [
    "import time\n",
    "\n",
    "def AssignmentTimer(x):\n",
    "    print(\"You have \" + str(x) + \" minute/s to work on this assignment.\")\n",
    "    try:\n",
    "        time.sleep(x*60)\n",
    "    except KeyboardInterrupt:\n",
    "        # allows the user to cancel the timer\n",
    "        print(\"Timer cancelled.\")\n",
    "    else:\n",
    "        print(\"Time is up! Take a break!\")\n",
    "\n",
    "while True:\n",
    "    minutes = int(input(\"Enter the number of minutes you would like to work on your assignment: \"))\n",
    "    AssignmentTimer(minutes)\n",
    "\n",
    "    # Allows typos in the user's response if they want another timer\n",
    "    while True:\n",
    "        response = input(\"Do you want to start another timer? (yes/no)\")\n",
    "        if response.lower().strip() == \"no\":\n",
    "            print(\"Goodbye!\")\n",
    "            break\n",
    "        elif response.lower().strip() == \"yes\":\n",
    "            break\n",
    "        else:\n",
    "            print(\"Invalid response. Please enter 'yes' or 'no'.\")\n",
    "\n",
    "    # Stops the loop if the user doesn't want another timer\n",
    "    if response.lower().strip() == \"no\":\n",
    "        break\n",
    "\n",
    "    # Demonstration of an algorithm that has a use case that could be useful for school in a way\n",
    "    # that allows the user to input the number of minutes they want to work on their assignment\n",
    "    # and then the program will start a timer for that amount of time and then the user can\n",
    "    # cancel the timer if they want to stop working on their assignment or the timer will\n",
    "    # automatically end after the amount of time the user inputted and if they don't want another timer.\n",
    "    # Allows the user to manage thier time better and be more productive throug taking regular breaks\n",
    "    # and manage the amount of time certain assignments take to complete.\n"
   ]
  }
 ],
 "metadata": {
  "kernelspec": {
   "display_name": "Python 3.8.10 64-bit",
   "language": "python",
   "name": "python3"
  },
  "language_info": {
   "codemirror_mode": {
    "name": "ipython",
    "version": 3
   },
   "file_extension": ".py",
   "mimetype": "text/x-python",
   "name": "python",
   "nbconvert_exporter": "python",
   "pygments_lexer": "ipython3",
   "version": "3.10.6 (main, Nov  2 2022, 18:53:38) [GCC 11.3.0]"
  },
  "orig_nbformat": 4,
  "vscode": {
   "interpreter": {
    "hash": "31f2aee4e71d21fbe5cf8b01ff0e069b9275f58929596ceb00d14d90e3e16cd6"
   }
  }
 },
 "nbformat": 4,
 "nbformat_minor": 2
}
