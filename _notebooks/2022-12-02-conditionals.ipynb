{
 "cells": [
  {
   "cell_type": "markdown",
   "metadata": {},
   "source": [
    "# Unit 3 Sections 5-7\n",
    "> Welcome to the World of Booleans and Conditionals!\n",
    "- title: Teaching Plan - Booleans and Conditionals\n",
    "- toc: true\n",
    "- comments: true\n",
    "- categories: [homework]\n",
    "- tags: [Unit3]"
   ]
  },
  {
   "cell_type": "markdown",
   "metadata": {},
   "source": [
    "# Lesson Overview: 3.5 - Boolean Expressions\n",
    "- Here we will focus on:\n",
    "    - basics of Booleans\n",
    "    - its relationship with binary\n",
    "    - relational operators\n",
    "    - Logical Operators\n",
    "\n",
    "## What is a boolean?\n",
    "- A data type with two possible values: true or false\n",
    "\n",
    "## Boolean and Binary\n",
    "So similar yet so different.\n",
    "- Boolean math and binary notation both use the same two ciphers: 1 and 0.\n",
    "- However, please note that Boolean quantities are restricted to a singlular bit (can only be either 1, or 0)\n",
    "- On the otherhand, binary numbers may be composed of many bits adding up in place-weighted form to any finite value, or size\n",
    "\n",
    "## Must Knows\n",
    "- A Boolean value is either TRUE or FALSE\n",
    "- The AP Exam will provide you with a reference sheet with the operators below.\n",
    "\n",
    "\n",
    "\n",
    "- A few ways these operators could be used...\n",
    "\n"
   ]
  },
  {
   "cell_type": "markdown",
   "metadata": {},
   "source": [
    "## Relational Operators in action\n",
    "- How could you use operators to determine if the average of 5 grades is greater than 80?"
   ]
  },
  {
   "cell_type": "markdown",
   "metadata": {},
   "source": [
    "\n",
    "- With the grades below, use a boolean expression to determine if the average grade is above an 80 and print the result (True or False)\n",
    "- Try it in as few steps as possible!\n",
    "- Be creative! There are obviously TONS of different practical solutions"
   ]
  },
  {
   "cell_type": "code",
   "execution_count": 2,
   "metadata": {},
   "outputs": [
    {
     "name": "stdout",
     "output_type": "stream",
     "text": [
      "false\n"
     ]
    }
   ],
   "source": [
    "grade1 = 90\n",
    "grade2 = 65\n",
    "grade3 = 60\n",
    "grade4 = 75\n",
    "grade5 = 95\n",
    "\n",
    "grades = grade1 + grade2 + grade3 + grade4 + grade5 \n",
    "\n",
    "average = grades % 5\n",
    "\n",
    "average > 80\n",
    "\n",
    "if average == 0:\n",
    "    print(\"false\")   \n",
    "else: \n",
    "    print(\"true\") "
   ]
  },
  {
   "cell_type": "markdown",
   "metadata": {},
   "source": [
    "## The versatility of relational operators:"
   ]
  },
  {
   "cell_type": "code",
   "execution_count": 24,
   "metadata": {},
   "outputs": [
    {
     "name": "stdout",
     "output_type": "stream",
     "text": [
      "100 == 100: True\n",
      "Hello == Adios: False\n",
      "Hello != Adios: True\n",
      "Hello == Hola: True\n",
      "5>=4: True\n",
      "\n",
      "['a','b','c'] > ['x','y','z']: False\n",
      "[1,2,3,5] > [1,2,3,4]: True\n",
      "[1,2,3,5] < [1,2,3,4]: False\n",
      "[1,2,3,5] == [1,2,3,4]: False\n"
     ]
    }
   ],
   "source": [
    "print(\"100 == 100:\",100==100)\n",
    "print(\"Hello == Adios:\",\"greeting\"==\"farewell\")\n",
    "print(\"Hello != Adios:\",\"greeting\"!=\"farewell\")\n",
    "print(\"Hello == Hola:\",\"greeting\"==\"greeting\")\n",
    "print(\"5>=4:\", 5>=4)\n",
    "print ('')\n",
    "\n",
    "# Notice that relational operators can even work on lists!\n",
    "# For lists, the relational operator compares each respective component until an answer is derived\n",
    "\n",
    "print(\"['a','b','c'] > ['x','y','z']:\", ['a','b','c'] > ['x','y','z'])\n",
    "print(\"[1,2,3,5] > [1,2,3,4]:\", [1,2,3,5] > [1,2,3,4])\n",
    "print(\"[1,2,3,5] < [1,2,3,4]:\", [1,2,3,5] < [1,2,3,4])\n",
    "print(\"[1,2,3,5] == [1,2,3,4]:\", [1,2,3,5] == [1,2,3,4])\n",
    "\n"
   ]
  },
  {
   "cell_type": "markdown",
   "metadata": {},
   "source": [
    "## Logical Operators!\n",
    "These types of operators don't necessarily deal with equivalent/non-equivalent values, but they rather work on operands to produce a singular boolean result\n",
    "- AND : returns TRUE if the operands around it are TRUE\n",
    "- OR : returns TRUE if at least one operand is TRUE\n",
    "- NOT : returns TRUE if the following boolean is FALSE"
   ]
  },
  {
   "cell_type": "markdown",
   "metadata": {},
   "source": [
    "#### Turn the following arithmetic phrases into either True or False statements as indicated USING LOGICAL OPERATORS"
   ]
  },
  {
   "cell_type": "code",
   "execution_count": 3,
   "metadata": {},
   "outputs": [
    {
     "name": "stdout",
     "output_type": "stream",
     "text": [
      "1 > 2 or 5 < 12: True\n",
      "24 > 8: False\n",
      "10 > 20: False\n"
     ]
    }
   ],
   "source": [
    "# Output TRUE  using OR\n",
    "print(\"1 > 2 or 5 < 12:\", 1 > 2 or 5 < 12)\n",
    "# Output TRUE  using OR ^\n",
    "\n",
    "\n",
    "# Output FALSE using NOT\n",
    "print(\"24 > 8:\", not 24 > 8)\n",
    "\n",
    "# Output FALSE using AND\n",
    "print(\"10 > 20:\", 10 > 20 and False)"
   ]
  },
  {
   "cell_type": "markdown",
   "metadata": {},
   "source": [
    "# Lesson Overview: 3.6 - Conditionals"
   ]
  },
  {
   "cell_type": "markdown",
   "metadata": {},
   "source": [
    "## Focusing on Selection\n",
    "**Selection**: uses a condition that evaluates to <i>true</i> or <i>false</i>\n",
    "\n",
    "Selection determines which part of an algorithm are executed based on a condition being true or false\n",
    "\n",
    "**Algorithm** is a finite set of instructions that accomplish a specific task\n"
   ]
  },
  {
   "cell_type": "markdown",
   "metadata": {},
   "source": [
    "## Conditional Statements\n",
    "Also known as \"if statements\"\n",
    "\n",
    "Can be seen as if statements or if blocks\n",
    "\n",
    "\n",
    "\n",
    "Can also be seen as if else statements or if else-blocks\n"
   ]
  },
  {
   "cell_type": "code",
   "execution_count": 35,
   "metadata": {},
   "outputs": [
    {
     "name": "stdout",
     "output_type": "stream",
     "text": [
      "x is greater than y\n"
     ]
    }
   ],
   "source": [
    "x = 20\n",
    "y = 10\n",
    "if x > y:\n",
    "    print(\"x is greater than y\")"
   ]
  },
  {
   "cell_type": "code",
   "execution_count": 36,
   "metadata": {},
   "outputs": [
    {
     "name": "stdout",
     "output_type": "stream",
     "text": [
      "x is greater than y\n"
     ]
    }
   ],
   "source": [
    "x = 20\n",
    "y = 10\n",
    "if x > y:\n",
    "    print(\"x is greater than y\")\n",
    "else:\n",
    "    print(\"x is not greater than y\")"
   ]
  },
  {
   "cell_type": "markdown",
   "metadata": {},
   "source": [
    "## Participation \n",
    "\n",
    "-Calculate the total sum of two numbers, if it is equal to 200, print 200, if otherwise, print the sum."
   ]
  },
  {
   "cell_type": "code",
   "execution_count": 6,
   "metadata": {},
   "outputs": [
    {
     "name": "stdout",
     "output_type": "stream",
     "text": [
      "400\n"
     ]
    }
   ],
   "source": [
    "num1 = 200\n",
    "num2 = 200\n",
    "sum = num1 + num2\n",
    "\n",
    "print(str(sum) + \"You don't need a condtional for this\" )"
   ]
  },
  {
   "cell_type": "markdown",
   "metadata": {},
   "source": [
    "## Lesson Overview - 3.7 Nested Conditionals"
   ]
  },
  {
   "cell_type": "markdown",
   "metadata": {},
   "source": [
    "- Nested conditional statements consist of conditional statements within other conditional statements\n",
    "- Utilizes \"if else\" statements within \"if else\" statements"
   ]
  },
  {
   "cell_type": "markdown",
   "metadata": {},
   "source": [
    "- Basics of a nested conditional:\n"
   ]
  },
  {
   "cell_type": "markdown",
   "metadata": {},
   "source": [
    "- Block Coding Visual of Nested Conditionals:\n",
    "- Example Psuedocode of Nested Conditional Statements\n",
    "\n",
    "# Analyzing Code Walkthrough\n",
    "- Psuedocode to the left, block code to the right\n",
    "- Approach the problem by going through each condition one at a time\n",
    "    - Decide which ones are false to skip and which ones are true to execute\n",
    "\n",
    "- You Try:"
   ]
  },
  {
   "cell_type": "markdown",
   "metadata": {},
   "source": [
    "Psuedocode: \n",
    "Lives would print 4 as the result of the and & or is false it would print 4 as it is the result of 4 - 1 which is the value for lives"
   ]
  },
  {
   "cell_type": "code",
   "execution_count": 2,
   "metadata": {
    "vscode": {
     "languageId": "javascript"
    }
   },
   "outputs": [
    {
     "name": "stdout",
     "output_type": "stream",
     "text": [
      "Please come to retake up to a 90 next week at tutorial!\n"
     ]
    }
   ],
   "source": [
    "score = 82\n",
    "if (score >= 90)\n",
    "{\n",
    "    console.log(\"You got an A, congrats!\")\n",
    "}\n",
    "else\n",
    "{\n",
    "    if (score >= 75)\n",
    "    {\n",
    "        console.log(\"Please come to retake up to a 90 next week at tutorial!\")\n",
    "    }\n",
    "    else\n",
    "    {\n",
    "        console.log(\"You have detention!\")\n",
    "    }\n",
    "}"
   ]
  },
  {
   "cell_type": "code",
   "execution_count": 1,
   "metadata": {
    "vscode": {
     "languageId": "javascript"
    }
   },
   "outputs": [
    {
     "name": "stdout",
     "output_type": "stream",
     "text": [
      "Looks great but lets see if we can cut down on sugar, we don't want diabetes!\n"
     ]
    }
   ],
   "source": [
    "protein = 25\n",
    "carbs = 36\n",
    "sugar = 11\n",
    "if (carbs >= 55 || protein <= 20 || sugar >= 15)\n",
    "{\n",
    "    console.log(\"Your lunch is too unhealthy, please pick a new one\")\n",
    "}\n",
    "else\n",
    "{\n",
    "    if (carbs < 35 || protein < 25)\n",
    "    {\n",
    "    console.log (\"This lunch is alright but try to add some more carbs or protein\")\n",
    "    }\n",
    "    else \n",
    "    {\n",
    "    if (sugar >= 11)\n",
    "    {\n",
    "    console.log (\"Looks great but lets see if we can cut down on sugar, we don't want diabetes!\")\n",
    "    }\n",
    "    else\n",
    "    {\n",
    "        console.log (\"Amazing, you created a healthy lunch!!!\")\n",
    "    }\n",
    "    }\n",
    "}"
   ]
  },
  {
   "cell_type": "markdown",
   "metadata": {},
   "source": [
    "## Writing Nested Code Activity\n",
    "1. Write a program that fits these conditions using nested conditionals:\n",
    "    - If a person has at least 8 hours, they are experienced\n",
    "    - If a person is experienced their salary is 90k, if they have ten hours or above their salary 150k\n",
    "    - If a person is inexperienced their salary is always 50k\n",
    "    - print the salary of the person at the end and whether they are experienced or not"
   ]
  },
  {
   "cell_type": "code",
   "execution_count": 1,
   "metadata": {},
   "outputs": [
    {
     "name": "stdout",
     "output_type": "stream",
     "text": [
      "Jhonny - Experience = False Hours: 2 Wage: $50000\n",
      "Steve - Experience = True Hours: 700 Wage: $90000\n",
      "Billy Bob - Experience = True Hours: 8 Wage: $90000\n",
      "Jhonny - Experience = True Hours: 22 Wage: $90000\n"
     ]
    }
   ],
   "source": [
    "# Feel free to use JS or Python - we won't discriminate whilst grading you!\n",
    "# Here is a python template for you to use.\n",
    "class worker:\n",
    "    def __init__(self, name, hours, wage, experienced):\n",
    "        self.name = name\n",
    "        self.hours = hours\n",
    "        self.wage = wage\n",
    "        self.experienced = experienced\n",
    "names = [\n",
    "    \"Jhonny\", \"Steve\", \"Billy Bob\", \"Jhonny\"\n",
    "]\n",
    "\n",
    "workers = [\n",
    "    worker(names[0], 2, 3, False),\n",
    "    worker(names[1], 700, 1, True),\n",
    "    worker(names[2], 8, 22, False),\n",
    "    worker(names[3], 22, 3, True),\n",
    "]\n",
    "\n",
    "for worker in workers:  \n",
    "    if worker.hours >= 8:\n",
    "        worker.experienced = True \n",
    "    else: \n",
    "        worker.experienced = False \n",
    "    if worker.experienced == True:\n",
    "        worker.wage = 90000\n",
    "    elif worker.experienced == False:\n",
    "        worker.wage = 50000\n",
    "    print(str(worker.name) + \" - Experience = \" + str(worker.experienced) + \" Hours: \" + str(worker.hours) + \" Wage: $\" + str(worker.wage))"
   ]
  },
  {
   "cell_type": "markdown",
   "metadata": {},
   "source": [
    "## Hacks Assignments:\n",
    "**Conditionals**:\n",
    "\n",
    "- Write a program that fits these conditions using nested conditionals:\n",
    "    - If the product is expired, print \"this product is no good\"\n",
    "    - If the cost is above 50 dollars, and the product isn't expired, print \"this product is too expensive\"\n",
    "    - If the cost is 25 dollars but under 50, and the product isn't expired, print \"this is a regular product\"\n",
    "    - If the cost is under 25 dollars, print \"this is a cheap product\""
   ]
  },
  {
   "cell_type": "code",
   "execution_count": 1,
   "metadata": {},
   "outputs": [
    {
     "name": "stdout",
     "output_type": "stream",
     "text": [
      "cookie: this is a regular product\n",
      "\n",
      "milk: this product is no good\n",
      "\n",
      "bread: this product is no good but it is cheap\n",
      "\n",
      "pizza: this is a cheap product\n",
      "\n",
      "banana: this product is too expensive\n",
      "\n",
      "apple: this is a regular product\n",
      "\n",
      "cake: this product is no good\n",
      "\n"
     ]
    }
   ],
   "source": [
    "class food:\n",
    "    def __init__(self, name, expired, cost):\n",
    "        self.name = name\n",
    "        self.expired = expired\n",
    "        self.cost = cost\n",
    "foods = [\"cookie\",\"milk\",\"bread\",\"pizza\",\"banana\",\"apple\",\"cake\"]\n",
    "\n",
    "boxes = [\n",
    "    food(foods[0], False, 26),\n",
    "    food(foods[1], True, 300),\n",
    "    food(foods[2], True, 2),\n",
    "    food(foods[3], False, 15),\n",
    "    food(foods[4], False, 72),\n",
    "    food(foods[5], False, 32),\n",
    "    food(foods[6], True, 3000)\n",
    "]\n",
    "\n",
    "for food in boxes:\n",
    "    if food.cost < 25 and food.expired == True:\n",
    "        print(str(food.name) + \": this product is no good but it is cheap\\n\")\n",
    "    elif food.expired == True:\n",
    "        print(str(food.name) + \": this product is no good\\n\")\n",
    "    elif food.cost >= 50:\n",
    "        print(str(food.name) + \": this product is too expensive\\n\")\n",
    "    elif food.cost >= 25:\n",
    "        print(str(food.name) + \": this is a regular product\\n\")\n",
    "    # It wasn't clear that cheap foods applied to the rule so I added an extra critria to the list\n",
    "    elif food.cost < 25:\n",
    "        print(str(food.name) + \": this is a cheap product\\n\")\n",
    "    \n"
   ]
  },
  {
   "cell_type": "markdown",
   "metadata": {},
   "source": [
    "**Boolean/Conditionals**:\n",
    "- Create a multiple choice quiz that ...\n",
    "    - uses Boolean expressions\n",
    "    - uses Logical operators\n",
    "    - uses Conditional statements\n",
    "    - prompts quiz-taker with multiple options (only one can be right)\n",
    "    - has at least 3 questions\n",
    "- Points will be awarded for creativity, intricacy, and how well Boolean/Binary concepts have been intertwined"
   ]
  },
  {
   "cell_type": "markdown",
   "metadata": {},
   "source": [
    "# Hacks\n",
    "> The quiz below is the main quiz if it is not to your liking as in you do not like the options and the way it works there is a simpler version below"
   ]
  },
  {
   "cell_type": "code",
   "execution_count": 88,
   "metadata": {},
   "outputs": [
    {
     "name": "stdout",
     "output_type": "stream",
     "text": [
      "What is 3*3*1\n",
      " (a) 3^2\n",
      " (b) 9\n",
      " (c) 22\n",
      "\n",
      "Your answers a and c matches only one of the two correct answers which were a and b\n",
      "\n",
      "What is a Boolean\n",
      " (a) A value that stores true or false\n",
      " (b) gold/silver\n",
      " (c) a fancy french pastry\n",
      "\n",
      "Your answer a matches the correct answer which was a\n",
      "\n",
      "Is the moon made of cheese?\n",
      " (t) True\n",
      " (f) False\n",
      "\n",
      "Your answer t doesn't match the correct answer which was f\n",
      "\n",
      "Is Mr.Mortenson extremly handsome and attractive?\n",
      " (a) Yes he is extremly handsome and attractive\n",
      " (b) Yes\n",
      " (c) No\n",
      "\n",
      "Your answers a and b matches the correct answers which were a and b\n",
      "\n",
      "You got 4 out of 6 points. You passed this quiz by scoring a score of 2/6 or higher.\n"
     ]
    }
   ],
   "source": [
    "# This was made for the purpose of havinf multiple conditional statemetns and logical operators if this quiz is not to your liking there is another provided quiz\n",
    "class question(object):\n",
    "    def __init__(self, base, answer1):\n",
    "        self.base = base\n",
    "        self.answer1 = answer1\n",
    "\n",
    "class singlequestion(question):\n",
    "    def __init__(self, base, answer1):\n",
    "        super().__init__(base, answer1)\n",
    "\n",
    "class multiquestion(question):\n",
    "    def __init__(self, base, answer1, answer2):\n",
    "        super().__init__(base, answer1)\n",
    "        self.answer2 = answer2\n",
    "\n",
    "\n",
    "Questions = [\n",
    "    \"What is 3*3*1\\n (a) 3^2\\n (b) 9\\n (c) 22\\n\",\n",
    "    \"\\nWhat is a Boolean\\n (a) A value that stores true or false\\n (b) gold/silver\\n (c) a fancy french pastry\\n\",\n",
    "    \"\\nIs the moon made of cheese?\\n (t) True\\n (f) False\\n\",\n",
    "    \"\\nIs Mr.Mortenson extremly handsome and attractive?\\n (a) Yes he is extremly handsome and attractive\\n (b) Yes\\n (c) No\\n\",\n",
    "\n",
    "]\n",
    "\n",
    "Questions = [\n",
    "    multiquestion(Questions[0], \"a\", \"b\"),\n",
    "    singlequestion(Questions[1], \"a\"),\n",
    "    singlequestion(Questions[2], \"f\"),\n",
    "    multiquestion(Questions[3], \"a\", \"b\"),\n",
    "]\n",
    "\n",
    "def quiz(Q_Bank):\n",
    "    runs = 0\n",
    "    score = 0\n",
    "    for problems in Q_Bank:\n",
    "        print(problems.base)\n",
    "        if isinstance(Q_Bank[runs], multiquestion) == True:\n",
    "            rsp1 = input(\"Answer 1: \" + str(problems.base))\n",
    "            rsp2 = input(\"Answer 2: \" + str(problems.base))\n",
    "            if rsp1.lower().strip() == problems.answer1 and rsp2.lower().strip() == problems.answer2:\n",
    "                print(\"Your answers \" + rsp1 + \" and \" + rsp2 + \" matches the correct answers which were \" + str(problems.answer1) + \" and \" +str(problems.answer2))\n",
    "                score += 2\n",
    "            elif rsp1.lower().strip() == problems.answer1 or rsp2.lower().strip() == problems.answer2:\n",
    "                print(\"Your answers \" + rsp1 + \" and \" + rsp2 + \" matches only one of the two correct answers which were \" + str(problems.answer1) + \" and \" + str(problems.answer2))\n",
    "                score += 1\n",
    "            else:\n",
    "                print(\"Your answers \" + rsp1 + \" and \" + rsp2 + \" doesn't match any of the correct answers which were \" + str(problems.answer1) + str(problems.answer2))\n",
    "        elif isinstance(Q_Bank[runs], singlequestion) == True:\n",
    "            rsp = input(problems.base)\n",
    "            if rsp.lower().strip() == problems.answer1:\n",
    "                print(\"Your answer \" + rsp + \" matches the correct answer which was \" + str(problems.answer1))\n",
    "                score += 1\n",
    "            else:\n",
    "                print(\"Your answer \" + rsp + \" doesn't match the correct answer which was \" + str(problems.answer1))\n",
    "        runs +=1\n",
    "     \n",
    "    if score >= 2:\n",
    "        print (\"\\nYou got \" + str(score)+ \" out of 6 points. You passed this quiz by scoring a score of 2/6 or higher.\")\n",
    "    else:\n",
    "        print(\"\\nYou got \" + str(score)+\" out of 6 points. You have failed this quiz by scoring a score of 2/6 or higher.\")\n",
    "quiz(Questions)\n"
   ]
  },
  {
   "cell_type": "markdown",
   "metadata": {},
   "source": [
    "# Back Up\n",
    "> Same quiz but simpler and without multiquestions "
   ]
  },
  {
   "cell_type": "code",
   "execution_count": 96,
   "metadata": {},
   "outputs": [
    {
     "name": "stdout",
     "output_type": "stream",
     "text": [
      "Is 3*3 = 9?\n",
      " (t) True\n",
      " (f) False\n",
      "\n",
      "\n",
      "Your answer t matches the correct answer which was t\n",
      "What are Booleans?\n",
      " (a) A value that stores true or false\n",
      " (b) gold/silver\n",
      " (c) a fancy french pastry\n",
      "\n",
      "\n",
      "Your answer c doesn't match the correct answer which was a\n",
      "Is the moon made of cheese?\n",
      " (t) True\n",
      " (f) False\n",
      "\n",
      "\n",
      "Your answer t doesn't match the correct answer which was f\n",
      "Is Mr.Mortenson extremly handsome and attractive?\n",
      " (a) Yes he is extremly handsome and attractive\n",
      " (a) \n",
      " (b) No he's not and I hate points. (c) No\n",
      "\n",
      "\n",
      "Your answer a doesn't match the correct answer which was b\n",
      "\n",
      "You got 1 out of 4 points so you have passed this test.\n"
     ]
    }
   ],
   "source": [
    "class question:\n",
    "    def __init__(self, base, answer):\n",
    "        self.base = base\n",
    "        self.answer = answer\n",
    "\n",
    "\n",
    "Questions = [\n",
    "    \"Is 3*3 = 9?\\n (t) True\\n (f) False\\n\",\n",
    "    \"What are Booleans?\\n (a) A value that stores true or false\\n (b) gold/silver\\n (c) a fancy french pastry\\n\",\n",
    "    \"Is the moon made of cheese?\\n (t) True\\n (f) False\\n\",\n",
    "    \"Is Mr.Mortenson extremly handsome and attractive?\\n (a) Yes he is extremly handsome and attractive\\n (a) \\n (b) No he's not and I hate points. (c) No\\n\",\n",
    "\n",
    "]\n",
    "\n",
    "Q_Bank = [\n",
    "    question(Questions[0], \"t\"),\n",
    "    question(Questions[1], \"a\"),\n",
    "    question(Questions[2], \"f\"),\n",
    "    question(Questions[3], \"b\"),\n",
    "]\n",
    "\n",
    "\n",
    "def quiz(Q_Bank):\n",
    "    score = 0\n",
    "    for problem in Q_Bank:\n",
    "        print(problem.base)\n",
    "        rsp = input(problem.base)\n",
    "        if rsp.lower().strip() == problem.answer:\n",
    "            print(\"\\nYour answer \" + rsp + \" matches the correct answer which was \" + str(problem.answer))\n",
    "            score += 1\n",
    "        else:\n",
    "            print(\"\\nYour answer \" + rsp + \" doesn't match the correct answer which was \" + str(problem.answer))\n",
    "    if score >= 1:\n",
    "        print(\"\\nYou got \" + str(score)+\" out of \" + str(len(Q_Bank)) + \" points so you have passed this test.\")\n",
    "    else: \n",
    "        print(\"\\nYou got \" + str(score)+\" out of \" + str(len(Q_Bank)) + \" points so you have failed this test.\")\n",
    "\n",
    "\n",
    "quiz(Q_Bank)"
   ]
  }
 ],
 "metadata": {
  "kernelspec": {
   "display_name": "Python 3.9.12 ('base')",
   "language": "python",
   "name": "python3"
  },
  "language_info": {
   "codemirror_mode": {
    "name": "ipython",
    "version": 3
   },
   "file_extension": ".py",
   "mimetype": "text/x-python",
   "name": "python",
   "nbconvert_exporter": "python",
   "pygments_lexer": "ipython3",
   "version": "3.9.12"
  },
  "orig_nbformat": 4,
  "vscode": {
   "interpreter": {
    "hash": "c01fa961529e9daabe8f923baaa66cec9a05e87366ddea10e0ca4d35fb3358df"
   }
  }
 },
 "nbformat": 4,
 "nbformat_minor": 2
}
