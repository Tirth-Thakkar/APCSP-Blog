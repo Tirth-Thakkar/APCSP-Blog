{
 "cells": [
  {
   "attachments": {},
   "cell_type": "markdown",
   "metadata": {},
   "source": [
    "# Safe Computing - 5.6 \n",
    "> A reflection on encryption and personal information\n",
    "- title: Safe Computing - 5.6\n",
    "- toc: true\n",
    "- badges: false\n",
    "- tags: [week22]\n",
    "- categories: [week22]"
   ]
  },
  {
   "attachments": {},
   "cell_type": "markdown",
   "metadata": {},
   "source": [
    "## Personal Identifiable Information (PII)\n",
    "- PII is any information that can be used to identify, contact, or locate a single person, or to identify an individual in context.\n",
    "- PII can be made up of a variety of different kinds of data, including names, addresses, phone numbers, email addresses, social security numbers, and other identifiers. \n",
    "- PII can also include information about a person’s physical or mental health, financial information, or other information that can be used to identify a person.\n",
    "- The kind of PII that we've seen in our personal projects is the storing of use data in a login system such as the user's information, uid, username, password, etc. This kind of information can tie an account to a person's identity.\n",
    "- We have also seen personal information when signing up for services that we use such as accounts for microsoft, google, github, etc. which store emails, phone numbers, often address and other information while setting up the tools that we use to create our projects. \n",
    "\n",
    "## Feeling PII & Personal Exposure\n",
    "- My feelings about PII is that they are needed for the creation for accounts and are the only way to create a way in a single person can be tied to a single account. My personal exposure to these concepts is through the creation of accounts for services that I use such as github, google, microsoft, youtube, etc. This will mean that if there is a data breach, my information will be exposed to the public and can be used to steal content such as my identity, my credit card information, my bank account information, etc.\n",
    "\n",
    "## Good Vs. Bad Password\n",
    "- A good password is one that are random, complex, and long as it makes them harder to decrypt and social engineer and makes them harder to guess or trick out of you. Bad passwords are ones that are easy to guess, easy to social engineer, or easy to trick out of you such as your name, your birthday, your address, your phone number, pet's name, etc. \n",
    "\n",
    "## Symmetric & Asymmetric Encryption \n",
    "- Symmetric encryption is a type of encryption where the same key is used to encrypt and decrypt the data. This is the most common type of encryption that we see in our daily lives such as the encryption of our passwords. This means that there is a faster encryption and decryption process as the same key is used for both. Example Symmetric Encryption: AES, DES, 3DES, etc.\n",
    "\n",
    "- Asymmetric encryption is a type of encryption where there are two keys, a public key and a private key. The public key is used to encrypt the data and the private key is used to decrypt the data. This is the type of encryption that we see in our daily lives when we use https websites such as google, github, etc.\n",
    "Example Asymmetric Encryption: RSA, ECC, etc.\n",
    "\n",
    "\n",
    "## AWS Deployment\n",
    "- We used private and public ssh keys while deploying our project to AWS we also created a .pem file that we used to ssh into our instance. We used some basic encryption in our AWS project. However, other than that I don't think we used any other encryption in our project as we were not knowledgeable enough to do so.\n",
    "\n",
    "## How I got Phished\n",
    "- I was once sent an email by a group claiming to be Wells Fargo Customer Service. The email was sent to my personal email and was asking me to verify my account information. I was asked to click on a link and enter my information. However, considering the fact that I don't have a Wells Fargo account, I knew that this was a phishing email. However, had I been tricked I may have entered in sensitive information such as my social security number, my bank account information, etc.\n",
    "\n"
   ]
  }
 ],
 "metadata": {
  "kernelspec": {
   "display_name": "Python 3",
   "language": "python",
   "name": "python3"
  },
  "language_info": {
   "name": "python",
   "version": "3.10.6"
  },
  "orig_nbformat": 4,
  "vscode": {
   "interpreter": {
    "hash": "916dbcbb3f70747c44a77c7bcd40155683ae19c65e1c03b4aa3499c5328201f1"
   }
  }
 },
 "nbformat": 4,
 "nbformat_minor": 2
}
